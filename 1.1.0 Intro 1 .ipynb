{
 "cells": [
  {
   "cell_type": "markdown",
   "id": "d7549688-9d26-42f7-83aa-64e637f4902c",
   "metadata": {},
   "source": [
    "## Keyboard Command Key\n"
   ]
  },
  {
   "cell_type": "code",
   "execution_count": null,
   "id": "59253e2f-aa54-44da-b8f8-2cad635cbc5a",
   "metadata": {},
   "outputs": [],
   "source": [
    "# A - Upwards\n",
    "# B - Downwards\n",
    "# 2 times D - Delete\n",
    "# Z - Undo\n",
    "# X - Cut\n",
    "# V - Paste\n",
    "# Hastag in front of any line, that bacisally becomes a comment"
   ]
  },
  {
   "cell_type": "code",
   "execution_count": 18,
   "id": "2dddca09-db89-4e7e-a997-045e8e394fa3",
   "metadata": {},
   "outputs": [
    {
     "data": {
      "text/plain": [
       "5"
      ]
     },
     "execution_count": 18,
     "metadata": {},
     "output_type": "execute_result"
    }
   ],
   "source": [
    "# Adding 2 numbers\n",
    "a = 2\n",
    "b = 3\n",
    "a+b"
   ]
  },
  {
   "cell_type": "code",
   "execution_count": null,
   "id": "a1c30266-5db8-4a1a-ab53-710de25d2642",
   "metadata": {},
   "outputs": [],
   "source": []
  },
  {
   "cell_type": "code",
   "execution_count": null,
   "id": "6bc1d3f0-4ee6-4553-9e94-ec9273040491",
   "metadata": {},
   "outputs": [],
   "source": []
  },
  {
   "cell_type": "code",
   "execution_count": null,
   "id": "1c2e82ec-65a6-4ad0-8868-4b8d837f8882",
   "metadata": {},
   "outputs": [],
   "source": []
  },
  {
   "cell_type": "code",
   "execution_count": null,
   "id": "58b872f0-d0ba-487f-a293-af331154c57b",
   "metadata": {},
   "outputs": [],
   "source": []
  },
  {
   "cell_type": "code",
   "execution_count": null,
   "id": "7b0861e8-163b-41bc-a9f3-cb0fb6527d9b",
   "metadata": {},
   "outputs": [],
   "source": []
  }
 ],
 "metadata": {
  "kernelspec": {
   "display_name": "Python [conda env:anaconda3] *",
   "language": "python",
   "name": "conda-env-anaconda3-py"
  },
  "language_info": {
   "codemirror_mode": {
    "name": "ipython",
    "version": 3
   },
   "file_extension": ".py",
   "mimetype": "text/x-python",
   "name": "python",
   "nbconvert_exporter": "python",
   "pygments_lexer": "ipython3",
   "version": "3.11.5"
  }
 },
 "nbformat": 4,
 "nbformat_minor": 5
}
