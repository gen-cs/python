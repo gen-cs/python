{
 "cells": [
  {
   "cell_type": "markdown",
   "id": "5a6fba15-a800-449b-a9dd-b8e2c1e82cc1",
   "metadata": {},
   "source": [
    "# keyboard commands\n"
   ]
  },
  {
   "cell_type": "code",
   "execution_count": 54,
   "id": "21842fb3-868e-416b-971a-32e0c1cad3f7",
   "metadata": {},
   "outputs": [],
   "source": [
    "# A - Upwards\n",
    "# B - Downwards\n",
    "# D - two times D - to delete\n",
    "# Z - Undo\n",
    "# x - Cut\n",
    "# v - Paste\n",
    "# Hastag in front of any line, that basically become a comment."
   ]
  },
  {
   "cell_type": "markdown",
   "id": "e7bfe344-8650-48ca-8fae-7d4309d5ef1c",
   "metadata": {},
   "source": [
    "## Arithematic Operators in Python"
   ]
  },
  {
   "cell_type": "markdown",
   "id": "a9275015-cbce-4d3c-8157-558fae2b61cb",
   "metadata": {},
   "source": [
    "1) Addition\n",
    "2) Subtraction\n",
    "3) Multiplication\n",
    "4) Division\n",
    "5) Floor Division\n",
    "6) Modulus\n",
    "7) Exponentiation"
   ]
  },
  {
   "cell_type": "code",
   "execution_count": 57,
   "id": "bb3500b8-26c9-40ca-809f-03a576a0307a",
   "metadata": {},
   "outputs": [
    {
     "data": {
      "text/plain": [
       "7"
      ]
     },
     "execution_count": 57,
     "metadata": {},
     "output_type": "execute_result"
    }
   ],
   "source": [
    "#Addtion\n",
    "3 + 4"
   ]
  },
  {
   "cell_type": "code",
   "execution_count": 59,
   "id": "a6f09af7-0502-42ca-81ea-e5f82ff3a1ad",
   "metadata": {},
   "outputs": [
    {
     "data": {
      "text/plain": [
       "7"
      ]
     },
     "execution_count": 59,
     "metadata": {},
     "output_type": "execute_result"
    }
   ],
   "source": [
    "# Addtion\n",
    "3+4"
   ]
  },
  {
   "cell_type": "code",
   "execution_count": 72,
   "id": "e51b609f-64f8-4cb1-ae3c-3c64566aef39",
   "metadata": {},
   "outputs": [
    {
     "data": {
      "text/plain": [
       "3882876"
      ]
     },
     "execution_count": 72,
     "metadata": {},
     "output_type": "execute_result"
    }
   ],
   "source": [
    "# Best way \n",
    "# a, b, c are letters in english but when it comes to python, it is reffered as Variable\n",
    "a = 3877987\n",
    "b = 4889\n",
    "c = a + b\n",
    "c"
   ]
  },
  {
   "cell_type": "code",
   "execution_count": 61,
   "id": "b72877cb-b9d8-4d5a-8ce8-3c752a7d730f",
   "metadata": {},
   "outputs": [
    {
     "data": {
      "text/plain": [
       "3"
      ]
     },
     "execution_count": 61,
     "metadata": {},
     "output_type": "execute_result"
    }
   ],
   "source": [
    "# Subtraction\n",
    "10-7"
   ]
  },
  {
   "cell_type": "code",
   "execution_count": 63,
   "id": "c568cf03-1241-4511-9830-9432e949e2d6",
   "metadata": {},
   "outputs": [
    {
     "data": {
      "text/plain": [
       "3"
      ]
     },
     "execution_count": 63,
     "metadata": {},
     "output_type": "execute_result"
    }
   ],
   "source": [
    "10 - 7"
   ]
  },
  {
   "cell_type": "code",
   "execution_count": 76,
   "id": "ee7608cd-7173-44fa-9516-251dad00afde",
   "metadata": {},
   "outputs": [
    {
     "data": {
      "text/plain": [
       "3"
      ]
     },
     "execution_count": 76,
     "metadata": {},
     "output_type": "execute_result"
    }
   ],
   "source": [
    "a = 10\n",
    "b = 7\n",
    "c = a - b\n",
    "c"
   ]
  },
  {
   "cell_type": "code",
   "execution_count": 84,
   "id": "85c5b3c7-c1d4-493d-aa8f-925c63ece23e",
   "metadata": {},
   "outputs": [
    {
     "data": {
      "text/plain": [
       "12"
      ]
     },
     "execution_count": 84,
     "metadata": {},
     "output_type": "execute_result"
    }
   ],
   "source": [
    "# Multiplication\n",
    "a = 3\n",
    "b = 4\n",
    "a * b"
   ]
  },
  {
   "cell_type": "code",
   "execution_count": 90,
   "id": "93b15293-f1d0-4e03-b9fd-50cc62c30494",
   "metadata": {},
   "outputs": [
    {
     "data": {
      "text/plain": [
       "155031565911945110657902"
      ]
     },
     "execution_count": 90,
     "metadata": {},
     "output_type": "execute_result"
    }
   ],
   "source": [
    "a = 384754985749\n",
    "b = 402935820598\n",
    "c = a * b\n",
    "c"
   ]
  },
  {
   "cell_type": "code",
   "execution_count": 94,
   "id": "7bcff41e-ad9a-4fe6-bfc7-2adc1d73abf5",
   "metadata": {},
   "outputs": [
    {
     "data": {
      "text/plain": [
       "12"
      ]
     },
     "execution_count": 94,
     "metadata": {},
     "output_type": "execute_result"
    }
   ],
   "source": [
    "c = 3 * 4\n",
    "c"
   ]
  },
  {
   "cell_type": "code",
   "execution_count": 100,
   "id": "5934970b-fe0e-474a-a6f8-85bbc08d24df",
   "metadata": {},
   "outputs": [
    {
     "data": {
      "text/plain": [
       "50"
      ]
     },
     "execution_count": 100,
     "metadata": {},
     "output_type": "execute_result"
    }
   ],
   "source": [
    "# two number: 5 & 10\n",
    "a = 5\n",
    "b = 10\n",
    "c = a * b\n",
    "c"
   ]
  },
  {
   "cell_type": "code",
   "execution_count": 102,
   "id": "aeff7298-9e04-4239-99d9-6be841b8d2ac",
   "metadata": {},
   "outputs": [
    {
     "data": {
      "text/plain": [
       "120"
      ]
     },
     "execution_count": 102,
     "metadata": {},
     "output_type": "execute_result"
    }
   ],
   "source": [
    "# Four numbers: 2, 3, 4, 5\n",
    "a = 2\n",
    "b = 3\n",
    "c = 4\n",
    "d = 5\n",
    "e = a * b * c * d\n",
    "e"
   ]
  },
  {
   "cell_type": "code",
   "execution_count": 106,
   "id": "158fb551-5dbe-47d0-b4a8-0eac41889413",
   "metadata": {},
   "outputs": [
    {
     "data": {
      "text/plain": [
       "3.3333333333333335"
      ]
     },
     "execution_count": 106,
     "metadata": {},
     "output_type": "execute_result"
    }
   ],
   "source": [
    "# Division: 10 by 3\n",
    "a = 10\n",
    "b = 3\n",
    "c = a/b\n",
    "c"
   ]
  },
  {
   "cell_type": "code",
   "execution_count": 122,
   "id": "aa96b7af-7280-4c59-a90b-de1faacb782a",
   "metadata": {},
   "outputs": [
    {
     "data": {
      "text/plain": [
       "142.85714285714286"
      ]
     },
     "execution_count": 122,
     "metadata": {},
     "output_type": "execute_result"
    }
   ],
   "source": [
    "# Divide 100 by 7\n",
    "x = 1000\n",
    "y = 7\n",
    "z = x / y\n",
    "z\n"
   ]
  },
  {
   "cell_type": "code",
   "execution_count": 124,
   "id": "cf7e77fb-97f0-4b87-bd70-0be09fe932d9",
   "metadata": {},
   "outputs": [
    {
     "data": {
      "text/plain": [
       "3"
      ]
     },
     "execution_count": 124,
     "metadata": {},
     "output_type": "execute_result"
    }
   ],
   "source": [
    "# Floor Division\n",
    "a = 10 \n",
    "b =  3\n",
    "c = a // b\n",
    "c"
   ]
  },
  {
   "cell_type": "code",
   "execution_count": 126,
   "id": "962c329e-58ec-40c4-bff3-1698abb81f22",
   "metadata": {},
   "outputs": [
    {
     "data": {
      "text/plain": [
       "1"
      ]
     },
     "execution_count": 126,
     "metadata": {},
     "output_type": "execute_result"
    }
   ],
   "source": [
    "# Floor Division\n",
    "x = 10\n",
    "y = 7\n",
    "z= x//y\n",
    "z"
   ]
  },
  {
   "cell_type": "code",
   "execution_count": 128,
   "id": "b3197f9a-ed50-462d-bf33-f15a3311fb1e",
   "metadata": {},
   "outputs": [
    {
     "data": {
      "text/plain": [
       "1"
      ]
     },
     "execution_count": 128,
     "metadata": {},
     "output_type": "execute_result"
    }
   ],
   "source": [
    "# Modulus - It gives you the remainder\n",
    "\n",
    "a = 10\n",
    "b = 3\n",
    "c = a % b\n",
    "c"
   ]
  },
  {
   "cell_type": "code",
   "execution_count": 132,
   "id": "6dcf01b3-5973-4f09-acb8-71b12de4b6f4",
   "metadata": {},
   "outputs": [
    {
     "data": {
      "text/plain": [
       "3"
      ]
     },
     "execution_count": 132,
     "metadata": {},
     "output_type": "execute_result"
    }
   ],
   "source": [
    "# Modulus - It gives you the remainder\n",
    "\n",
    "a = 10\n",
    "b = 7\n",
    "c = a % b\n",
    "c"
   ]
  },
  {
   "cell_type": "code",
   "execution_count": 134,
   "id": "6230e0a6-b989-4532-a202-364d2a5751de",
   "metadata": {},
   "outputs": [
    {
     "data": {
      "text/plain": [
       "8"
      ]
     },
     "execution_count": 134,
     "metadata": {},
     "output_type": "execute_result"
    }
   ],
   "source": [
    "# Exponential (**)\n",
    "a = 2\n",
    "b = 3\n",
    "c = a**b # 2^3 = 2*2*2\n",
    "c"
   ]
  },
  {
   "cell_type": "code",
   "execution_count": 136,
   "id": "b5e6d2e5-0c8f-45a8-9888-03b1693a07db",
   "metadata": {},
   "outputs": [
    {
     "data": {
      "text/plain": [
       "4"
      ]
     },
     "execution_count": 136,
     "metadata": {},
     "output_type": "execute_result"
    }
   ],
   "source": [
    "# Exponential (**)\n",
    "a = 4\n",
    "b = 1\n",
    "c = a**b # 4^1 = 4\n",
    "c"
   ]
  },
  {
   "cell_type": "code",
   "execution_count": 139,
   "id": "50b4a314-a924-4854-baf4-a30015b81df0",
   "metadata": {},
   "outputs": [
    {
     "data": {
      "text/plain": [
       "2"
      ]
     },
     "execution_count": 139,
     "metadata": {},
     "output_type": "execute_result"
    }
   ],
   "source": [
    "b = 2\n",
    "# The variable b will always take the most recent value.\n",
    "b"
   ]
  },
  {
   "cell_type": "code",
   "execution_count": 143,
   "id": "8c6fd7bd-e3a7-4e59-8052-cbc9d2c3d4b4",
   "metadata": {},
   "outputs": [
    {
     "data": {
      "text/plain": [
       "8"
      ]
     },
     "execution_count": 143,
     "metadata": {},
     "output_type": "execute_result"
    }
   ],
   "source": [
    "A = 3\n",
    "B = 5\n",
    "C = A + B\n",
    "C\n"
   ]
  },
  {
   "cell_type": "code",
   "execution_count": 145,
   "id": "ebf001d1-8be0-4847-9577-a9b2caf77f6d",
   "metadata": {},
   "outputs": [
    {
     "ename": "NameError",
     "evalue": "name 'R' is not defined",
     "output_type": "error",
     "traceback": [
      "\u001b[0;31m---------------------------------------------------------------------------\u001b[0m",
      "\u001b[0;31mNameError\u001b[0m                                 Traceback (most recent call last)",
      "Cell \u001b[0;32mIn[145], line 3\u001b[0m\n\u001b[1;32m      1\u001b[0m \u001b[38;5;66;03m# a is not same a A\u001b[39;00m\n\u001b[1;32m      2\u001b[0m r \u001b[38;5;241m=\u001b[39m \u001b[38;5;241m45\u001b[39m\n\u001b[0;32m----> 3\u001b[0m R\n",
      "\u001b[0;31mNameError\u001b[0m: name 'R' is not defined"
     ]
    }
   ],
   "source": [
    "# a is not same a A\n",
    "r = 45\n",
    "R\n",
    "\n",
    "# Lesson: Python is case sensitive which means: R is differnt from r.\n",
    "# Similarly A is differnt from a"
   ]
  },
  {
   "cell_type": "code",
   "execution_count": null,
   "id": "7666073c-0073-457d-bd94-05dc6be6bc70",
   "metadata": {},
   "outputs": [],
   "source": []
  }
 ],
 "metadata": {
  "kernelspec": {
   "display_name": "Python [conda env:anaconda3] *",
   "language": "python",
   "name": "conda-env-anaconda3-py"
  },
  "language_info": {
   "codemirror_mode": {
    "name": "ipython",
    "version": 3
   },
   "file_extension": ".py",
   "mimetype": "text/x-python",
   "name": "python",
   "nbconvert_exporter": "python",
   "pygments_lexer": "ipython3",
   "version": "3.11.5"
  }
 },
 "nbformat": 4,
 "nbformat_minor": 5
}
