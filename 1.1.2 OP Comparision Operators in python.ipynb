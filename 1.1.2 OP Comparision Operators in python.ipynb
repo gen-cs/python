{
 "cells": [
  {
   "cell_type": "markdown",
   "id": "c1ec788f-fff2-4ea5-99b2-677a9a10ca03",
   "metadata": {},
   "source": [
    "# Comparision Operators"
   ]
  },
  {
   "cell_type": "markdown",
   "id": "a04c1de7-9e72-4f30-a4d5-ce84f9bfe915",
   "metadata": {},
   "source": [
    "1) Equal ==\n",
    "2) Not Equal !=\n",
    "3) Greater than >\n",
    "4) Less than <\n",
    "5) Greater than or equal to >=\n",
    "6) Less than or equal to <=\n"
   ]
  },
  {
   "cell_type": "code",
   "execution_count": null,
   "id": "78ecd8c4-0b87-4b42-a360-7912f39fbc3c",
   "metadata": {},
   "outputs": [],
   "source": [
    "# Differnece between = and ==\n",
    "# = we are assinging the values\n",
    "# == Comparision"
   ]
  },
  {
   "cell_type": "code",
   "execution_count": 4,
   "id": "28e393e1-9033-4635-856c-c10fc1a07d00",
   "metadata": {},
   "outputs": [
    {
     "data": {
      "text/plain": [
       "False"
      ]
     },
     "execution_count": 4,
     "metadata": {},
     "output_type": "execute_result"
    }
   ],
   "source": [
    "# 1) Equal ==\n",
    "a = 7 # Assinging\n",
    "b = 8 # Assinging\n",
    "a == b # Comparing a with b\n"
   ]
  },
  {
   "cell_type": "code",
   "execution_count": 6,
   "id": "78607a71-70bf-417a-a94d-9014b055a178",
   "metadata": {},
   "outputs": [
    {
     "data": {
      "text/plain": [
       "True"
      ]
     },
     "execution_count": 6,
     "metadata": {},
     "output_type": "execute_result"
    }
   ],
   "source": [
    "a = 10\n",
    "b = 10\n",
    "a == b"
   ]
  },
  {
   "cell_type": "code",
   "execution_count": 8,
   "id": "fc379611-12c5-4071-98da-2636b2e23bf9",
   "metadata": {},
   "outputs": [
    {
     "data": {
      "text/plain": [
       "False"
      ]
     },
     "execution_count": 8,
     "metadata": {},
     "output_type": "execute_result"
    }
   ],
   "source": [
    "a = 10\n",
    "a == 8"
   ]
  },
  {
   "cell_type": "code",
   "execution_count": 16,
   "id": "6862f64d-49e7-447d-aa0d-14f63f0f06c4",
   "metadata": {},
   "outputs": [
    {
     "data": {
      "text/plain": [
       "True"
      ]
     },
     "execution_count": 16,
     "metadata": {},
     "output_type": "execute_result"
    }
   ],
   "source": [
    "# 2) Not equal !=\n",
    "\n",
    "x = 10\n",
    "y = 6\n",
    "x != y"
   ]
  },
  {
   "cell_type": "code",
   "execution_count": 14,
   "id": "530e0ffe-19d6-402c-bebb-d0d74cd8697e",
   "metadata": {},
   "outputs": [
    {
     "data": {
      "text/plain": [
       "False"
      ]
     },
     "execution_count": 14,
     "metadata": {},
     "output_type": "execute_result"
    }
   ],
   "source": [
    "# Not equal !=\n",
    "\n",
    "x = 100\n",
    "y = 100\n",
    "x != y"
   ]
  },
  {
   "cell_type": "code",
   "execution_count": 18,
   "id": "b657d068-b523-4aa7-8c3d-c3517914a8b3",
   "metadata": {},
   "outputs": [
    {
     "data": {
      "text/plain": [
       "False"
      ]
     },
     "execution_count": 18,
     "metadata": {},
     "output_type": "execute_result"
    }
   ],
   "source": [
    "# 3) Greater than >\n",
    "\n",
    "x = 90\n",
    "y = 100\n",
    "z = x > y\n",
    "z"
   ]
  },
  {
   "cell_type": "code",
   "execution_count": 21,
   "id": "b5049a5c-c05c-40ac-81de-fe853c2452c2",
   "metadata": {},
   "outputs": [
    {
     "data": {
      "text/plain": [
       "True"
      ]
     },
     "execution_count": 21,
     "metadata": {},
     "output_type": "execute_result"
    }
   ],
   "source": [
    "# Greater than >\n",
    "a = 10\n",
    "b = 5\n",
    "a > b"
   ]
  },
  {
   "cell_type": "code",
   "execution_count": 23,
   "id": "843765a1-e380-485f-a0ad-bd17dfc3a1a5",
   "metadata": {},
   "outputs": [
    {
     "data": {
      "text/plain": [
       "False"
      ]
     },
     "execution_count": 23,
     "metadata": {},
     "output_type": "execute_result"
    }
   ],
   "source": [
    "# 4) Less than\n",
    "a = 5\n",
    "b = 0\n",
    "a < b"
   ]
  },
  {
   "cell_type": "code",
   "execution_count": 25,
   "id": "fbeca5fc-aa6c-431b-87a3-61a93919b06d",
   "metadata": {},
   "outputs": [
    {
     "data": {
      "text/plain": [
       "False"
      ]
     },
     "execution_count": 25,
     "metadata": {},
     "output_type": "execute_result"
    }
   ],
   "source": [
    "z = 100\n",
    "z < 50"
   ]
  },
  {
   "cell_type": "code",
   "execution_count": 27,
   "id": "6b81d91a-78b0-4434-bce3-f285b964bec8",
   "metadata": {},
   "outputs": [
    {
     "data": {
      "text/plain": [
       "True"
      ]
     },
     "execution_count": 27,
     "metadata": {},
     "output_type": "execute_result"
    }
   ],
   "source": [
    "# 5) Greater than or equal to >=\n",
    "x = 10\n",
    "y = 20\n",
    "y >= x"
   ]
  },
  {
   "cell_type": "code",
   "execution_count": 29,
   "id": "7647e3de-0148-4867-93f7-b852876e6f17",
   "metadata": {},
   "outputs": [
    {
     "data": {
      "text/plain": [
       "True"
      ]
     },
     "execution_count": 29,
     "metadata": {},
     "output_type": "execute_result"
    }
   ],
   "source": [
    "# 5) Greater than or equal to >=\n",
    "x = 10\n",
    "y = 10\n",
    "y >= x"
   ]
  },
  {
   "cell_type": "code",
   "execution_count": 31,
   "id": "0c9dd2fe-8f16-4d7e-9d4b-1a5619793a35",
   "metadata": {},
   "outputs": [
    {
     "data": {
      "text/plain": [
       "False"
      ]
     },
     "execution_count": 31,
     "metadata": {},
     "output_type": "execute_result"
    }
   ],
   "source": [
    "# 5) Greater than or equal to >=\n",
    "x = 100\n",
    "y = 10\n",
    "y >= x"
   ]
  },
  {
   "cell_type": "code",
   "execution_count": 35,
   "id": "53321494-252b-44a4-ace5-19d336a239df",
   "metadata": {},
   "outputs": [
    {
     "data": {
      "text/plain": [
       "False"
      ]
     },
     "execution_count": 35,
     "metadata": {},
     "output_type": "execute_result"
    }
   ],
   "source": [
    "# 6) Less than or equal to  <=\n",
    "x = 10\n",
    "y = 20\n",
    "y <= x"
   ]
  },
  {
   "cell_type": "code",
   "execution_count": 37,
   "id": "d77bdc7e-a812-46b1-8e51-81486dc668b3",
   "metadata": {},
   "outputs": [
    {
     "data": {
      "text/plain": [
       "True"
      ]
     },
     "execution_count": 37,
     "metadata": {},
     "output_type": "execute_result"
    }
   ],
   "source": [
    "x = 10\n",
    "y = 9\n",
    "y <= x"
   ]
  },
  {
   "cell_type": "code",
   "execution_count": 39,
   "id": "35e3ab69-d2a1-4c58-825d-e89121cb04a8",
   "metadata": {},
   "outputs": [
    {
     "data": {
      "text/plain": [
       "True"
      ]
     },
     "execution_count": 39,
     "metadata": {},
     "output_type": "execute_result"
    }
   ],
   "source": [
    "x = 10\n",
    "y = 10\n",
    "y <= x"
   ]
  },
  {
   "cell_type": "code",
   "execution_count": 43,
   "id": "d3999761-fad4-4c83-b4b9-11bf06801c22",
   "metadata": {},
   "outputs": [
    {
     "data": {
      "text/plain": [
       "False"
      ]
     },
     "execution_count": 43,
     "metadata": {},
     "output_type": "execute_result"
    }
   ],
   "source": [
    "x = 10\n",
    "y = 20\n",
    "y <= x\n"
   ]
  },
  {
   "cell_type": "code",
   "execution_count": null,
   "id": "501a03cd-f6d1-4ee2-a336-51358c36f39a",
   "metadata": {},
   "outputs": [],
   "source": []
  }
 ],
 "metadata": {
  "kernelspec": {
   "display_name": "Python [conda env:anaconda3] *",
   "language": "python",
   "name": "conda-env-anaconda3-py"
  },
  "language_info": {
   "codemirror_mode": {
    "name": "ipython",
    "version": 3
   },
   "file_extension": ".py",
   "mimetype": "text/x-python",
   "name": "python",
   "nbconvert_exporter": "python",
   "pygments_lexer": "ipython3",
   "version": "3.11.5"
  }
 },
 "nbformat": 4,
 "nbformat_minor": 5
}
