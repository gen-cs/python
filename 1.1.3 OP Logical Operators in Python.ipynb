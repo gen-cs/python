{
 "cells": [
  {
   "cell_type": "markdown",
   "id": "c1eaf655-4702-4828-b79e-baae00eb57b5",
   "metadata": {},
   "source": [
    "# Logical operators"
   ]
  },
  {
   "cell_type": "markdown",
   "id": "8c9fa1a3-3fd8-4fc2-bcae-e82ec61cbe84",
   "metadata": {},
   "source": [
    "1) and : return True if the both the staement are true\n",
    "2) or : return true if one of the staement is true\n",
    "3) not : reverse the result (return False if the result is True)"
   ]
  },
  {
   "cell_type": "code",
   "execution_count": 7,
   "id": "01b5978d-d947-4a60-9016-6141337295ae",
   "metadata": {},
   "outputs": [
    {
     "data": {
      "text/plain": [
       "False"
      ]
     },
     "execution_count": 7,
     "metadata": {},
     "output_type": "execute_result"
    }
   ],
   "source": [
    "# 1) and \n",
    "x = 10\n",
    "x < 5 and x < 8"
   ]
  },
  {
   "cell_type": "code",
   "execution_count": 3,
   "id": "7d923967-33bd-4d0b-8763-b685f8ddfdee",
   "metadata": {},
   "outputs": [
    {
     "data": {
      "text/plain": [
       "False"
      ]
     },
     "execution_count": 3,
     "metadata": {},
     "output_type": "execute_result"
    }
   ],
   "source": [
    "# 1) and \n",
    "x = 6\n",
    "x < 5 and x < 8"
   ]
  },
  {
   "cell_type": "code",
   "execution_count": 5,
   "id": "9729d240-5a8a-4e29-bb28-50581d5394e8",
   "metadata": {},
   "outputs": [
    {
     "data": {
      "text/plain": [
       "True"
      ]
     },
     "execution_count": 5,
     "metadata": {},
     "output_type": "execute_result"
    }
   ],
   "source": [
    "# 1) and \n",
    "x = 3\n",
    "x < 5 and x < 8"
   ]
  },
  {
   "cell_type": "code",
   "execution_count": 11,
   "id": "050087eb-88e7-490e-ba17-621030841bc2",
   "metadata": {},
   "outputs": [
    {
     "data": {
      "text/plain": [
       "False"
      ]
     },
     "execution_count": 11,
     "metadata": {},
     "output_type": "execute_result"
    }
   ],
   "source": [
    "# 2) or\n",
    "x = 9\n",
    "x < 5 or x > 11"
   ]
  },
  {
   "cell_type": "code",
   "execution_count": 13,
   "id": "ba0eed16-75c5-44f6-84d9-8dfea70df99f",
   "metadata": {},
   "outputs": [
    {
     "data": {
      "text/plain": [
       "True"
      ]
     },
     "execution_count": 13,
     "metadata": {},
     "output_type": "execute_result"
    }
   ],
   "source": [
    "# 2) or\n",
    "x = 12\n",
    "x < 5 or x > 11"
   ]
  },
  {
   "cell_type": "code",
   "execution_count": 15,
   "id": "642d1aff-3c73-4548-8969-2178465c9bf5",
   "metadata": {},
   "outputs": [
    {
     "data": {
      "text/plain": [
       "True"
      ]
     },
     "execution_count": 15,
     "metadata": {},
     "output_type": "execute_result"
    }
   ],
   "source": [
    "# not \n",
    "x = 5\n",
    "not (x==3) "
   ]
  },
  {
   "cell_type": "code",
   "execution_count": 17,
   "id": "f711655f-4f20-4b88-b572-b85779e4b03a",
   "metadata": {},
   "outputs": [
    {
     "data": {
      "text/plain": [
       "False"
      ]
     },
     "execution_count": 17,
     "metadata": {},
     "output_type": "execute_result"
    }
   ],
   "source": [
    "# not \n",
    "x = 5\n",
    "(x==3)"
   ]
  },
  {
   "cell_type": "code",
   "execution_count": 19,
   "id": "39debf65-c358-490e-a47b-7d8b52f399f5",
   "metadata": {},
   "outputs": [
    {
     "data": {
      "text/plain": [
       "False"
      ]
     },
     "execution_count": 19,
     "metadata": {},
     "output_type": "execute_result"
    }
   ],
   "source": [
    "a = 10\n",
    "not (a > 4)"
   ]
  },
  {
   "cell_type": "markdown",
   "id": "5da10a96-3a0a-429c-b367-90b262ec57c1",
   "metadata": {},
   "source": []
  },
  {
   "cell_type": "code",
   "execution_count": null,
   "id": "acbba4f1-fbaf-461b-8e47-6415c8f48826",
   "metadata": {},
   "outputs": [],
   "source": []
  }
 ],
 "metadata": {
  "kernelspec": {
   "display_name": "Python [conda env:anaconda3] *",
   "language": "python",
   "name": "conda-env-anaconda3-py"
  },
  "language_info": {
   "codemirror_mode": {
    "name": "ipython",
    "version": 3
   },
   "file_extension": ".py",
   "mimetype": "text/x-python",
   "name": "python",
   "nbconvert_exporter": "python",
   "pygments_lexer": "ipython3",
   "version": "3.11.5"
  }
 },
 "nbformat": 4,
 "nbformat_minor": 5
}
