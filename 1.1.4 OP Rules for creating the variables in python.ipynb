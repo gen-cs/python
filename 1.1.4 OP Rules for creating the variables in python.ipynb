{
 "cells": [
  {
   "cell_type": "markdown",
   "id": "d94a3e5c-8998-4829-aa7f-b055097ac70a",
   "metadata": {},
   "source": [
    "# Rules for creating the variables in python"
   ]
  },
  {
   "cell_type": "markdown",
   "id": "59e4b5e0-5171-435c-a2f2-a51028af8ed8",
   "metadata": {},
   "source": [
    "#### Rule 1: The variable name must start with a letter or a underscore (_)\n",
    "#### Rule 2: The variable name can only contain letters (a-z), (A-Z), digit (0-9) and underscore(_)\n",
    "#### Rule 3: The variable name are case sensitive\n",
    "#### Rule 4: The variable name should not be a python keyword\n"
   ]
  },
  {
   "cell_type": "code",
   "execution_count": 10,
   "id": "c0f1c8c6-e362-4992-a6f4-616535435585",
   "metadata": {},
   "outputs": [],
   "source": [
    "#Rule 1: The variable name must start with a letter or a underscore (_)\n",
    "a = 5 \n",
    "_a = 4"
   ]
  },
  {
   "cell_type": "code",
   "execution_count": 12,
   "id": "53fa9459-bf9a-45a1-a0dc-1966fbfccfad",
   "metadata": {},
   "outputs": [
    {
     "ename": "SyntaxError",
     "evalue": "invalid decimal literal (1801753435.py, line 2)",
     "output_type": "error",
     "traceback": [
      "\u001b[0;36m  Cell \u001b[0;32mIn[12], line 2\u001b[0;36m\u001b[0m\n\u001b[0;31m    4a = 3\u001b[0m\n\u001b[0m    ^\u001b[0m\n\u001b[0;31mSyntaxError\u001b[0m\u001b[0;31m:\u001b[0m invalid decimal literal\n"
     ]
    }
   ],
   "source": [
    "# Lesson: Variable cannot start with number\n",
    "4a = 3"
   ]
  },
  {
   "cell_type": "code",
   "execution_count": 14,
   "id": "454910be-f23b-4e62-9595-0f364225c211",
   "metadata": {},
   "outputs": [
    {
     "data": {
      "text/plain": [
       "10"
      ]
     },
     "execution_count": 14,
     "metadata": {},
     "output_type": "execute_result"
    }
   ],
   "source": [
    "#Rule 2: The variable name can only contain letters (a-z), (A-Z), digit (0-9) and underscore(_)\n",
    "a_ = 10\n",
    "a_"
   ]
  },
  {
   "cell_type": "code",
   "execution_count": 16,
   "id": "dedc544b-5f74-40cb-b34a-1ee5a7cee619",
   "metadata": {},
   "outputs": [
    {
     "ename": "SyntaxError",
     "evalue": "invalid syntax (264784334.py, line 1)",
     "output_type": "error",
     "traceback": [
      "\u001b[0;36m  Cell \u001b[0;32mIn[16], line 1\u001b[0;36m\u001b[0m\n\u001b[0;31m    a@ = 7\u001b[0m\n\u001b[0m       ^\u001b[0m\n\u001b[0;31mSyntaxError\u001b[0m\u001b[0;31m:\u001b[0m invalid syntax\n"
     ]
    }
   ],
   "source": [
    "# No special charater are allowed\n",
    "# Fine\n",
    "a@ = 7\n",
    "a@"
   ]
  },
  {
   "cell_type": "code",
   "execution_count": 18,
   "id": "ff8bc3b8-bf8b-4dc2-b338-d27a21f807ea",
   "metadata": {},
   "outputs": [
    {
     "ename": "SyntaxError",
     "evalue": "invalid syntax (2290512046.py, line 1)",
     "output_type": "error",
     "traceback": [
      "\u001b[0;36m  Cell \u001b[0;32mIn[18], line 1\u001b[0;36m\u001b[0m\n\u001b[0;31m    z& = 9\u001b[0m\n\u001b[0m       ^\u001b[0m\n\u001b[0;31mSyntaxError\u001b[0m\u001b[0;31m:\u001b[0m invalid syntax\n"
     ]
    }
   ],
   "source": [
    "z& = 9\n",
    "z&"
   ]
  },
  {
   "cell_type": "code",
   "execution_count": 20,
   "id": "71052829-850e-468f-afa0-6e656e228b29",
   "metadata": {},
   "outputs": [
    {
     "data": {
      "text/plain": [
       "10"
      ]
     },
     "execution_count": 20,
     "metadata": {},
     "output_type": "execute_result"
    }
   ],
   "source": [
    "#correct\n",
    "a_ = 10\n",
    "a_ \n"
   ]
  },
  {
   "cell_type": "code",
   "execution_count": 24,
   "id": "9310dd31-965b-4d63-81e5-d7427c06e5a7",
   "metadata": {},
   "outputs": [
    {
     "ename": "SyntaxError",
     "evalue": "cannot assign to expression here. Maybe you meant '==' instead of '='? (4284942354.py, line 2)",
     "output_type": "error",
     "traceback": [
      "\u001b[0;36m  Cell \u001b[0;32mIn[24], line 2\u001b[0;36m\u001b[0m\n\u001b[0;31m    a-b = 7\u001b[0m\n\u001b[0m    ^\u001b[0m\n\u001b[0;31mSyntaxError\u001b[0m\u001b[0;31m:\u001b[0m cannot assign to expression here. Maybe you meant '==' instead of '='?\n"
     ]
    }
   ],
   "source": [
    "# No special charater are allowed\n",
    "a-b = 7\n",
    "a-b"
   ]
  },
  {
   "cell_type": "code",
   "execution_count": 30,
   "id": "44b15ea5-4bf6-44e8-b18c-9f8c959771ba",
   "metadata": {},
   "outputs": [
    {
     "ename": "NameError",
     "evalue": "name 'XYZ' is not defined",
     "output_type": "error",
     "traceback": [
      "\u001b[0;31m---------------------------------------------------------------------------\u001b[0m",
      "\u001b[0;31mNameError\u001b[0m                                 Traceback (most recent call last)",
      "Cell \u001b[0;32mIn[30], line 3\u001b[0m\n\u001b[1;32m      1\u001b[0m \u001b[38;5;66;03m#Rule 3: The variable name are case sensitive\u001b[39;00m\n\u001b[1;32m      2\u001b[0m xyz \u001b[38;5;241m=\u001b[39m \u001b[38;5;241m100\u001b[39m\n\u001b[0;32m----> 3\u001b[0m XYZ\n",
      "\u001b[0;31mNameError\u001b[0m: name 'XYZ' is not defined"
     ]
    }
   ],
   "source": [
    "#Rule 3: The variable name are case sensitive\n",
    "xyz = 100\n",
    "XYZ"
   ]
  },
  {
   "cell_type": "code",
   "execution_count": 32,
   "id": "b777cd25-9171-47d2-ba09-5d9959117d31",
   "metadata": {},
   "outputs": [],
   "source": [
    "# Lesson: Python is case sensitive it considers small letters(xyz) and capital letters(XYZ) differently."
   ]
  },
  {
   "cell_type": "code",
   "execution_count": 34,
   "id": "b739fc24-a233-45a7-9696-cafd2717e590",
   "metadata": {},
   "outputs": [
    {
     "ename": "NameError",
     "evalue": "name 'b' is not defined",
     "output_type": "error",
     "traceback": [
      "\u001b[0;31m---------------------------------------------------------------------------\u001b[0m",
      "\u001b[0;31mNameError\u001b[0m                                 Traceback (most recent call last)",
      "Cell \u001b[0;32mIn[34], line 2\u001b[0m\n\u001b[1;32m      1\u001b[0m a \u001b[38;5;241m=\u001b[39m \u001b[38;5;241m10\u001b[39m \n\u001b[0;32m----> 2\u001b[0m a \u001b[38;5;241m=\u001b[39m b\u001b[38;5;129m@y\u001b[39m\n",
      "\u001b[0;31mNameError\u001b[0m: name 'b' is not defined"
     ]
    }
   ],
   "source": [
    "a = 10 \n",
    "a = b@y"
   ]
  },
  {
   "cell_type": "code",
   "execution_count": 36,
   "id": "9d18581b-e9fe-4dd4-9002-fb4d32a9f5ca",
   "metadata": {},
   "outputs": [
    {
     "ename": "NameError",
     "evalue": "name 'b' is not defined",
     "output_type": "error",
     "traceback": [
      "\u001b[0;31m---------------------------------------------------------------------------\u001b[0m",
      "\u001b[0;31mNameError\u001b[0m                                 Traceback (most recent call last)",
      "Cell \u001b[0;32mIn[36], line 2\u001b[0m\n\u001b[1;32m      1\u001b[0m a \u001b[38;5;241m=\u001b[39m \u001b[38;5;241m7\u001b[39m \n\u001b[0;32m----> 2\u001b[0m a \u001b[38;5;241m=\u001b[39m b\u001b[38;5;129m@y\u001b[39m\n\u001b[1;32m      3\u001b[0m a\n",
      "\u001b[0;31mNameError\u001b[0m: name 'b' is not defined"
     ]
    }
   ],
   "source": [
    "a = 7 \n",
    "a = b@y\n",
    "a"
   ]
  },
  {
   "cell_type": "code",
   "execution_count": 42,
   "id": "a54131a2-b36a-425c-a7e8-dc22a1aa25d7",
   "metadata": {},
   "outputs": [
    {
     "ename": "SyntaxError",
     "evalue": "invalid syntax (406379133.py, line 2)",
     "output_type": "error",
     "traceback": [
      "\u001b[0;36m  Cell \u001b[0;32mIn[42], line 2\u001b[0;36m\u001b[0m\n\u001b[0;31m    and = 7\u001b[0m\n\u001b[0m    ^\u001b[0m\n\u001b[0;31mSyntaxError\u001b[0m\u001b[0;31m:\u001b[0m invalid syntax\n"
     ]
    }
   ],
   "source": [
    "# Rule 4: The variable name should not be a python keyword\n",
    "and = 7\n",
    "and\n",
    "# and is a python keyword"
   ]
  },
  {
   "cell_type": "code",
   "execution_count": 46,
   "id": "c786c1e9-0f27-4bc7-bf92-f2dae4b2150b",
   "metadata": {},
   "outputs": [
    {
     "ename": "SyntaxError",
     "evalue": "invalid syntax (2859089053.py, line 1)",
     "output_type": "error",
     "traceback": [
      "\u001b[0;36m  Cell \u001b[0;32mIn[46], line 1\u001b[0;36m\u001b[0m\n\u001b[0;31m    or = 10\u001b[0m\n\u001b[0m    ^\u001b[0m\n\u001b[0;31mSyntaxError\u001b[0m\u001b[0;31m:\u001b[0m invalid syntax\n"
     ]
    }
   ],
   "source": [
    "or = 10\n",
    "or\n",
    "# or is a python keyowrd"
   ]
  },
  {
   "cell_type": "code",
   "execution_count": 50,
   "id": "d08bf7e6-f06d-4dcf-b2b8-99ab2a92b0a5",
   "metadata": {},
   "outputs": [
    {
     "name": "stdout",
     "output_type": "stream",
     "text": [
      "['False', 'None', 'True', 'and', 'as', 'assert', 'async', 'await', 'break', 'class', 'continue', 'def', 'del', 'elif', 'else', 'except', 'finally', 'for', 'from', 'global', 'if', 'import', 'in', 'is', 'lambda', 'nonlocal', 'not', 'or', 'pass', 'raise', 'return', 'try', 'while', 'with', 'yield']\n"
     ]
    }
   ],
   "source": [
    "import keyword\n",
    "print (keyword.kwlist)"
   ]
  },
  {
   "cell_type": "code",
   "execution_count": 52,
   "id": "dd8b66c2-f0c7-446d-a463-27c2a7164cb2",
   "metadata": {},
   "outputs": [],
   "source": [
    "#Special charateres: !@#$%^&*()\n",
    "\n"
   ]
  },
  {
   "cell_type": "code",
   "execution_count": 54,
   "id": "0b706fc8-64b9-4e73-ba1e-554e64ea3084",
   "metadata": {},
   "outputs": [
    {
     "data": {
      "text/plain": [
       "['False',\n",
       " 'None',\n",
       " 'True',\n",
       " 'and',\n",
       " 'as',\n",
       " 'assert',\n",
       " 'async',\n",
       " 'await',\n",
       " 'break',\n",
       " 'class',\n",
       " 'continue',\n",
       " 'def',\n",
       " 'del',\n",
       " 'elif',\n",
       " 'else',\n",
       " 'except',\n",
       " 'finally',\n",
       " 'for',\n",
       " 'from',\n",
       " 'global',\n",
       " 'if',\n",
       " 'import',\n",
       " 'in',\n",
       " 'is',\n",
       " 'lambda',\n",
       " 'nonlocal',\n",
       " 'not',\n",
       " 'or',\n",
       " 'pass',\n",
       " 'raise',\n",
       " 'return',\n",
       " 'try',\n",
       " 'while',\n",
       " 'with',\n",
       " 'yield']"
      ]
     },
     "execution_count": 54,
     "metadata": {},
     "output_type": "execute_result"
    }
   ],
   "source": [
    "keyword.kwlist"
   ]
  },
  {
   "cell_type": "code",
   "execution_count": null,
   "id": "c6d8ae40-34f7-41b2-8fc9-e9f8728beb90",
   "metadata": {},
   "outputs": [],
   "source": []
  }
 ],
 "metadata": {
  "kernelspec": {
   "display_name": "Python [conda env:anaconda3] *",
   "language": "python",
   "name": "conda-env-anaconda3-py"
  },
  "language_info": {
   "codemirror_mode": {
    "name": "ipython",
    "version": 3
   },
   "file_extension": ".py",
   "mimetype": "text/x-python",
   "name": "python",
   "nbconvert_exporter": "python",
   "pygments_lexer": "ipython3",
   "version": "3.11.5"
  }
 },
 "nbformat": 4,
 "nbformat_minor": 5
}
