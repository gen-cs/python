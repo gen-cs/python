{
 "cells": [
  {
   "cell_type": "markdown",
   "id": "464ed090-81c3-4fe1-a653-8529f7f06497",
   "metadata": {},
   "source": [
    "# Data types in python"
   ]
  },
  {
   "cell_type": "code",
   "execution_count": null,
   "id": "e470fcad-d199-4a69-a787-8642b4113b7d",
   "metadata": {},
   "outputs": [],
   "source": []
  },
  {
   "cell_type": "markdown",
   "id": "62efa2c2-128b-463a-ad39-7f1ef318aa1c",
   "metadata": {},
   "source": [
    "# Variables can store different data types and different types can do different things.\n",
    "## Python has the following data types \n",
    "1) Number Type:        int, float, complex\n",
    "2) Text Type:          str\n",
    "3) Sequence Data Type: list, tuple\n",
    "4) Mapping Data Type:   dict\n",
    "5) Set Type:           set\n",
    "6) Boolean type:       bool\n",
    "\n"
   ]
  },
  {
   "cell_type": "markdown",
   "id": "15797ca4-2cc4-421a-a052-e84b3e70cc22",
   "metadata": {},
   "source": [
    "# 1. Numerical Data type"
   ]
  },
  {
   "cell_type": "code",
   "execution_count": 381,
   "id": "8bad9cdb-8c11-44f9-a195-9ea6cb457154",
   "metadata": {},
   "outputs": [],
   "source": [
    "#1.1 Integer\n",
    "#1.2 Float\n",
    "#1.3 Complex number"
   ]
  },
  {
   "cell_type": "code",
   "execution_count": 383,
   "id": "579832f2-fe1d-481b-80a4-c9b2c3cebbc3",
   "metadata": {},
   "outputs": [
    {
     "name": "stdout",
     "output_type": "stream",
     "text": [
      "<class 'int'>\n"
     ]
    }
   ],
   "source": [
    "# Integer\n",
    "\n",
    "a = 10\n",
    "print(type(a))"
   ]
  },
  {
   "cell_type": "code",
   "execution_count": 385,
   "id": "cfa7a83a-c5f5-4368-8371-c4d9f1a5c4b3",
   "metadata": {},
   "outputs": [
    {
     "name": "stdout",
     "output_type": "stream",
     "text": [
      "<class 'int'>\n"
     ]
    }
   ],
   "source": [
    "# Integer\n",
    "\n",
    "a = 11\n",
    "b = 2\n",
    "c = a*b\n",
    "print(type(c))"
   ]
  },
  {
   "cell_type": "code",
   "execution_count": 387,
   "id": "f8e7a2e3-dd5c-4a41-a3b5-2a537f73a719",
   "metadata": {},
   "outputs": [
    {
     "name": "stdout",
     "output_type": "stream",
     "text": [
      "<class 'float'>\n"
     ]
    }
   ],
   "source": [
    "# Float: any number that has decimal point\n",
    "a = 3.14\n",
    "print(type(a))"
   ]
  },
  {
   "cell_type": "code",
   "execution_count": 389,
   "id": "e1e44917-fb1d-45dc-a0f8-21005ab9f47a",
   "metadata": {},
   "outputs": [
    {
     "name": "stdout",
     "output_type": "stream",
     "text": [
      "<class 'float'>\n"
     ]
    }
   ],
   "source": [
    "b = 100.15\n",
    "print(type(b))"
   ]
  },
  {
   "cell_type": "code",
   "execution_count": 391,
   "id": "67249429-f5f6-43fb-b3c4-d8c277a50f80",
   "metadata": {},
   "outputs": [
    {
     "name": "stdout",
     "output_type": "stream",
     "text": [
      "<class 'complex'>\n"
     ]
    }
   ],
   "source": [
    "# complex number\n",
    "a = 3 + 1j\n",
    "print (type(a))"
   ]
  },
  {
   "cell_type": "code",
   "execution_count": 393,
   "id": "b9dfbb48-8c49-483b-ab5c-668087504259",
   "metadata": {},
   "outputs": [
    {
     "name": "stdout",
     "output_type": "stream",
     "text": [
      "<class 'complex'>\n",
      "(4-2j)\n"
     ]
    }
   ],
   "source": [
    "# complex: iota (Square root of -1) -> j\n",
    "\n",
    "b = 4 - 2j\n",
    "print(type(b))\n",
    "print(b)"
   ]
  },
  {
   "cell_type": "code",
   "execution_count": 395,
   "id": "20063221-c257-4c42-a290-0456e3c32792",
   "metadata": {},
   "outputs": [
    {
     "name": "stdout",
     "output_type": "stream",
     "text": [
      "(4+2j)\n",
      "(4-2j)\n",
      "<class 'complex'>\n"
     ]
    }
   ],
   "source": [
    "a = 4 + 2j\n",
    "b = 4 - 2j\n",
    "print(a)\n",
    "print(b)\n",
    "print(type(a))\n"
   ]
  },
  {
   "cell_type": "code",
   "execution_count": 397,
   "id": "65f513bd-44fd-41fa-aa7c-7891f3c398d0",
   "metadata": {},
   "outputs": [
    {
     "name": "stdout",
     "output_type": "stream",
     "text": [
      "(4+2j) (4-2j)\n"
     ]
    }
   ],
   "source": [
    "print(a,b)\n"
   ]
  },
  {
   "cell_type": "code",
   "execution_count": 399,
   "id": "20ce1f05-3efa-4bf0-ac14-5c20d6eab371",
   "metadata": {},
   "outputs": [
    {
     "name": "stdout",
     "output_type": "stream",
     "text": [
      "<class 'int'>\n",
      "<class 'float'>\n",
      "<class 'complex'>\n"
     ]
    }
   ],
   "source": [
    "# Summarize\n",
    "a = 10 # integer\n",
    "b = 10.15 # float\n",
    "c = 10 + 1j # complex\n",
    "\n",
    "print(type(a))\n",
    "print(type(b))\n",
    "print(type(c))"
   ]
  },
  {
   "cell_type": "markdown",
   "id": "d83a69ff-cc79-4862-aa49-bac5d831e11a",
   "metadata": {},
   "source": [
    "# 2. String"
   ]
  },
  {
   "cell_type": "code",
   "execution_count": 402,
   "id": "55556609-28cf-4a0c-975b-abc91bffb503",
   "metadata": {},
   "outputs": [],
   "source": [
    "# String are nothing but text data type\n",
    "# A string in python is a sequence of character enclosed by single '', double\"\", triple''' '''.\n",
    "# String is immutable data type meaning it's value cannot be changed after creation"
   ]
  },
  {
   "cell_type": "code",
   "execution_count": 404,
   "id": "458c0462-ce82-4001-a6b1-9977425a0365",
   "metadata": {},
   "outputs": [
    {
     "name": "stdout",
     "output_type": "stream",
     "text": [
      "Hello\n"
     ]
    },
    {
     "data": {
      "text/plain": [
       "str"
      ]
     },
     "execution_count": 404,
     "metadata": {},
     "output_type": "execute_result"
    }
   ],
   "source": [
    "a = 'Hello'\n",
    "\n",
    "print (a)\n",
    "type(a)"
   ]
  },
  {
   "cell_type": "code",
   "execution_count": 406,
   "id": "b9e40a31-aa21-469e-a9e6-1ed032a9595e",
   "metadata": {},
   "outputs": [
    {
     "data": {
      "text/plain": [
       "str"
      ]
     },
     "execution_count": 406,
     "metadata": {},
     "output_type": "execute_result"
    }
   ],
   "source": [
    "a = \" hello \"\n",
    "type (a)"
   ]
  },
  {
   "cell_type": "code",
   "execution_count": 408,
   "id": "e7020a8c-e945-4273-ace2-1dc3933b5232",
   "metadata": {},
   "outputs": [
    {
     "data": {
      "text/plain": [
       "str"
      ]
     },
     "execution_count": 408,
     "metadata": {},
     "output_type": "execute_result"
    }
   ],
   "source": [
    "a = \"' hello'\"\n",
    "type (a)"
   ]
  },
  {
   "cell_type": "code",
   "execution_count": 410,
   "id": "766a4a2e-8773-43c2-b810-92c31ae9c89d",
   "metadata": {},
   "outputs": [
    {
     "data": {
      "text/plain": [
       "\"Hey! I did't complete my assignment\""
      ]
     },
     "execution_count": 410,
     "metadata": {},
     "output_type": "execute_result"
    }
   ],
   "source": [
    "a = \"Hey! I did't complete my assignment\"\n",
    "a"
   ]
  },
  {
   "cell_type": "code",
   "execution_count": 412,
   "id": "cad6479f-b1f4-4f6d-abf4-a9632812bed7",
   "metadata": {},
   "outputs": [
    {
     "data": {
      "text/plain": [
       "' \"Hard work beats talent when talent does not work hard\" '"
      ]
     },
     "execution_count": 412,
     "metadata": {},
     "output_type": "execute_result"
    }
   ],
   "source": [
    "a =  ''' \"Hard work beats talent when talent does not work hard\" '''\n",
    "a"
   ]
  },
  {
   "cell_type": "code",
   "execution_count": 414,
   "id": "78ad8f15-cf86-47db-a14b-d344f76362a2",
   "metadata": {},
   "outputs": [
    {
     "data": {
      "text/plain": [
       "\"Hey! I did't complete my assignment\""
      ]
     },
     "execution_count": 414,
     "metadata": {},
     "output_type": "execute_result"
    }
   ],
   "source": [
    "a = \"Hey! I did't complete my assignment\"\n",
    "a"
   ]
  },
  {
   "cell_type": "code",
   "execution_count": 416,
   "id": "ff643318-0fa3-4ac5-9f5d-f6b5221e7be5",
   "metadata": {},
   "outputs": [
    {
     "name": "stdout",
     "output_type": "stream",
     "text": [
      "<class 'str'>\n",
      "Hello\n"
     ]
    }
   ],
   "source": [
    "a = 'Hello'\n",
    "\n",
    "print(type(a))\n",
    "print (a)\n"
   ]
  },
  {
   "cell_type": "code",
   "execution_count": 418,
   "id": "480446bc-a819-47c1-b9b5-c88a66aabd3a",
   "metadata": {},
   "outputs": [
    {
     "data": {
      "text/plain": [
       "str"
      ]
     },
     "execution_count": 418,
     "metadata": {},
     "output_type": "execute_result"
    }
   ],
   "source": [
    "a = '4'\n",
    "type(a)"
   ]
  },
  {
   "cell_type": "code",
   "execution_count": 420,
   "id": "fb4aa408-01fe-46c5-8e8c-f863ff40e7f7",
   "metadata": {},
   "outputs": [
    {
     "data": {
      "text/plain": [
       "False"
      ]
     },
     "execution_count": 420,
     "metadata": {},
     "output_type": "execute_result"
    }
   ],
   "source": [
    "a == 4\n"
   ]
  },
  {
   "cell_type": "code",
   "execution_count": 208,
   "id": "655f3c34-2c94-4ab5-8ce6-4c92e5a68911",
   "metadata": {},
   "outputs": [
    {
     "data": {
      "text/plain": [
       "'4'"
      ]
     },
     "execution_count": 208,
     "metadata": {},
     "output_type": "execute_result"
    }
   ],
   "source": [
    "a"
   ]
  },
  {
   "cell_type": "code",
   "execution_count": 66,
   "id": "6115673e-3904-4f7f-93ec-79482bde0844",
   "metadata": {},
   "outputs": [
    {
     "ename": "TypeError",
     "evalue": "'str' object does not support item assignment",
     "output_type": "error",
     "traceback": [
      "\u001b[0;31m---------------------------------------------------------------------------\u001b[0m",
      "\u001b[0;31mTypeError\u001b[0m                                 Traceback (most recent call last)",
      "Cell \u001b[0;32mIn[66], line 3\u001b[0m\n\u001b[1;32m      1\u001b[0m \u001b[38;5;66;03m# Strings are immutable: it cannot be changed once it is created.\u001b[39;00m\n\u001b[1;32m      2\u001b[0m a \u001b[38;5;241m=\u001b[39m \u001b[38;5;124m\"\u001b[39m\u001b[38;5;124mHello\u001b[39m\u001b[38;5;124m\"\u001b[39m\n\u001b[0;32m----> 3\u001b[0m a[\u001b[38;5;241m0\u001b[39m] \u001b[38;5;241m=\u001b[39m \u001b[38;5;124m\"\u001b[39m\u001b[38;5;124mR\u001b[39m\u001b[38;5;124m\"\u001b[39m\n",
      "\u001b[0;31mTypeError\u001b[0m: 'str' object does not support item assignment"
     ]
    }
   ],
   "source": [
    "# Strings are immutable: it cannot be changed once it is created.\n",
    "a = \"Hello\"\n",
    "a[0] = \"R\""
   ]
  },
  {
   "cell_type": "code",
   "execution_count": 70,
   "id": "1cb42e05-69f0-4a15-b622-2e3a2ecdb467",
   "metadata": {},
   "outputs": [
    {
     "ename": "TypeError",
     "evalue": "'str' object does not support item assignment",
     "output_type": "error",
     "traceback": [
      "\u001b[0;31m---------------------------------------------------------------------------\u001b[0m",
      "\u001b[0;31mTypeError\u001b[0m                                 Traceback (most recent call last)",
      "Cell \u001b[0;32mIn[70], line 3\u001b[0m\n\u001b[1;32m      1\u001b[0m \u001b[38;5;66;03m# Strings are immutable: it cannot be changed once it is created.\u001b[39;00m\n\u001b[1;32m      2\u001b[0m a \u001b[38;5;241m=\u001b[39m \u001b[38;5;124m\"\u001b[39m\u001b[38;5;124mLady\u001b[39m\u001b[38;5;124m\"\u001b[39m\n\u001b[0;32m----> 3\u001b[0m a[\u001b[38;5;241m-\u001b[39m\u001b[38;5;241m1\u001b[39m] \u001b[38;5;241m=\u001b[39m \u001b[38;5;124m'\u001b[39m\u001b[38;5;124mY\u001b[39m\u001b[38;5;124m'\u001b[39m\n",
      "\u001b[0;31mTypeError\u001b[0m: 'str' object does not support item assignment"
     ]
    }
   ],
   "source": [
    "# Strings are immutable: it cannot be changed once it is created.\n",
    "a = \"Lady\"\n",
    "a[-1] = 'Y'"
   ]
  },
  {
   "cell_type": "code",
   "execution_count": 210,
   "id": "eaebac4c-f565-4694-938e-31e5e66fa39c",
   "metadata": {},
   "outputs": [],
   "source": [
    "# integer and string are not the same \n"
   ]
  },
  {
   "cell_type": "markdown",
   "id": "271a0e52-fc26-47fe-bf0f-67df4a2b4d19",
   "metadata": {},
   "source": [
    "## Indexing and Slicing in String"
   ]
  },
  {
   "cell_type": "code",
   "execution_count": 213,
   "id": "7179288b-e670-45d8-9d05-dcbcc415da74",
   "metadata": {},
   "outputs": [],
   "source": [
    "# IMP LESSON: Indexing in python starts from 0"
   ]
  },
  {
   "cell_type": "code",
   "execution_count": 231,
   "id": "5cd43341-58d2-4e3b-935e-3d74fee7dc83",
   "metadata": {},
   "outputs": [],
   "source": [
    "# B here is at 0th position\n",
    "# e is at 1st position\n",
    "# a is at 2nd position"
   ]
  },
  {
   "cell_type": "code",
   "execution_count": null,
   "id": "d4957b22-a7e1-4cb6-8c16-801081dfcfba",
   "metadata": {},
   "outputs": [],
   "source": [
    "# Lesson: when we got from left to rifht: indexing starts from 0\n",
    "# But when we go from right to left: indexing starts from -1, -2 , so on"
   ]
  },
  {
   "cell_type": "code",
   "execution_count": 259,
   "id": "5de7d0bd-969e-4e63-88f8-4359f878fde3",
   "metadata": {},
   "outputs": [
    {
     "name": "stdout",
     "output_type": "stream",
     "text": [
      "B\n"
     ]
    }
   ],
   "source": [
    "a = 'Beautiful'\n",
    "print(a[0]) # calling out a character at a specific index"
   ]
  },
  {
   "cell_type": "code",
   "execution_count": 265,
   "id": "e0adcedf-4f7d-4729-9e34-7c43f7d6691a",
   "metadata": {},
   "outputs": [
    {
     "data": {
      "text/plain": [
       "'l'"
      ]
     },
     "execution_count": 265,
     "metadata": {},
     "output_type": "execute_result"
    }
   ],
   "source": [
    "a = 'Beautiful'\n",
    "a[-1]"
   ]
  },
  {
   "cell_type": "code",
   "execution_count": 267,
   "id": "98c497c1-b24d-41d8-80f4-438b893d0e8c",
   "metadata": {},
   "outputs": [
    {
     "data": {
      "text/plain": [
       "'u'"
      ]
     },
     "execution_count": 267,
     "metadata": {},
     "output_type": "execute_result"
    }
   ],
   "source": [
    "a[-2]"
   ]
  },
  {
   "cell_type": "code",
   "execution_count": 233,
   "id": "f1fc4214-ad52-4591-9768-4b1466e4a6d1",
   "metadata": {},
   "outputs": [
    {
     "data": {
      "text/plain": [
       "'B'"
      ]
     },
     "execution_count": 233,
     "metadata": {},
     "output_type": "execute_result"
    }
   ],
   "source": [
    "a[0] # we will always use [] square brackets to call any character."
   ]
  },
  {
   "cell_type": "code",
   "execution_count": 220,
   "id": "4e8065a6-6ba0-4a54-a0ec-e19bd272d303",
   "metadata": {},
   "outputs": [
    {
     "name": "stdout",
     "output_type": "stream",
     "text": [
      "e\n"
     ]
    }
   ],
   "source": [
    "print(a[1])"
   ]
  },
  {
   "cell_type": "code",
   "execution_count": 222,
   "id": "e3defcaa-fb2b-4a27-a1b4-b5dc060e989a",
   "metadata": {},
   "outputs": [
    {
     "name": "stdout",
     "output_type": "stream",
     "text": [
      "a\n"
     ]
    }
   ],
   "source": [
    "print(a[2])"
   ]
  },
  {
   "cell_type": "code",
   "execution_count": 224,
   "id": "fec157ef-ea69-4045-a1c0-e9ad1068cf92",
   "metadata": {},
   "outputs": [
    {
     "name": "stdout",
     "output_type": "stream",
     "text": [
      "u\n"
     ]
    }
   ],
   "source": [
    "print(a[3])"
   ]
  },
  {
   "cell_type": "code",
   "execution_count": 235,
   "id": "fcbd9379-5b06-41c7-86e8-ba102191e672",
   "metadata": {},
   "outputs": [
    {
     "data": {
      "text/plain": [
       "'u'"
      ]
     },
     "execution_count": 235,
     "metadata": {},
     "output_type": "execute_result"
    }
   ],
   "source": [
    "a[7]"
   ]
  },
  {
   "cell_type": "code",
   "execution_count": 237,
   "id": "b7e580fd-eace-4e8b-9659-1ae2d049b46b",
   "metadata": {},
   "outputs": [
    {
     "name": "stdout",
     "output_type": "stream",
     "text": [
      "e\n"
     ]
    }
   ],
   "source": [
    "print(a[1])"
   ]
  },
  {
   "cell_type": "code",
   "execution_count": 239,
   "id": "4824305b-fb45-4264-aac3-bcd7dd12f185",
   "metadata": {},
   "outputs": [
    {
     "name": "stdout",
     "output_type": "stream",
     "text": [
      "a\n"
     ]
    }
   ],
   "source": [
    "print(a[2])"
   ]
  },
  {
   "cell_type": "code",
   "execution_count": 243,
   "id": "31257814-e6ff-4153-a79b-5f68547d5ef3",
   "metadata": {},
   "outputs": [
    {
     "name": "stdout",
     "output_type": "stream",
     "text": [
      "E\n",
      "m\n",
      "p\n",
      "t\n",
      "y\n"
     ]
    }
   ],
   "source": [
    "x = 'Empty'\n",
    "print(x[0]) # In variable x, we are calling the element at 0th position\n",
    "print(x[1]) # In variable x, we are calling the element at 1th position\n",
    "print(x[2]) # In variable x, we are calling the element at 2th position\n",
    "print(x[3]) # In variable x, we are calling the element at 3th position\n",
    "print(x[4]) # In variable x, we are calling the element at 4th position\n"
   ]
  },
  {
   "cell_type": "code",
   "execution_count": 285,
   "id": "87125e48-0423-4476-a6df-05574e1eb669",
   "metadata": {},
   "outputs": [],
   "source": [
    "# Lesson: when we slice, we enter [start:end] -> print [start:end-1]\n",
    "# [0:3] -> [0:2]\n",
    "# slicing: a [start:end:default=1]"
   ]
  },
  {
   "cell_type": "code",
   "execution_count": 249,
   "id": "b96a2d95-8201-4da6-aa8d-f1311d140921",
   "metadata": {},
   "outputs": [
    {
     "data": {
      "text/plain": [
       "'Ama'"
      ]
     },
     "execution_count": 249,
     "metadata": {},
     "output_type": "execute_result"
    }
   ],
   "source": [
    "z = 'Amazing'\n",
    "z[0:3]"
   ]
  },
  {
   "cell_type": "code",
   "execution_count": 257,
   "id": "76faf993-78c7-4454-bc3a-b318e6d36068",
   "metadata": {},
   "outputs": [
    {
     "data": {
      "text/plain": [
       "'zing'"
      ]
     },
     "execution_count": 257,
     "metadata": {},
     "output_type": "execute_result"
    }
   ],
   "source": [
    "z[3:7]"
   ]
  },
  {
   "cell_type": "code",
   "execution_count": 277,
   "id": "dd166288-53c6-4d35-bfd6-e3eda2c79e56",
   "metadata": {},
   "outputs": [
    {
     "name": "stdout",
     "output_type": "stream",
     "text": [
      "less\n"
     ]
    }
   ],
   "source": [
    "a = 'selfless'\n",
    "print(a[4:8])"
   ]
  },
  {
   "cell_type": "code",
   "execution_count": 275,
   "id": "53bd7233-f607-44f9-955a-a7e94c065593",
   "metadata": {},
   "outputs": [
    {
     "name": "stdout",
     "output_type": "stream",
     "text": [
      "less\n"
     ]
    }
   ],
   "source": [
    "print(a[4:]) # when we don't mention anything, it means print up till end"
   ]
  },
  {
   "cell_type": "code",
   "execution_count": 279,
   "id": "747f5692-5e00-401b-8c22-fcf475b45465",
   "metadata": {},
   "outputs": [
    {
     "name": "stdout",
     "output_type": "stream",
     "text": [
      "ss\n"
     ]
    }
   ],
   "source": [
    "print(a[6:])"
   ]
  },
  {
   "cell_type": "code",
   "execution_count": 281,
   "id": "392ec7d2-25d6-40e1-acac-ff0e35095f34",
   "metadata": {},
   "outputs": [
    {
     "name": "stdout",
     "output_type": "stream",
     "text": [
      "self\n"
     ]
    }
   ],
   "source": [
    "print(a[0:4])"
   ]
  },
  {
   "cell_type": "code",
   "execution_count": 283,
   "id": "4d59170c-03fd-4ee2-880f-3b8aa6902775",
   "metadata": {},
   "outputs": [
    {
     "name": "stdout",
     "output_type": "stream",
     "text": [
      "self\n"
     ]
    }
   ],
   "source": [
    "print(a[:4])"
   ]
  },
  {
   "cell_type": "code",
   "execution_count": 289,
   "id": "6cfe9177-c7e5-4b44-8fd1-8f8f97f812f9",
   "metadata": {},
   "outputs": [
    {
     "data": {
      "text/plain": [
       "'Aaig'"
      ]
     },
     "execution_count": 289,
     "metadata": {},
     "output_type": "execute_result"
    }
   ],
   "source": [
    "a = 'Amazing'\n",
    "a[0::2]"
   ]
  },
  {
   "cell_type": "code",
   "execution_count": 291,
   "id": "a0141304-e160-4274-ab73-0bc51c714e78",
   "metadata": {},
   "outputs": [
    {
     "data": {
      "text/plain": [
       "'Aai'"
      ]
     },
     "execution_count": 291,
     "metadata": {},
     "output_type": "execute_result"
    }
   ],
   "source": [
    "a[0:5:2]  #0,2,4"
   ]
  },
  {
   "cell_type": "code",
   "execution_count": 293,
   "id": "392bfe82-1038-4841-95a5-93a9c471d74e",
   "metadata": {},
   "outputs": [
    {
     "name": "stdout",
     "output_type": "stream",
     "text": [
      "Pet\n"
     ]
    }
   ],
   "source": [
    "x = 'Prettylady'\n",
    "print(x[0:6:2])"
   ]
  },
  {
   "cell_type": "code",
   "execution_count": 295,
   "id": "9c90351f-8fc2-46fc-96b4-ebfeac826345",
   "metadata": {},
   "outputs": [],
   "source": [
    "# Summarize"
   ]
  },
  {
   "cell_type": "code",
   "execution_count": 297,
   "id": "d19a698c-aa5b-41c4-be3f-fdcd4a21a450",
   "metadata": {},
   "outputs": [],
   "source": [
    "# Indexing in python starts from 0\n",
    "# slicing works: [start:end:increment]"
   ]
  },
  {
   "cell_type": "code",
   "execution_count": 312,
   "id": "e8b8f014-f64a-4363-b727-0f6e75f66844",
   "metadata": {},
   "outputs": [
    {
     "name": "stdout",
     "output_type": "stream",
     "text": [
      "p\n",
      "r\n",
      "e\n",
      "y\n",
      "d\n",
      "a\n"
     ]
    }
   ],
   "source": [
    "# Indexing\n",
    "a = 'prettyLady'\n",
    "\n",
    "print (a[0])\n",
    "print (a[1])\n",
    "print (a[2])\n",
    "print (a[-1])\n",
    "print (a[-2])\n",
    "print (a[7])"
   ]
  },
  {
   "cell_type": "code",
   "execution_count": 12,
   "id": "fca5481a-29d1-43bf-889e-9974aaa90653",
   "metadata": {},
   "outputs": [
    {
     "name": "stdout",
     "output_type": "stream",
     "text": [
      "pre\n",
      "Lady\n",
      "Lady\n",
      "Lad\n",
      "Lady\n",
      "pe\n"
     ]
    }
   ],
   "source": [
    "# Slicing\n",
    "\n",
    "a = 'prettyLady'\n",
    "print(a[0:3]) # pre\n",
    "print(a[6:10])\n",
    "print(a[6:])\n",
    "print(a[-4:-1]) \n",
    "print(a[-4:]) \n",
    "print (a[0:4:2])"
   ]
  },
  {
   "cell_type": "code",
   "execution_count": 1,
   "id": "56701c10-be8a-48b2-9364-7c36ba12e80b",
   "metadata": {},
   "outputs": [],
   "source": []
  },
  {
   "cell_type": "code",
   "execution_count": null,
   "id": "791de911-f8aa-42b9-b6eb-07df28bba546",
   "metadata": {},
   "outputs": [],
   "source": [
    "# Methods in String"
   ]
  },
  {
   "cell_type": "code",
   "execution_count": 16,
   "id": "cf15090e-2382-40bc-933d-decbad77cac7",
   "metadata": {},
   "outputs": [
    {
     "data": {
      "text/plain": [
       "'Lady'"
      ]
     },
     "execution_count": 16,
     "metadata": {},
     "output_type": "execute_result"
    }
   ],
   "source": [
    "a[-4: ] # Here increment is +1"
   ]
  },
  {
   "cell_type": "markdown",
   "id": "ae818031-4931-4fe7-ad49-fe43022d178b",
   "metadata": {},
   "source": [
    "# Methods in String\n"
   ]
  },
  {
   "cell_type": "code",
   "execution_count": 35,
   "id": "b2e1daf1-1261-49d7-812e-ff363b6bf6b3",
   "metadata": {},
   "outputs": [
    {
     "name": "stdout",
     "output_type": "stream",
     "text": [
      "HELLO WORLD\n",
      "hello world\n",
      "Hello World\n",
      "Hello world\n"
     ]
    }
   ],
   "source": [
    "a = \"Hello world\"\n",
    "\n",
    "print(a.upper()) # all element in upper case\n",
    "print(a.lower()) # all element in lower case\n",
    "print(a.title()) # 1st element of each word in upper case\n",
    "print(a.capitalize()) # 1st element in upper case"
   ]
  },
  {
   "cell_type": "code",
   "execution_count": 37,
   "id": "cc9a769e-057c-4c6f-9239-7bd9c5ad3f3f",
   "metadata": {},
   "outputs": [
    {
     "data": {
      "text/plain": [
       "6"
      ]
     },
     "execution_count": 37,
     "metadata": {},
     "output_type": "execute_result"
    }
   ],
   "source": [
    "# Find Sub string:\n",
    "a.find (\"world\")"
   ]
  },
  {
   "cell_type": "code",
   "execution_count": 39,
   "id": "e67f8250-71e3-4931-83bc-46eb529119ae",
   "metadata": {},
   "outputs": [
    {
     "data": {
      "text/plain": [
       "0"
      ]
     },
     "execution_count": 39,
     "metadata": {},
     "output_type": "execute_result"
    }
   ],
   "source": [
    "# Find Sub string:\n",
    "a.find(\"Hello\")"
   ]
  },
  {
   "cell_type": "code",
   "execution_count": 41,
   "id": "597cb745-331a-4b84-8ebf-e9d77cc8daf1",
   "metadata": {},
   "outputs": [
    {
     "data": {
      "text/plain": [
       "'Hello python'"
      ]
     },
     "execution_count": 41,
     "metadata": {},
     "output_type": "execute_result"
    }
   ],
   "source": [
    "# Replace a Sub String:\n",
    "a.replace(\"world\",\"python\")"
   ]
  },
  {
   "cell_type": "code",
   "execution_count": 45,
   "id": "5fe25a8d-cf66-495d-90cb-e5827f7b7b35",
   "metadata": {},
   "outputs": [
    {
     "data": {
      "text/plain": [
       "['apple,banana,grape']"
      ]
     },
     "execution_count": 45,
     "metadata": {},
     "output_type": "execute_result"
    }
   ],
   "source": [
    "# Split a String\n",
    "a = \"apple,banana,grape\"\n",
    "a.split(\" \")"
   ]
  },
  {
   "cell_type": "code",
   "execution_count": 47,
   "id": "ec572d27-6537-47ab-9c57-68bde983780a",
   "metadata": {},
   "outputs": [
    {
     "data": {
      "text/plain": [
       "['apple', 'banana', 'grape']"
      ]
     },
     "execution_count": 47,
     "metadata": {},
     "output_type": "execute_result"
    }
   ],
   "source": [
    "# Split a String\n",
    "a = \"apple,banana,grape\"\n",
    "a.split(\",\")"
   ]
  },
  {
   "cell_type": "code",
   "execution_count": 49,
   "id": "7891604d-bc18-4c88-9312-0e480d09184c",
   "metadata": {},
   "outputs": [
    {
     "data": {
      "text/plain": [
       "['apple', 'banana', 'grape']"
      ]
     },
     "execution_count": 49,
     "metadata": {},
     "output_type": "execute_result"
    }
   ],
   "source": [
    "# Split a String\n",
    "a = \"apple!banana!grape\"\n",
    "a.split(\"!\")"
   ]
  },
  {
   "cell_type": "markdown",
   "id": "5a940720-4a7a-406d-91ee-7bfd2bbe13a9",
   "metadata": {},
   "source": [
    "# String operation"
   ]
  },
  {
   "cell_type": "code",
   "execution_count": 74,
   "id": "4d4b7740-e3f5-4a22-af9f-093d9452c8bb",
   "metadata": {},
   "outputs": [
    {
     "name": "stdout",
     "output_type": "stream",
     "text": [
      "Hello Max\n"
     ]
    }
   ],
   "source": [
    "# Concatenate\n",
    "a = \"Hello\"\n",
    "b = \"Max\"\n",
    "c = a+\" \"+b\n",
    "print(c)"
   ]
  },
  {
   "cell_type": "code",
   "execution_count": 76,
   "id": "6126f611-5d51-4f14-92fb-eaa70c56edb8",
   "metadata": {},
   "outputs": [
    {
     "name": "stdout",
     "output_type": "stream",
     "text": [
      "Hey George\n"
     ]
    }
   ],
   "source": [
    "# Concatenate\n",
    "a = \"Hey\"\n",
    "b = \"George\"\n",
    "c = a +\" \"+b\n",
    "print(c)"
   ]
  },
  {
   "cell_type": "code",
   "execution_count": 78,
   "id": "bcf9847b-86fb-45a4-947a-aa3322564511",
   "metadata": {},
   "outputs": [
    {
     "name": "stdout",
     "output_type": "stream",
     "text": [
      "5\n"
     ]
    }
   ],
   "source": [
    "a = 2\n",
    "b = 3\n",
    "c = a + b\n",
    "print(c)"
   ]
  },
  {
   "cell_type": "code",
   "execution_count": 80,
   "id": "dae40d3e-7d02-40c8-a89e-d1f8c93b414f",
   "metadata": {},
   "outputs": [],
   "source": [
    "# Lesson: + sign in Number data type refers to addtion while\n",
    "# in string data type + sign indicates concatenation\n"
   ]
  },
  {
   "cell_type": "markdown",
   "id": "42219e31-8f76-45b9-b014-f188d57ef68f",
   "metadata": {},
   "source": [
    "# Escape Sequence in String"
   ]
  },
  {
   "cell_type": "code",
   "execution_count": 99,
   "id": "fa5a7041-e2f9-49ad-94fc-82d267a89c42",
   "metadata": {},
   "outputs": [
    {
     "name": "stdout",
     "output_type": "stream",
     "text": [
      "Hello\n",
      "World\n"
     ]
    }
   ],
   "source": [
    "print(\"Hello\\nWorld\") # \\n indicates a new line (enter)"
   ]
  },
  {
   "cell_type": "code",
   "execution_count": 101,
   "id": "96d8d5b5-fecd-497c-a93c-4de964ef60e6",
   "metadata": {},
   "outputs": [
    {
     "name": "stdout",
     "output_type": "stream",
     "text": [
      "Hey! How is your work\n",
      "Max\n"
     ]
    }
   ],
   "source": [
    "print(\"Hey! How is your work\\nMax\") # \\n indicates a new line (enter)"
   ]
  },
  {
   "cell_type": "code",
   "execution_count": 103,
   "id": "3b880992-a531-4687-8e50-fd66fbc05a48",
   "metadata": {},
   "outputs": [
    {
     "name": "stdout",
     "output_type": "stream",
     "text": [
      "Hello\tWorld\n"
     ]
    }
   ],
   "source": [
    "print(\"Hello\\tWorld\") #\\t indiacates a tab space"
   ]
  },
  {
   "cell_type": "code",
   "execution_count": 105,
   "id": "b64fc0dc-32a8-4973-b2e4-ed919416f3d4",
   "metadata": {},
   "outputs": [],
   "source": [
    "# Lesson: \\n indiactes a new line and \\t indiactes tab space"
   ]
  },
  {
   "cell_type": "markdown",
   "id": "fd5983a0-4dbb-40d2-a655-14c1e306d211",
   "metadata": {},
   "source": [
    "# 3. List"
   ]
  },
  {
   "cell_type": "code",
   "execution_count": 117,
   "id": "bb620dc0-0d88-4e2b-9c47-7cb4fd5d6b0c",
   "metadata": {},
   "outputs": [],
   "source": [
    "# a list ia an ordered, mutable collection of elements\n",
    "# List can store hetrogeneous elements\n",
    "# List is indicated by [] square bracket"
   ]
  },
  {
   "cell_type": "code",
   "execution_count": 119,
   "id": "59427552-4acc-4222-9edf-3d02eea06f2c",
   "metadata": {},
   "outputs": [
    {
     "name": "stdout",
     "output_type": "stream",
     "text": [
      "[1, 2, 3, 4, 'a', 'b', 'c']\n"
     ]
    }
   ],
   "source": [
    "a = [1,2,3,4,'a','b','c']\n",
    "print (a)"
   ]
  },
  {
   "cell_type": "code",
   "execution_count": 121,
   "id": "abf46c46-5438-4391-883c-b4cc596e6a3b",
   "metadata": {},
   "outputs": [
    {
     "data": {
      "text/plain": [
       "list"
      ]
     },
     "execution_count": 121,
     "metadata": {},
     "output_type": "execute_result"
    }
   ],
   "source": [
    "type(a)"
   ]
  },
  {
   "cell_type": "markdown",
   "id": "7c89a52c-d173-4bbb-b917-2e85763c0395",
   "metadata": {},
   "source": [
    "# Indexing and Slicing"
   ]
  },
  {
   "cell_type": "code",
   "execution_count": 126,
   "id": "67104288-d6ab-400c-b809-3e68b3898b8f",
   "metadata": {},
   "outputs": [
    {
     "data": {
      "text/plain": [
       "['apple', 'banana', 1, 2, 3]"
      ]
     },
     "execution_count": 126,
     "metadata": {},
     "output_type": "execute_result"
    }
   ],
   "source": [
    "a = [ 'apple' , 'banana',1,2,3]\n",
    "a"
   ]
  },
  {
   "cell_type": "code",
   "execution_count": 129,
   "id": "dc083edc-057f-46d4-ba20-e5a239768c53",
   "metadata": {},
   "outputs": [
    {
     "data": {
      "text/plain": [
       "'apple'"
      ]
     },
     "execution_count": 129,
     "metadata": {},
     "output_type": "execute_result"
    }
   ],
   "source": [
    "a[0]"
   ]
  },
  {
   "cell_type": "code",
   "execution_count": 135,
   "id": "d146ccca-5320-4739-bcae-16d70b3c8867",
   "metadata": {},
   "outputs": [
    {
     "data": {
      "text/plain": [
       "'banana'"
      ]
     },
     "execution_count": 135,
     "metadata": {},
     "output_type": "execute_result"
    }
   ],
   "source": [
    "a[1]"
   ]
  },
  {
   "cell_type": "code",
   "execution_count": 137,
   "id": "212cb6f8-eedf-4135-95c1-7f19aa1e072e",
   "metadata": {},
   "outputs": [
    {
     "data": {
      "text/plain": [
       "1"
      ]
     },
     "execution_count": 137,
     "metadata": {},
     "output_type": "execute_result"
    }
   ],
   "source": [
    "a[2]"
   ]
  },
  {
   "cell_type": "code",
   "execution_count": 139,
   "id": "ed5f78d1-5094-413d-98fc-547e3ef14f47",
   "metadata": {},
   "outputs": [
    {
     "data": {
      "text/plain": [
       "2"
      ]
     },
     "execution_count": 139,
     "metadata": {},
     "output_type": "execute_result"
    }
   ],
   "source": [
    "a[3]"
   ]
  },
  {
   "cell_type": "code",
   "execution_count": 141,
   "id": "5674de87-5bf0-4c06-a8b5-23e6f08dc4e1",
   "metadata": {},
   "outputs": [
    {
     "data": {
      "text/plain": [
       "3"
      ]
     },
     "execution_count": 141,
     "metadata": {},
     "output_type": "execute_result"
    }
   ],
   "source": [
    "a[4]"
   ]
  },
  {
   "cell_type": "code",
   "execution_count": 145,
   "id": "13651853-77b2-443d-bb3d-c9a07fc92249",
   "metadata": {},
   "outputs": [
    {
     "data": {
      "text/plain": [
       "'app'"
      ]
     },
     "execution_count": 145,
     "metadata": {},
     "output_type": "execute_result"
    }
   ],
   "source": [
    "a[0][0:3]"
   ]
  },
  {
   "cell_type": "code",
   "execution_count": 167,
   "id": "ad5afd0b-3a25-4eda-88a5-f1ec0bda4b0f",
   "metadata": {},
   "outputs": [
    {
     "data": {
      "text/plain": [
       "[10, 20, 30, 40, 50]"
      ]
     },
     "execution_count": 167,
     "metadata": {},
     "output_type": "execute_result"
    }
   ],
   "source": [
    "a = [10,20,30,40,50]\n",
    "a"
   ]
  },
  {
   "cell_type": "code",
   "execution_count": 169,
   "id": "1e330f34-6a9e-4e66-a644-eb99f2dd9a98",
   "metadata": {},
   "outputs": [
    {
     "data": {
      "text/plain": [
       "50"
      ]
     },
     "execution_count": 169,
     "metadata": {},
     "output_type": "execute_result"
    }
   ],
   "source": [
    "a[-1]"
   ]
  },
  {
   "cell_type": "code",
   "execution_count": 171,
   "id": "22c54a9a-b1f7-48d8-9824-3507fdc884fe",
   "metadata": {},
   "outputs": [
    {
     "data": {
      "text/plain": [
       "10"
      ]
     },
     "execution_count": 171,
     "metadata": {},
     "output_type": "execute_result"
    }
   ],
   "source": [
    "a[0]"
   ]
  },
  {
   "cell_type": "code",
   "execution_count": 173,
   "id": "a27be7f6-4aaf-432c-b1dc-0e391df88357",
   "metadata": {},
   "outputs": [
    {
     "data": {
      "text/plain": [
       "20"
      ]
     },
     "execution_count": 173,
     "metadata": {},
     "output_type": "execute_result"
    }
   ],
   "source": [
    "a[1]"
   ]
  },
  {
   "cell_type": "code",
   "execution_count": 175,
   "id": "5eb7c66a-0a18-483f-b596-0d3a5166d5c1",
   "metadata": {},
   "outputs": [
    {
     "data": {
      "text/plain": [
       "30"
      ]
     },
     "execution_count": 175,
     "metadata": {},
     "output_type": "execute_result"
    }
   ],
   "source": [
    "a[2]"
   ]
  },
  {
   "cell_type": "code",
   "execution_count": 177,
   "id": "7e0e66ce-3956-4631-b84c-0e9f2fa463bb",
   "metadata": {},
   "outputs": [
    {
     "data": {
      "text/plain": [
       "[10, 20, 30]"
      ]
     },
     "execution_count": 177,
     "metadata": {},
     "output_type": "execute_result"
    }
   ],
   "source": [
    "a[0:3]"
   ]
  },
  {
   "cell_type": "code",
   "execution_count": 179,
   "id": "7140c9e7-38c8-497b-89e0-347a8fa4b08a",
   "metadata": {},
   "outputs": [
    {
     "data": {
      "text/plain": [
       "[10, 30, 50]"
      ]
     },
     "execution_count": 179,
     "metadata": {},
     "output_type": "execute_result"
    }
   ],
   "source": [
    "a[0::2]"
   ]
  },
  {
   "cell_type": "code",
   "execution_count": 181,
   "id": "77c35d00-9174-4a97-8790-13c9be873eaf",
   "metadata": {},
   "outputs": [
    {
     "data": {
      "text/plain": [
       "[10, 20, 30, 40, 50]"
      ]
     },
     "execution_count": 181,
     "metadata": {},
     "output_type": "execute_result"
    }
   ],
   "source": [
    "a = [10,20,30,40,50]\n",
    "a"
   ]
  },
  {
   "cell_type": "code",
   "execution_count": 183,
   "id": "5854412c-470f-40f5-98ca-3f14853a526b",
   "metadata": {},
   "outputs": [
    {
     "data": {
      "text/plain": [
       "[40, 50]"
      ]
     },
     "execution_count": 183,
     "metadata": {},
     "output_type": "execute_result"
    }
   ],
   "source": [
    "a[3: ]"
   ]
  },
  {
   "cell_type": "code",
   "execution_count": 185,
   "id": "80a12885-07de-4120-87bf-6b543df23a7f",
   "metadata": {},
   "outputs": [
    {
     "data": {
      "text/plain": [
       "[40, 50]"
      ]
     },
     "execution_count": 185,
     "metadata": {},
     "output_type": "execute_result"
    }
   ],
   "source": [
    "a[-2: ]"
   ]
  },
  {
   "cell_type": "markdown",
   "id": "69526742-7ca3-440f-af35-b7e4c6a2e349",
   "metadata": {},
   "source": [
    "# List is Mutable"
   ]
  },
  {
   "cell_type": "code",
   "execution_count": 188,
   "id": "ceed4b9a-46f0-46c8-a1ff-d0e2646d366c",
   "metadata": {},
   "outputs": [
    {
     "data": {
      "text/plain": [
       "[10, 20, 30, 40, 50]"
      ]
     },
     "execution_count": 188,
     "metadata": {},
     "output_type": "execute_result"
    }
   ],
   "source": [
    "a = [10,20,30,40,50]\n",
    "a"
   ]
  },
  {
   "cell_type": "code",
   "execution_count": 192,
   "id": "0e861536-4a45-4ace-9402-8d23185ddd9d",
   "metadata": {},
   "outputs": [
    {
     "data": {
      "text/plain": [
       "[20, 20, 30, 40, 50]"
      ]
     },
     "execution_count": 192,
     "metadata": {},
     "output_type": "execute_result"
    }
   ],
   "source": [
    "# Lesson: We are able to change the list -> List is Mutable\n",
    "a[0] = 20\n",
    "a"
   ]
  },
  {
   "cell_type": "code",
   "execution_count": 202,
   "id": "99b913ea-6860-46d4-8e8e-7d3ae54c3c1e",
   "metadata": {},
   "outputs": [
    {
     "data": {
      "text/plain": [
       "[10, 20, 30, 'a', 'Z', 'c']"
      ]
     },
     "execution_count": 202,
     "metadata": {},
     "output_type": "execute_result"
    }
   ],
   "source": [
    "a = [ 10,20,30,'a','b','c'] # list is Mutable\n",
    "a[4]= 'Z'\n",
    "a"
   ]
  },
  {
   "cell_type": "code",
   "execution_count": 206,
   "id": "218211d7-0df2-4d37-ba30-e925e2a710e0",
   "metadata": {},
   "outputs": [
    {
     "data": {
      "text/plain": [
       "['banana', 'orange', 'cherry']"
      ]
     },
     "execution_count": 206,
     "metadata": {},
     "output_type": "execute_result"
    }
   ],
   "source": [
    "# ADD Element\n",
    "fruit = ['banana','orange']\n",
    "fruit.append('cherry')\n",
    "fruit"
   ]
  },
  {
   "cell_type": "code",
   "execution_count": 224,
   "id": "76d5b005-f3f5-482d-9523-bd94aa6db093",
   "metadata": {},
   "outputs": [
    {
     "data": {
      "text/plain": [
       "['soap', 'oil', 'shampoo', 'chocolate']"
      ]
     },
     "execution_count": 224,
     "metadata": {},
     "output_type": "execute_result"
    }
   ],
   "source": [
    "# Append: Add element at the end. it adds only 1 element\n",
    "grocery = [ 'soap','oil','shampoo']\n",
    "grocery.append('chocolate')\n",
    "grocery"
   ]
  },
  {
   "cell_type": "code",
   "execution_count": 226,
   "id": "ef026809-ba49-4379-8e37-cfe35912d857",
   "metadata": {},
   "outputs": [
    {
     "data": {
      "text/plain": [
       "['orange', 'soap', 'oil', 'shampoo', 'chocolate']"
      ]
     },
     "execution_count": 226,
     "metadata": {},
     "output_type": "execute_result"
    }
   ],
   "source": [
    "#Insert: Adds element at a specific index\n",
    "grocery.insert(0,'orange')\n",
    "grocery"
   ]
  },
  {
   "cell_type": "code",
   "execution_count": 232,
   "id": "dc82661a-c669-43f2-b61a-5972f978c5e8",
   "metadata": {},
   "outputs": [
    {
     "data": {
      "text/plain": [
       "[1, 2, 3, 4, 5, 6]"
      ]
     },
     "execution_count": 232,
     "metadata": {},
     "output_type": "execute_result"
    }
   ],
   "source": [
    "# extend works link concatenation in a list. Adding multiple elements at the same time.\n",
    "a = [1,2,3]\n",
    "a.extend([4,5,6])\n",
    "a"
   ]
  },
  {
   "cell_type": "code",
   "execution_count": 236,
   "id": "1efc7780-e061-4c20-8788-5abe6d1f38d5",
   "metadata": {},
   "outputs": [
    {
     "data": {
      "text/plain": [
       "[1, 3, 4, 2]"
      ]
     },
     "execution_count": 236,
     "metadata": {},
     "output_type": "execute_result"
    }
   ],
   "source": [
    "# remove () = removes the first occuraence of the value\n",
    "a = [1,2,3,4,2]\n",
    "a.remove(2)\n",
    "a"
   ]
  },
  {
   "cell_type": "code",
   "execution_count": 242,
   "id": "18a27b4b-695e-497f-bcd5-c13d69cb2f47",
   "metadata": {},
   "outputs": [
    {
     "data": {
      "text/plain": [
       "['apple', 'banana']"
      ]
     },
     "execution_count": 242,
     "metadata": {},
     "output_type": "execute_result"
    }
   ],
   "source": [
    "# Pop Method removes the last element by default\n",
    "fruits = ['apple', 'banana', 'orange']\n",
    "fruits.pop( )\n",
    "fruits"
   ]
  },
  {
   "cell_type": "code",
   "execution_count": 244,
   "id": "cb18efa0-ecba-4b46-9615-42020b2c074a",
   "metadata": {},
   "outputs": [
    {
     "data": {
      "text/plain": [
       "['banana', 'orange']"
      ]
     },
     "execution_count": 244,
     "metadata": {},
     "output_type": "execute_result"
    }
   ],
   "source": [
    "# Pop Method removes the last element which is higlighted\n",
    "fruits = ['apple', 'banana', 'orange']\n",
    "fruits.pop(0)\n",
    "fruits"
   ]
  },
  {
   "cell_type": "code",
   "execution_count": 252,
   "id": "6bd6f714-e384-409a-a066-35cdeb2a348f",
   "metadata": {},
   "outputs": [
    {
     "data": {
      "text/plain": [
       "[1, 3, 4, 5, 6, 7, 10]"
      ]
     },
     "execution_count": 252,
     "metadata": {},
     "output_type": "execute_result"
    }
   ],
   "source": [
    "#sorting my list in Ascending order\n",
    "number  = [1,3,4,5,7,10,6]\n",
    "number.sort()\n",
    "number"
   ]
  },
  {
   "cell_type": "code",
   "execution_count": 1,
   "id": "42a5d02f-9db2-4a15-a968-2fdcc500f9b6",
   "metadata": {},
   "outputs": [
    {
     "data": {
      "text/plain": [
       "[10, 7, 6, 5, 4, 3, 1]"
      ]
     },
     "execution_count": 1,
     "metadata": {},
     "output_type": "execute_result"
    }
   ],
   "source": [
    "#sorting my list in Descending order\n",
    "number  = [1,3,4,5,7,10,6]\n",
    "number.sort(reverse=True)\n",
    "number"
   ]
  },
  {
   "cell_type": "code",
   "execution_count": null,
   "id": "ef7ea39a-c1bf-4647-9b5a-6a0f00acf694",
   "metadata": {},
   "outputs": [],
   "source": [
    "# Tuple"
   ]
  },
  {
   "cell_type": "markdown",
   "id": "8de2a701-ddd6-4371-9a65-3e3e54f04a2e",
   "metadata": {},
   "source": [
    "# Tuple"
   ]
  },
  {
   "cell_type": "code",
   "execution_count": 8,
   "id": "71051098-2c0f-4625-8178-39838570550b",
   "metadata": {},
   "outputs": [],
   "source": [
    "# A tuple is a immutable colections of elements\n",
    "# They are faster than list because they are immutable\n",
    "# Tuples allow duplicate data\n",
    "# It is indicated by ()"
   ]
  },
  {
   "cell_type": "code",
   "execution_count": null,
   "id": "c6c22b68-3207-4c89-a17c-e87be32e8d3b",
   "metadata": {},
   "outputs": [],
   "source": []
  },
  {
   "cell_type": "code",
   "execution_count": 24,
   "id": "bb6a2734-dfc4-46ce-976b-a55cbca39547",
   "metadata": {},
   "outputs": [
    {
     "data": {
      "text/plain": [
       "(10, 'python', 3, 14)"
      ]
     },
     "execution_count": 24,
     "metadata": {},
     "output_type": "execute_result"
    }
   ],
   "source": [
    "a = (10, \"python\", 3, 14)\n",
    "a"
   ]
  },
  {
   "cell_type": "code",
   "execution_count": 20,
   "id": "9e497316-3b3d-41f2-b50f-67e145375bb2",
   "metadata": {},
   "outputs": [
    {
     "data": {
      "text/plain": [
       "tuple"
      ]
     },
     "execution_count": 20,
     "metadata": {},
     "output_type": "execute_result"
    }
   ],
   "source": [
    "type (a)"
   ]
  },
  {
   "cell_type": "code",
   "execution_count": 30,
   "id": "53dc56a8-5566-489d-a156-ee9d0ad5202a",
   "metadata": {},
   "outputs": [
    {
     "data": {
      "text/plain": [
       "('Python', 'Lanuage', 'English')"
      ]
     },
     "execution_count": 30,
     "metadata": {},
     "output_type": "execute_result"
    }
   ],
   "source": [
    "z = (\"Python\", \"Lanuage\", \"English\")\n",
    "z"
   ]
  },
  {
   "cell_type": "code",
   "execution_count": 32,
   "id": "e8925e36-9458-4313-bd0d-fbe19b24b355",
   "metadata": {},
   "outputs": [
    {
     "data": {
      "text/plain": [
       "tuple"
      ]
     },
     "execution_count": 32,
     "metadata": {},
     "output_type": "execute_result"
    }
   ],
   "source": [
    "type (z)"
   ]
  },
  {
   "cell_type": "markdown",
   "id": "1c53026e-fd59-4b66-ac5e-9c360e78acff",
   "metadata": {},
   "source": [
    "# Indexing and Slicing in Tuple"
   ]
  },
  {
   "cell_type": "code",
   "execution_count": 146,
   "id": "9bcee30e-9ba9-4c0f-bd9f-c7de238e5e21",
   "metadata": {},
   "outputs": [
    {
     "data": {
      "text/plain": [
       "('apple', 'banana', 'cherry')"
      ]
     },
     "execution_count": 146,
     "metadata": {},
     "output_type": "execute_result"
    }
   ],
   "source": [
    "fruits = (\"apple\", \"banana\",\"cherry\")\n",
    "fruits"
   ]
  },
  {
   "cell_type": "code",
   "execution_count": 148,
   "id": "37753197-187b-406d-979d-c7dc0cdb0026",
   "metadata": {},
   "outputs": [
    {
     "data": {
      "text/plain": [
       "'apple'"
      ]
     },
     "execution_count": 148,
     "metadata": {},
     "output_type": "execute_result"
    }
   ],
   "source": [
    "# Name of variable -> [Write the index number]\n",
    "fruits[0]"
   ]
  },
  {
   "cell_type": "code",
   "execution_count": 150,
   "id": "b4f95f65-b7a8-4d00-b0af-1b2ffb521b09",
   "metadata": {},
   "outputs": [
    {
     "data": {
      "text/plain": [
       "'banana'"
      ]
     },
     "execution_count": 150,
     "metadata": {},
     "output_type": "execute_result"
    }
   ],
   "source": [
    "# Indexing\n",
    "fruits[1]"
   ]
  },
  {
   "cell_type": "code",
   "execution_count": 152,
   "id": "3363b53c-9394-48de-8859-211826950c9f",
   "metadata": {},
   "outputs": [
    {
     "data": {
      "text/plain": [
       "'cherry'"
      ]
     },
     "execution_count": 152,
     "metadata": {},
     "output_type": "execute_result"
    }
   ],
   "source": [
    "# Indexing\n",
    "fruits[2]"
   ]
  },
  {
   "cell_type": "code",
   "execution_count": 154,
   "id": "2f6505c9-d9e9-4951-bb89-ab5488e47fcf",
   "metadata": {},
   "outputs": [],
   "source": [
    "\n",
    "fruits = (\"apple\", \"banana\",\"cherry\",\"grapes\",\"oranges\")"
   ]
  },
  {
   "cell_type": "code",
   "execution_count": 156,
   "id": "3dba62e3-4ee0-4719-88e1-9cf6851c5432",
   "metadata": {},
   "outputs": [
    {
     "data": {
      "text/plain": [
       "('apple', 'banana')"
      ]
     },
     "execution_count": 156,
     "metadata": {},
     "output_type": "execute_result"
    }
   ],
   "source": [
    "# Slicing (2-1 = 1 => start from 0 and go till 1)\n",
    "fruits[0:2]"
   ]
  },
  {
   "cell_type": "code",
   "execution_count": 158,
   "id": "fa80c8a0-a970-455e-af3c-117978444136",
   "metadata": {},
   "outputs": [
    {
     "data": {
      "text/plain": [
       "('banana', 'cherry')"
      ]
     },
     "execution_count": 158,
     "metadata": {},
     "output_type": "execute_result"
    }
   ],
   "source": [
    "fruits[1:3]"
   ]
  },
  {
   "cell_type": "code",
   "execution_count": 160,
   "id": "26161e45-6cf4-41eb-8748-329f7a33ee45",
   "metadata": {},
   "outputs": [
    {
     "data": {
      "text/plain": [
       "'oranges'"
      ]
     },
     "execution_count": 160,
     "metadata": {},
     "output_type": "execute_result"
    }
   ],
   "source": [
    "fruits[-1]"
   ]
  },
  {
   "cell_type": "code",
   "execution_count": 162,
   "id": "691b7809-11fc-4d7f-82f7-507afabfa606",
   "metadata": {},
   "outputs": [
    {
     "data": {
      "text/plain": [
       "'oranges'"
      ]
     },
     "execution_count": 162,
     "metadata": {},
     "output_type": "execute_result"
    }
   ],
   "source": [
    "fruits[4]"
   ]
  },
  {
   "cell_type": "code",
   "execution_count": 164,
   "id": "323169d8-a961-43d5-b0bf-5e63da128c7d",
   "metadata": {},
   "outputs": [
    {
     "data": {
      "text/plain": [
       "('grapes', 'oranges')"
      ]
     },
     "execution_count": 164,
     "metadata": {},
     "output_type": "execute_result"
    }
   ],
   "source": [
    "fruits[3:5]"
   ]
  },
  {
   "cell_type": "code",
   "execution_count": 166,
   "id": "d4fdb9d1-6911-4771-b326-f828e0ac9420",
   "metadata": {},
   "outputs": [
    {
     "data": {
      "text/plain": [
       "('grapes', 'oranges')"
      ]
     },
     "execution_count": 166,
     "metadata": {},
     "output_type": "execute_result"
    }
   ],
   "source": [
    "fruits[3:]"
   ]
  },
  {
   "cell_type": "markdown",
   "id": "3cac57ed-369b-439c-b4ff-1ca4126b3afb",
   "metadata": {},
   "source": [
    "# Immutablity in Tuple"
   ]
  },
  {
   "cell_type": "code",
   "execution_count": 169,
   "id": "b8b9d787-5f37-4ad0-ba04-f5a892680aaf",
   "metadata": {},
   "outputs": [
    {
     "data": {
      "text/plain": [
       "(10, 20, 30)"
      ]
     },
     "execution_count": 169,
     "metadata": {},
     "output_type": "execute_result"
    }
   ],
   "source": [
    "a = (10,20,30)\n",
    "a"
   ]
  },
  {
   "cell_type": "code",
   "execution_count": 171,
   "id": "2ac32f8b-0d05-4e9e-8309-101538317c97",
   "metadata": {},
   "outputs": [
    {
     "data": {
      "text/plain": [
       "tuple"
      ]
     },
     "execution_count": 171,
     "metadata": {},
     "output_type": "execute_result"
    }
   ],
   "source": [
    "type(a)"
   ]
  },
  {
   "cell_type": "code",
   "execution_count": 173,
   "id": "4c0169d9-7a2b-41cb-924c-4d546f4c5a82",
   "metadata": {},
   "outputs": [],
   "source": [
    "# List = []\n",
    "# Tuple = ()\n",
    "# String = \"\""
   ]
  },
  {
   "cell_type": "code",
   "execution_count": 175,
   "id": "7c4f3c98-a0eb-4eb4-96cc-754a9c2dea83",
   "metadata": {},
   "outputs": [
    {
     "ename": "TypeError",
     "evalue": "'tuple' object does not support item assignment",
     "output_type": "error",
     "traceback": [
      "\u001b[0;31m---------------------------------------------------------------------------\u001b[0m",
      "\u001b[0;31mTypeError\u001b[0m                                 Traceback (most recent call last)",
      "Cell \u001b[0;32mIn[175], line 3\u001b[0m\n\u001b[1;32m      1\u001b[0m \u001b[38;5;66;03m# Replace 10 with 20\u001b[39;00m\n\u001b[1;32m      2\u001b[0m \u001b[38;5;66;03m# Lesson: Tuple is Immutable which means once it's defined it cannot be changed\u001b[39;00m\n\u001b[0;32m----> 3\u001b[0m a[\u001b[38;5;241m0\u001b[39m] \u001b[38;5;241m=\u001b[39m \u001b[38;5;241m20\u001b[39m\n",
      "\u001b[0;31mTypeError\u001b[0m: 'tuple' object does not support item assignment"
     ]
    }
   ],
   "source": [
    "# Replace 10 with 20\n",
    "# Lesson: Tuple is Immutable which means once it's defined it cannot be changed\n",
    "a[0] = 20"
   ]
  },
  {
   "cell_type": "code",
   "execution_count": 177,
   "id": "4a30d5dd-a4f3-4d82-b914-2f2e18fee2f3",
   "metadata": {},
   "outputs": [
    {
     "data": {
      "text/plain": [
       "(20, 20, 30)"
      ]
     },
     "execution_count": 177,
     "metadata": {},
     "output_type": "execute_result"
    }
   ],
   "source": [
    "# Trying to change the element in the Tuple\n",
    "a = (10,20,30)\n",
    "b = list(a) # Converting tuple into list\n",
    "b[0] = 20 # Assigning new value\n",
    "a = tuple(b) # Converting list to tuple\n",
    "a"
   ]
  },
  {
   "cell_type": "markdown",
   "id": "75f3d573-f5c0-45d8-b00d-ed6aafa2bc93",
   "metadata": {},
   "source": [
    "# Operation in Tuple"
   ]
  },
  {
   "cell_type": "code",
   "execution_count": 180,
   "id": "73ccf926-1499-491f-825c-4fffb543c677",
   "metadata": {},
   "outputs": [
    {
     "data": {
      "text/plain": [
       "(1, 2, 3, 4, 5, 6)"
      ]
     },
     "execution_count": 180,
     "metadata": {},
     "output_type": "execute_result"
    }
   ],
   "source": [
    "# Concatenation \n",
    "a = (1,2,3)\n",
    "b = (4,5,6)\n",
    "result = a + b\n",
    "result"
   ]
  },
  {
   "cell_type": "code",
   "execution_count": 182,
   "id": "d54bc0d0-4b5e-40dd-b819-2ee969177f62",
   "metadata": {},
   "outputs": [
    {
     "data": {
      "text/plain": [
       "('A',)"
      ]
     },
     "execution_count": 182,
     "metadata": {},
     "output_type": "execute_result"
    }
   ],
   "source": [
    "# Lesson: tuple should have multiple elements\n",
    "a = (\"A\",)\n",
    "a"
   ]
  },
  {
   "cell_type": "code",
   "execution_count": 184,
   "id": "c9080118-a7c5-4370-ad3b-b44d4113d9d7",
   "metadata": {},
   "outputs": [
    {
     "data": {
      "text/plain": [
       "tuple"
      ]
     },
     "execution_count": 184,
     "metadata": {},
     "output_type": "execute_result"
    }
   ],
   "source": [
    "type(a)"
   ]
  },
  {
   "cell_type": "code",
   "execution_count": 186,
   "id": "cca9e19e-0084-4f37-9f57-b11c497581bb",
   "metadata": {},
   "outputs": [
    {
     "data": {
      "text/plain": [
       "'A'"
      ]
     },
     "execution_count": 186,
     "metadata": {},
     "output_type": "execute_result"
    }
   ],
   "source": [
    "a = (\"A\")\n",
    "a"
   ]
  },
  {
   "cell_type": "code",
   "execution_count": 188,
   "id": "57ab8a2c-4cd1-4779-9c9c-276016c0ffe4",
   "metadata": {},
   "outputs": [
    {
     "data": {
      "text/plain": [
       "('A', 'A', 'A', 'A')"
      ]
     },
     "execution_count": 188,
     "metadata": {},
     "output_type": "execute_result"
    }
   ],
   "source": [
    "# Repetation\n",
    "a = (\"A\",)*4\n",
    "a"
   ]
  },
  {
   "cell_type": "code",
   "execution_count": 190,
   "id": "c8a806e2-62c6-4cfd-b1fa-2998882a954b",
   "metadata": {},
   "outputs": [
    {
     "data": {
      "text/plain": [
       "['A']"
      ]
     },
     "execution_count": 190,
     "metadata": {},
     "output_type": "execute_result"
    }
   ],
   "source": [
    "a = [\"A\"]\n",
    "a"
   ]
  },
  {
   "cell_type": "code",
   "execution_count": 202,
   "id": "aabc4dc1-d628-44f7-8b48-b8e0e8328bc1",
   "metadata": {},
   "outputs": [
    {
     "data": {
      "text/plain": [
       "list"
      ]
     },
     "execution_count": 202,
     "metadata": {},
     "output_type": "execute_result"
    }
   ],
   "source": [
    "type(a)"
   ]
  },
  {
   "cell_type": "markdown",
   "id": "65ceb8b6-898d-4caf-8e22-01d967ddf259",
   "metadata": {},
   "source": [
    "# Dictionaries"
   ]
  },
  {
   "cell_type": "code",
   "execution_count": 209,
   "id": "158abbe6-312a-4f63-b7b1-407c296aeab9",
   "metadata": {},
   "outputs": [],
   "source": [
    "# A dictionary is unordered, mutable collection of key-value pairs\n",
    "# word: meaning\n",
    "# word in python = key\n",
    "# Meaning in python = value\n",
    "# key must be unique and immutable\n",
    "# Dictionary is indicated by {}"
   ]
  },
  {
   "cell_type": "code",
   "execution_count": 219,
   "id": "fbf76624-0b99-4ee6-9c66-fd1d45d31ba7",
   "metadata": {},
   "outputs": [
    {
     "data": {
      "text/plain": [
       "{'beautiful': 'gorgeous'}"
      ]
     },
     "execution_count": 219,
     "metadata": {},
     "output_type": "execute_result"
    }
   ],
   "source": [
    "oxford = {\"beautiful\":\"gorgeous\"}\n",
    "oxford"
   ]
  },
  {
   "cell_type": "code",
   "execution_count": 221,
   "id": "af680842-0ec4-440e-b922-f46300dcf121",
   "metadata": {},
   "outputs": [
    {
     "data": {
      "text/plain": [
       "dict"
      ]
     },
     "execution_count": 221,
     "metadata": {},
     "output_type": "execute_result"
    }
   ],
   "source": [
    "type(oxford)"
   ]
  },
  {
   "cell_type": "code",
   "execution_count": 225,
   "id": "cf27c350-7a59-4f54-bbb0-f0c3b6c67398",
   "metadata": {},
   "outputs": [
    {
     "data": {
      "text/plain": [
       "{'name': 'Max', 'age': '45', 'city': 'New York'}"
      ]
     },
     "execution_count": 225,
     "metadata": {},
     "output_type": "execute_result"
    }
   ],
   "source": [
    "a = {\"name\":\"Max\",\"age\":\"45\",\"city\":\"New York\"}\n",
    "a"
   ]
  },
  {
   "cell_type": "code",
   "execution_count": 227,
   "id": "8a775761-041a-47bd-9322-f46cdc95d3f6",
   "metadata": {},
   "outputs": [
    {
     "data": {
      "text/plain": [
       "dict_keys(['name', 'age', 'city'])"
      ]
     },
     "execution_count": 227,
     "metadata": {},
     "output_type": "execute_result"
    }
   ],
   "source": [
    "# Get all the keys()\n",
    "a.keys()"
   ]
  },
  {
   "cell_type": "code",
   "execution_count": 229,
   "id": "a1279350-af58-4bc5-b668-28d56caef2b6",
   "metadata": {},
   "outputs": [
    {
     "data": {
      "text/plain": [
       "dict_values(['Max', '45', 'New York'])"
      ]
     },
     "execution_count": 229,
     "metadata": {},
     "output_type": "execute_result"
    }
   ],
   "source": [
    "# Get all the values()\n",
    "a.values()"
   ]
  },
  {
   "cell_type": "code",
   "execution_count": 233,
   "id": "f312df42-07be-46b3-bab7-ca30fd7c9bdc",
   "metadata": {},
   "outputs": [
    {
     "data": {
      "text/plain": [
       "dict_items([('beautiful', 'gorgeous')])"
      ]
     },
     "execution_count": 233,
     "metadata": {},
     "output_type": "execute_result"
    }
   ],
   "source": [
    "# Get all the items() \n",
    "a.items()\n",
    "oxford.items()"
   ]
  },
  {
   "cell_type": "code",
   "execution_count": 235,
   "id": "62940f75-e084-4644-9651-f4abc6a5c591",
   "metadata": {},
   "outputs": [
    {
     "data": {
      "text/plain": [
       "dict_items([('name', 'Max'), ('age', '45'), ('city', 'New York')])"
      ]
     },
     "execution_count": 235,
     "metadata": {},
     "output_type": "execute_result"
    }
   ],
   "source": [
    "a.items()"
   ]
  },
  {
   "cell_type": "code",
   "execution_count": 237,
   "id": "a7ad6351-2b13-480d-a0c2-839753be48e2",
   "metadata": {},
   "outputs": [
    {
     "data": {
      "text/plain": [
       "{'name': 'Max', 'age': '45', 'city': 'New York'}"
      ]
     },
     "execution_count": 237,
     "metadata": {},
     "output_type": "execute_result"
    }
   ],
   "source": [
    "# Access ceratin elements\n",
    "a"
   ]
  },
  {
   "cell_type": "code",
   "execution_count": 239,
   "id": "43fc7138-cf04-40d5-868c-9701018cf3bc",
   "metadata": {},
   "outputs": [
    {
     "data": {
      "text/plain": [
       "'Max'"
      ]
     },
     "execution_count": 239,
     "metadata": {},
     "output_type": "execute_result"
    }
   ],
   "source": [
    "# Access the element in dictionary\n",
    "a[\"name\"]"
   ]
  },
  {
   "cell_type": "code",
   "execution_count": 241,
   "id": "2c619d48-e7bf-4e5f-9de1-a996c92539b1",
   "metadata": {},
   "outputs": [
    {
     "data": {
      "text/plain": [
       "'45'"
      ]
     },
     "execution_count": 241,
     "metadata": {},
     "output_type": "execute_result"
    }
   ],
   "source": [
    "# Access the element in dictionary\n",
    "a[\"age\"]"
   ]
  },
  {
   "cell_type": "code",
   "execution_count": 243,
   "id": "707425ae-f3a4-4c8a-87a4-50698ec04815",
   "metadata": {},
   "outputs": [
    {
     "data": {
      "text/plain": [
       "'New York'"
      ]
     },
     "execution_count": 243,
     "metadata": {},
     "output_type": "execute_result"
    }
   ],
   "source": [
    "# Access the element in dictionary\n",
    "a[\"city\"]"
   ]
  },
  {
   "cell_type": "code",
   "execution_count": 245,
   "id": "a824e821-e528-4434-9b81-683f6435f609",
   "metadata": {},
   "outputs": [
    {
     "data": {
      "text/plain": [
       "{'name': 'Alex', 'Age': '50'}"
      ]
     },
     "execution_count": 245,
     "metadata": {},
     "output_type": "execute_result"
    }
   ],
   "source": [
    "# Modify a dictionary\n",
    "person = {\"name\":\"Alex\",\"Age\":\"50\"}\n",
    "person"
   ]
  },
  {
   "cell_type": "code",
   "execution_count": 247,
   "id": "7881badb-aac1-48c9-9052-9f8b368a955f",
   "metadata": {},
   "outputs": [
    {
     "data": {
      "text/plain": [
       "'50'"
      ]
     },
     "execution_count": 247,
     "metadata": {},
     "output_type": "execute_result"
    }
   ],
   "source": [
    "# Modify a dictionary\n",
    "person ['Age']"
   ]
  },
  {
   "cell_type": "code",
   "execution_count": 251,
   "id": "aa2bd009-d46f-4087-88ba-2edf2d83074a",
   "metadata": {},
   "outputs": [
    {
     "data": {
      "text/plain": [
       "{'name': 'Alex', 'Age': 25}"
      ]
     },
     "execution_count": 251,
     "metadata": {},
     "output_type": "execute_result"
    }
   ],
   "source": [
    "# Modify a dictionary\n",
    "person ['Age'] = 25\n",
    "person"
   ]
  },
  {
   "cell_type": "code",
   "execution_count": 255,
   "id": "2f915b21-c095-4417-8ee4-7d1e583a346b",
   "metadata": {},
   "outputs": [
    {
     "data": {
      "text/plain": [
       "{'name': 'Alex', 'Age': 25, 'city': 'New York'}"
      ]
     },
     "execution_count": 255,
     "metadata": {},
     "output_type": "execute_result"
    }
   ],
   "source": [
    "# Add a new key: value pair in the dictionary \n",
    "person[\"city\"] = \"New York\"\n",
    "person"
   ]
  },
  {
   "cell_type": "code",
   "execution_count": 257,
   "id": "699188f6-b26c-4d5f-b4d2-4f6197506c37",
   "metadata": {},
   "outputs": [
    {
     "data": {
      "text/plain": [
       "{'name': 'Alex', 'Age': 25, 'city': 'New York', 'salary': '$100,000'}"
      ]
     },
     "execution_count": 257,
     "metadata": {},
     "output_type": "execute_result"
    }
   ],
   "source": [
    "person['salary'] = \"$100,000\"\n",
    "person"
   ]
  },
  {
   "cell_type": "code",
   "execution_count": 259,
   "id": "47e63359-260a-46ef-b6a6-7d9dc5846626",
   "metadata": {},
   "outputs": [],
   "source": [
    "# Delete a key: value pair\n",
    "del person['Age']"
   ]
  },
  {
   "cell_type": "code",
   "execution_count": 261,
   "id": "97bdc960-6c55-4309-b136-21886bd8f85d",
   "metadata": {},
   "outputs": [
    {
     "data": {
      "text/plain": [
       "{'name': 'Alex', 'city': 'New York', 'salary': '$100,000'}"
      ]
     },
     "execution_count": 261,
     "metadata": {},
     "output_type": "execute_result"
    }
   ],
   "source": [
    "person"
   ]
  },
  {
   "cell_type": "markdown",
   "id": "e826f1f7-2f41-46e9-b7bd-78dcce2435e5",
   "metadata": {},
   "source": [
    "# Set"
   ]
  },
  {
   "cell_type": "code",
   "execution_count": 270,
   "id": "188595c2-f6b6-4e8d-922b-b3454d0456b8",
   "metadata": {},
   "outputs": [],
   "source": [
    "# A set is an unordered, mutable collection of unique elements\n",
    "# We use {} to define set"
   ]
  },
  {
   "cell_type": "code",
   "execution_count": 272,
   "id": "b7f57fb8-68b8-400f-aa77-64e48892ae95",
   "metadata": {},
   "outputs": [
    {
     "data": {
      "text/plain": [
       "{1, 2, 3}"
      ]
     },
     "execution_count": 272,
     "metadata": {},
     "output_type": "execute_result"
    }
   ],
   "source": [
    "a = {1,2,3}\n",
    "a"
   ]
  },
  {
   "cell_type": "code",
   "execution_count": 274,
   "id": "b0df9719-aee9-4a64-b459-668b93606aca",
   "metadata": {},
   "outputs": [
    {
     "data": {
      "text/plain": [
       "set"
      ]
     },
     "execution_count": 274,
     "metadata": {},
     "output_type": "execute_result"
    }
   ],
   "source": [
    "type(a)"
   ]
  },
  {
   "cell_type": "code",
   "execution_count": 278,
   "id": "86302c8b-67d0-4605-88f0-3b9ffe682060",
   "metadata": {},
   "outputs": [
    {
     "data": {
      "text/plain": [
       "{'key': 'value'}"
      ]
     },
     "execution_count": 278,
     "metadata": {},
     "output_type": "execute_result"
    }
   ],
   "source": [
    "a = {\"key\":\"value\"}\n",
    "a"
   ]
  },
  {
   "cell_type": "code",
   "execution_count": 280,
   "id": "e28efd50-564a-4a6a-9ae5-f5ebe4a145cf",
   "metadata": {},
   "outputs": [
    {
     "data": {
      "text/plain": [
       "dict"
      ]
     },
     "execution_count": 280,
     "metadata": {},
     "output_type": "execute_result"
    }
   ],
   "source": [
    "type(a)"
   ]
  },
  {
   "cell_type": "code",
   "execution_count": 282,
   "id": "b8b2af5e-fe48-4e4c-a741-7542eb1ccb0f",
   "metadata": {},
   "outputs": [
    {
     "data": {
      "text/plain": [
       "{1, 2, 3, 4, 5}"
      ]
     },
     "execution_count": 282,
     "metadata": {},
     "output_type": "execute_result"
    }
   ],
   "source": [
    "a = {1,2,3,4,5,5}\n",
    "a"
   ]
  },
  {
   "cell_type": "code",
   "execution_count": 286,
   "id": "ed7c73b4-1f18-4d46-abad-60a0c95c060f",
   "metadata": {},
   "outputs": [
    {
     "data": {
      "text/plain": [
       "{1, 2, 3, 4, 5}"
      ]
     },
     "execution_count": 286,
     "metadata": {},
     "output_type": "execute_result"
    }
   ],
   "source": [
    "set(a)"
   ]
  },
  {
   "cell_type": "code",
   "execution_count": 284,
   "id": "322fbbc4-b3e5-4c43-8b29-adbf31e7b001",
   "metadata": {},
   "outputs": [
    {
     "data": {
      "text/plain": [
       "set"
      ]
     },
     "execution_count": 284,
     "metadata": {},
     "output_type": "execute_result"
    }
   ],
   "source": [
    "type(a)"
   ]
  },
  {
   "cell_type": "code",
   "execution_count": 290,
   "id": "6fd63e91-ab2c-43ff-a9ad-0a44811b49b5",
   "metadata": {},
   "outputs": [
    {
     "data": {
      "text/plain": [
       "{'aftermoorn', 'later', 'me', 'text', 'this'}"
      ]
     },
     "execution_count": 290,
     "metadata": {},
     "output_type": "execute_result"
    }
   ],
   "source": [
    "a = {\"text\", \"me\", \"later\", \"this\", \"aftermoorn\", \"later\"}\n",
    "a"
   ]
  },
  {
   "cell_type": "code",
   "execution_count": 302,
   "id": "23157ea0-b765-4e43-a41c-d08acb775f8e",
   "metadata": {},
   "outputs": [
    {
     "data": {
      "text/plain": [
       "{0, 1, 2, 3, 4, 5, 7, 8}"
      ]
     },
     "execution_count": 302,
     "metadata": {},
     "output_type": "execute_result"
    }
   ],
   "source": [
    "a = {1,4,7,3,8,5,8,4,3,2,0}\n",
    "a"
   ]
  },
  {
   "cell_type": "code",
   "execution_count": 304,
   "id": "99fe1ee3-bbe9-49fe-9e43-62be990ad56c",
   "metadata": {},
   "outputs": [],
   "source": [
    "# Lesson: You cannot have similar elemetns in set\n",
    "# Set automaticcally arrange itself in ascending order\n"
   ]
  },
  {
   "cell_type": "code",
   "execution_count": 306,
   "id": "357210fd-9497-406b-a664-393b845b7b49",
   "metadata": {},
   "outputs": [
    {
     "data": {
      "text/plain": [
       "{0, 1, 2, 3, 4, 5, 6, 7, 8}"
      ]
     },
     "execution_count": 306,
     "metadata": {},
     "output_type": "execute_result"
    }
   ],
   "source": [
    "# Add Element to a set\n",
    "a.add(6)\n",
    "a"
   ]
  },
  {
   "cell_type": "code",
   "execution_count": 320,
   "id": "c1c22441-31f8-46c4-a215-421019d200fd",
   "metadata": {},
   "outputs": [
    {
     "data": {
      "text/plain": [
       "{0, 1, 2, 3, 4, 5, 6, 7, 8, 'hello'}"
      ]
     },
     "execution_count": 320,
     "metadata": {},
     "output_type": "execute_result"
    }
   ],
   "source": [
    "# Add Element to a set\n",
    "a.add(\"hello\")\n",
    "a"
   ]
  },
  {
   "cell_type": "code",
   "execution_count": 322,
   "id": "54d43cdb-7b00-4d38-b263-beca93c1e2fe",
   "metadata": {},
   "outputs": [
    {
     "data": {
      "text/plain": [
       "{0, 1, 2, 3, 4, 5, 6, 7, 8, 'hello'}"
      ]
     },
     "execution_count": 322,
     "metadata": {},
     "output_type": "execute_result"
    }
   ],
   "source": [
    "# Add Element to a set\n",
    "a.add(7)\n",
    "a"
   ]
  },
  {
   "cell_type": "code",
   "execution_count": 324,
   "id": "be4e897f-e0c9-4623-ad63-1ac666ef36e6",
   "metadata": {},
   "outputs": [
    {
     "data": {
      "text/plain": [
       "{0, 1, 2, 3, 4, 5, 6, 7, 8}"
      ]
     },
     "execution_count": 324,
     "metadata": {},
     "output_type": "execute_result"
    }
   ],
   "source": [
    "# Remove element to a set\n",
    "a.remove(\"hello\")\n",
    "a"
   ]
  },
  {
   "cell_type": "code",
   "execution_count": 336,
   "id": "90dbd5eb-cc60-4ae0-a03e-55cc8c41866f",
   "metadata": {},
   "outputs": [
    {
     "name": "stdout",
     "output_type": "stream",
     "text": [
      "{1, 2, 3, 4, 5, 6, 7, 8}\n",
      "{4, 5}\n",
      "{1, 2, 3}\n"
     ]
    }
   ],
   "source": [
    "# Operations in Set\n",
    "\n",
    "A = {1,2,3,4,5}\n",
    "B = {5,4,6,7,8}\n",
    "\n",
    "print(A | B) # | = Union\n",
    "print(A & B)\n",
    "print(A - B)"
   ]
  },
  {
   "cell_type": "code",
   "execution_count": 343,
   "id": "53d3ae81-debd-403c-803a-a716242d161c",
   "metadata": {},
   "outputs": [
    {
     "data": {
      "text/plain": [
       "{1, 2, 3}"
      ]
     },
     "execution_count": 343,
     "metadata": {},
     "output_type": "execute_result"
    }
   ],
   "source": [
    "# Lesson: Indexing is not supported in set you need to convert it into list and then back to set\n",
    "a = {1,2,3}\n",
    "a"
   ]
  },
  {
   "cell_type": "code",
   "execution_count": 349,
   "id": "713ff800-824f-4acf-92d0-eed71b7a19ef",
   "metadata": {},
   "outputs": [
    {
     "data": {
      "text/plain": [
       "{2, 3, 5}"
      ]
     },
     "execution_count": 349,
     "metadata": {},
     "output_type": "execute_result"
    }
   ],
   "source": [
    "b = list(a)\n",
    "b[0] = 5\n",
    "a = set(b)\n",
    "a"
   ]
  },
  {
   "cell_type": "markdown",
   "id": "c759b831-0384-41a0-8802-6c52d10c2265",
   "metadata": {},
   "source": [
    "# Boolean (bool)"
   ]
  },
  {
   "cell_type": "code",
   "execution_count": 354,
   "id": "689d9ed8-ed20-45a0-8a34-76b568906ff8",
   "metadata": {},
   "outputs": [],
   "source": [
    "# A Boolean is a data type that has only 2 value: true and false\n",
    "# True is treated as 1\n",
    "# False is treated as 0"
   ]
  },
  {
   "cell_type": "code",
   "execution_count": 356,
   "id": "044f36d7-16fb-4404-9aad-2b8f128a23cb",
   "metadata": {},
   "outputs": [
    {
     "data": {
      "text/plain": [
       "True"
      ]
     },
     "execution_count": 356,
     "metadata": {},
     "output_type": "execute_result"
    }
   ],
   "source": [
    "10>3"
   ]
  },
  {
   "cell_type": "code",
   "execution_count": 360,
   "id": "65b2f314-1206-42f2-9099-da0c01bb6fe2",
   "metadata": {},
   "outputs": [
    {
     "data": {
      "text/plain": [
       "bool"
      ]
     },
     "execution_count": 360,
     "metadata": {},
     "output_type": "execute_result"
    }
   ],
   "source": [
    "type(10<3)"
   ]
  },
  {
   "cell_type": "code",
   "execution_count": 362,
   "id": "57e4b9f6-39ca-4d7f-b9cb-67da9636c38b",
   "metadata": {},
   "outputs": [
    {
     "data": {
      "text/plain": [
       "bool"
      ]
     },
     "execution_count": 362,
     "metadata": {},
     "output_type": "execute_result"
    }
   ],
   "source": [
    "type(10>3)"
   ]
  },
  {
   "cell_type": "code",
   "execution_count": 364,
   "id": "23800649-ed20-43b6-b0ad-63eeafe92a08",
   "metadata": {},
   "outputs": [
    {
     "data": {
      "text/plain": [
       "2"
      ]
     },
     "execution_count": 364,
     "metadata": {},
     "output_type": "execute_result"
    }
   ],
   "source": [
    "True + True"
   ]
  },
  {
   "cell_type": "code",
   "execution_count": 366,
   "id": "df85e882-e708-4e1c-9777-ec794fc6db36",
   "metadata": {},
   "outputs": [
    {
     "data": {
      "text/plain": [
       "1"
      ]
     },
     "execution_count": 366,
     "metadata": {},
     "output_type": "execute_result"
    }
   ],
   "source": [
    "True + False"
   ]
  },
  {
   "cell_type": "code",
   "execution_count": 368,
   "id": "d12fa0e8-9fea-4ae6-a7be-6f4fb43c8624",
   "metadata": {},
   "outputs": [
    {
     "data": {
      "text/plain": [
       "0"
      ]
     },
     "execution_count": 368,
     "metadata": {},
     "output_type": "execute_result"
    }
   ],
   "source": [
    "False+ False"
   ]
  },
  {
   "cell_type": "code",
   "execution_count": 370,
   "id": "1d36b061-0dce-49b0-9096-bd5db972ee10",
   "metadata": {},
   "outputs": [
    {
     "data": {
      "text/plain": [
       "1"
      ]
     },
     "execution_count": 370,
     "metadata": {},
     "output_type": "execute_result"
    }
   ],
   "source": [
    "False+ True"
   ]
  },
  {
   "cell_type": "markdown",
   "id": "0175416a-c461-45cf-ba7c-0a38253832c5",
   "metadata": {},
   "source": [
    "# Conclusion of Data Types in Python"
   ]
  },
  {
   "cell_type": "code",
   "execution_count": 439,
   "id": "32def04d-9f30-4672-98a5-2cc8aa2a642c",
   "metadata": {},
   "outputs": [
    {
     "data": {
      "text/plain": [
       "int"
      ]
     },
     "execution_count": 439,
     "metadata": {},
     "output_type": "execute_result"
    }
   ],
   "source": [
    "# Number data type\n",
    "a = 1\n",
    "type(a)"
   ]
  },
  {
   "cell_type": "code",
   "execution_count": 441,
   "id": "8a3018e0-ab19-4396-9fd0-fa434029743a",
   "metadata": {},
   "outputs": [
    {
     "data": {
      "text/plain": [
       "str"
      ]
     },
     "execution_count": 441,
     "metadata": {},
     "output_type": "execute_result"
    }
   ],
   "source": [
    "#String\n",
    "a = \"abc\"\n",
    "type(a)"
   ]
  },
  {
   "cell_type": "code",
   "execution_count": 443,
   "id": "2ea34fd1-c0fa-45e1-8fc4-976832e50ba0",
   "metadata": {},
   "outputs": [
    {
     "data": {
      "text/plain": [
       "list"
      ]
     },
     "execution_count": 443,
     "metadata": {},
     "output_type": "execute_result"
    }
   ],
   "source": [
    "#list data type\n",
    "a = [1,2,3]\n",
    "type(a)"
   ]
  },
  {
   "cell_type": "code",
   "execution_count": 445,
   "id": "142b3fed-56d7-4e31-8d40-695bf8577c54",
   "metadata": {},
   "outputs": [
    {
     "data": {
      "text/plain": [
       "tuple"
      ]
     },
     "execution_count": 445,
     "metadata": {},
     "output_type": "execute_result"
    }
   ],
   "source": [
    "# Tuple data type ()\n",
    "a = (1,2)\n",
    "a\n",
    "type(a)"
   ]
  },
  {
   "cell_type": "code",
   "execution_count": 447,
   "id": "aa36ae9b-a9a4-478a-98c9-11c643aa3e54",
   "metadata": {},
   "outputs": [
    {
     "data": {
      "text/plain": [
       "dict"
      ]
     },
     "execution_count": 447,
     "metadata": {},
     "output_type": "execute_result"
    }
   ],
   "source": [
    "# Dictionary curly brackets {}  -> In Dictionary: we have key: value pair\n",
    "a = {\"Name\":\"Max\"}\n",
    "type(a)"
   ]
  },
  {
   "cell_type": "code",
   "execution_count": 435,
   "id": "089abf5f-5c3c-4afa-8615-d4cf086bf822",
   "metadata": {},
   "outputs": [],
   "source": [
    "# Set curly brackets {}\n",
    "a = {1,2,3}\n",
    "type(a)"
   ]
  },
  {
   "cell_type": "code",
   "execution_count": 451,
   "id": "06613c7f-7d50-4ed2-9e2f-776f6aa2c7a4",
   "metadata": {},
   "outputs": [
    {
     "data": {
      "text/plain": [
       "bool"
      ]
     },
     "execution_count": 451,
     "metadata": {},
     "output_type": "execute_result"
    }
   ],
   "source": [
    "# Boolean Data type\n",
    "a = True\n",
    "type(a)"
   ]
  },
  {
   "cell_type": "markdown",
   "id": "b0c27f77-69b1-4e92-8637-716e83ceae61",
   "metadata": {},
   "source": [
    "# Conditional Statment in Python"
   ]
  },
  {
   "cell_type": "code",
   "execution_count": 455,
   "id": "ce066c9a-e271-41ec-9576-164f6c803785",
   "metadata": {},
   "outputs": [],
   "source": [
    "# In Python, conditional staements (if, if-else, if-elif-else) allow us to execute different blocks of code based on ceratain conditions\n",
    "# These conditions are eveluated based on boolean expression (True or False)"
   ]
  },
  {
   "cell_type": "markdown",
   "id": "9c2eea36-28a3-41dd-b5a6-3dc83e4d2473",
   "metadata": {},
   "source": [
    "# If statement"
   ]
  },
  {
   "cell_type": "code",
   "execution_count": 458,
   "id": "4446f6d8-7fdd-4f97-9f2d-693fd730d88f",
   "metadata": {},
   "outputs": [],
   "source": [
    "# The if staement checks a condition, and if it's true, it will execute the code"
   ]
  },
  {
   "cell_type": "code",
   "execution_count": 464,
   "id": "adc3d730-f90f-49cd-ad2f-15a3a3f08c00",
   "metadata": {},
   "outputs": [],
   "source": [
    "# Syntax of if Statement\n",
    "\n",
    "if Condition:\n",
    "    # Execude the code"
   ]
  },
  {
   "cell_type": "code",
   "execution_count": 468,
   "id": "c56c830a-3a20-4e2a-9a19-e77546fb4851",
   "metadata": {},
   "outputs": [
    {
     "name": "stdout",
     "output_type": "stream",
     "text": [
      "a is greater than b\n"
     ]
    }
   ],
   "source": [
    "a = 10\n",
    "b = 7\n",
    "\n",
    "if a > b:\n",
    "    print(\"a is greater than b\")"
   ]
  },
  {
   "cell_type": "code",
   "execution_count": 473,
   "id": "36f66cc8-af00-46be-9150-e462d55eb239",
   "metadata": {},
   "outputs": [
    {
     "name": "stdout",
     "output_type": "stream",
     "text": [
      "You are eligible to vote\n"
     ]
    }
   ],
   "source": [
    "age = 20\n",
    "if age >18:\n",
    "    print(\"You are eligible to vote\")"
   ]
  },
  {
   "cell_type": "code",
   "execution_count": 489,
   "id": "d7d0ba1f-7256-40b6-8f9f-e36e4085acf1",
   "metadata": {},
   "outputs": [],
   "source": [
    "age = 15\n",
    "if age > 18:\n",
    "    print(\"You are eligible to vote\")"
   ]
  },
  {
   "cell_type": "code",
   "execution_count": 477,
   "id": "82d97ab0-d8d2-4043-9176-6acc034671c7",
   "metadata": {},
   "outputs": [],
   "source": [
    "# Lesson: The gap that you see in the if statement is called indentation."
   ]
  },
  {
   "cell_type": "code",
   "execution_count": 491,
   "id": "9532997d-3fc2-4ccb-b8c7-fcb45a5e8d23",
   "metadata": {},
   "outputs": [
    {
     "ename": "IndentationError",
     "evalue": "expected an indented block after 'if' statement on line 2 (41965995.py, line 3)",
     "output_type": "error",
     "traceback": [
      "\u001b[0;36m  Cell \u001b[0;32mIn[491], line 3\u001b[0;36m\u001b[0m\n\u001b[0;31m    print(\"You are eligible to vote\")\u001b[0m\n\u001b[0m    ^\u001b[0m\n\u001b[0;31mIndentationError\u001b[0m\u001b[0;31m:\u001b[0m expected an indented block after 'if' statement on line 2\n"
     ]
    }
   ],
   "source": [
    "# Syntax error\n",
    "age = 20\n",
    "if age >18:\n",
    "print(\"You are eligible to vote\")"
   ]
  },
  {
   "cell_type": "code",
   "execution_count": 493,
   "id": "bd68099e-e283-479d-a3bf-26a3836ef617",
   "metadata": {},
   "outputs": [
    {
     "name": "stdout",
     "output_type": "stream",
     "text": [
      "40\n",
      "20\n",
      "30\n"
     ]
    }
   ],
   "source": [
    "a = 40\n",
    "b = 20\n",
    "c = 30\n",
    "\n",
    "if a>b and a>c:\n",
    "    print(a)\n",
    "    print(b)\n",
    "    print(c)"
   ]
  },
  {
   "cell_type": "code",
   "execution_count": 503,
   "id": "551e13d5-fca6-4fab-b6ee-1fd5f62deafa",
   "metadata": {},
   "outputs": [],
   "source": [
    "a = 10\n",
    "b = 20\n",
    "\n",
    "\n",
    "if a>b: \n",
    "    print(a)"
   ]
  },
  {
   "cell_type": "code",
   "execution_count": 511,
   "id": "ca8f700e-bc56-4790-960a-47fe19e93eae",
   "metadata": {},
   "outputs": [],
   "source": [
    "# 2. if-else statement\n",
    "# when the if condition is true, it will run the if condition\n",
    "# when the if condition is false, it will run the else condition"
   ]
  },
  {
   "cell_type": "code",
   "execution_count": null,
   "id": "de960f43-ceae-45f6-aef4-f5cf36b177b7",
   "metadata": {},
   "outputs": [],
   "source": [
    "# Syntax of if-sles statement\n",
    "\n",
    "if condition: \n",
    "    # Run the code if condition is True\n",
    "else:\n",
    "    # Run the code if condition is False"
   ]
  },
  {
   "cell_type": "code",
   "execution_count": 565,
   "id": "d3f5326a-36fd-42fd-bc09-a2d7c87a8067",
   "metadata": {},
   "outputs": [
    {
     "name": "stdout",
     "output_type": "stream",
     "text": [
      "You are eligible to vote\n"
     ]
    }
   ],
   "source": [
    "age = 25\n",
    "if age > 18:\n",
    "    print(\"You are eligible to vote\")\n",
    "else:\n",
    "    print(\"You are not eligible to vote\")"
   ]
  },
  {
   "cell_type": "code",
   "execution_count": 567,
   "id": "6b360146-5b36-4fab-8f0f-189b84566098",
   "metadata": {},
   "outputs": [
    {
     "name": "stdout",
     "output_type": "stream",
     "text": [
      "You are not eligible to vote\n"
     ]
    }
   ],
   "source": [
    "age = 15\n",
    "if age > 18:\n",
    "    print(\"You are eligible to vote\")\n",
    "else:\n",
    "    print(\"You are not eligible to vote\")"
   ]
  },
  {
   "cell_type": "code",
   "execution_count": 569,
   "id": "6baf8887-dd77-4e65-80ea-09f8989a1209",
   "metadata": {},
   "outputs": [
    {
     "name": "stdout",
     "output_type": "stream",
     "text": [
      "Above Avg\n",
      "Student is amazing\n"
     ]
    }
   ],
   "source": [
    "marks = 90\n",
    "\n",
    "if marks > 85:\n",
    "    print(\"Above Avg\")\n",
    "    print(\"Student is amazing\")\n",
    "else:\n",
    "    print(\"Below Avg\")\n",
    "    print(\"Students needs to work hard\")\n",
    "    "
   ]
  },
  {
   "cell_type": "code",
   "execution_count": 571,
   "id": "b446a444-9ed3-467a-aa0b-92e96291cf7e",
   "metadata": {},
   "outputs": [
    {
     "name": "stdout",
     "output_type": "stream",
     "text": [
      "Below Avg\n",
      "Students needs to work hard\n"
     ]
    }
   ],
   "source": [
    "marks = 70\n",
    "\n",
    "if marks > 85:\n",
    "    print(\"Above Avg\")\n",
    "    print(\"Student is amazing\")\n",
    "else:\n",
    "    print(\"Below Avg\")\n",
    "    print(\"Students needs to work hard\")"
   ]
  },
  {
   "cell_type": "code",
   "execution_count": 573,
   "id": "8512a934-f21b-426f-99d3-bc401d9f5622",
   "metadata": {},
   "outputs": [],
   "source": [
    "# 3. If-elif-else statement is used for multiple conditions"
   ]
  },
  {
   "cell_type": "code",
   "execution_count": 575,
   "id": "13645ed2-c58f-4030-81a5-96d8cead05b3",
   "metadata": {},
   "outputs": [],
   "source": [
    "# 1 Condition - if\n",
    "# 2 Condition - if - else\n",
    "# Multiple Condition - if - elif -else"
   ]
  },
  {
   "cell_type": "code",
   "execution_count": 577,
   "id": "e53d9c3f-a127-4a3a-8eb1-14db57cc507d",
   "metadata": {},
   "outputs": [
    {
     "name": "stdout",
     "output_type": "stream",
     "text": [
      "Grade is D\n"
     ]
    }
   ],
   "source": [
    "marks = 50\n",
    "\n",
    "if marks >= 90:\n",
    "    print(\"Grade is A\")\n",
    "elif marks >= 80:\n",
    "    print(\"Grade is B\")\n",
    "elif marks >= 70:\n",
    "    print(\"Grade is c\")\n",
    "else: \n",
    "    print(\"Grade is D\")\n",
    "    "
   ]
  },
  {
   "cell_type": "code",
   "execution_count": 579,
   "id": "2eb2dd69-6faf-4abd-b16a-7a21af948404",
   "metadata": {},
   "outputs": [
    {
     "name": "stdout",
     "output_type": "stream",
     "text": [
      "Grade is F\n"
     ]
    }
   ],
   "source": [
    "marks = 45\n",
    "\n",
    "if marks >= 90:\n",
    "    print(\"Grade is A\")\n",
    "elif marks >= 80:\n",
    "    print(\"Grade is B\")\n",
    "elif marks >= 70:\n",
    "    print(\"Grade is c\")\n",
    "elif marks >= 60:\n",
    "    print(\"Grade is D\")\n",
    "elif marks >= 50:\n",
    "    print(\"Grade is E\")\n",
    "else: \n",
    "    print(\"Grade is F\")"
   ]
  },
  {
   "cell_type": "code",
   "execution_count": 581,
   "id": "73d13f36-249f-4f8f-9fe0-d88d8bfd7dd8",
   "metadata": {},
   "outputs": [
    {
     "name": "stdout",
     "output_type": "stream",
     "text": [
      "YES\n"
     ]
    }
   ],
   "source": [
    "# Confuse\n",
    "\n",
    "age = 18\n",
    "\n",
    "if age == 18:\n",
    "    print('YES')\n"
   ]
  },
  {
   "cell_type": "markdown",
   "id": "9c581e41-65c4-4884-b2b0-2ca9419b8531",
   "metadata": {},
   "source": [
    "# Nested if"
   ]
  },
  {
   "cell_type": "code",
   "execution_count": 584,
   "id": "110e9a12-acba-4c50-b59e-d5e5ece2d230",
   "metadata": {},
   "outputs": [],
   "source": [
    "# We can nest one if statement inside another "
   ]
  },
  {
   "cell_type": "markdown",
   "id": "b50b26ec-5808-4086-948a-48fef1efb989",
   "metadata": {},
   "source": [
    "if condition:\n",
    "    if condition:"
   ]
  },
  {
   "cell_type": "code",
   "execution_count": 587,
   "id": "d7905d21-9e1b-45c2-b28e-aab19d36567f",
   "metadata": {},
   "outputs": [
    {
     "name": "stdout",
     "output_type": "stream",
     "text": [
      "number is positive\n",
      "it is even\n"
     ]
    }
   ],
   "source": [
    "# Nested if (if inside if)\n",
    "a = 10\n",
    "if a>0:\n",
    "    print(\"number is positive\")\n",
    "          \n",
    "    if a % 2 == 0:\n",
    "          print (\"it is even\")\n",
    "    else: \n",
    "          print (\"it is odd\")\n",
    "else: \n",
    "    print(\"number is negative\")"
   ]
  },
  {
   "cell_type": "code",
   "execution_count": 589,
   "id": "6c0ac501-0e35-4c7d-88cf-091e7d5f4c4e",
   "metadata": {},
   "outputs": [
    {
     "name": "stdout",
     "output_type": "stream",
     "text": [
      "number is negative\n"
     ]
    }
   ],
   "source": [
    "# Nested if (if inside if)\n",
    "a = -10\n",
    "if a>0:\n",
    "    print(\"number is positive\")\n",
    "          \n",
    "    if a % 2 == 0:\n",
    "          print (\"it is even\")\n",
    "    else: \n",
    "          print (\"it is odd\")\n",
    "else: \n",
    "    print(\"number is negative\")"
   ]
  },
  {
   "cell_type": "code",
   "execution_count": 591,
   "id": "15d5848b-56cc-4d2c-9ea5-c4aeca3f1e7a",
   "metadata": {},
   "outputs": [
    {
     "name": "stdout",
     "output_type": "stream",
     "text": [
      "number is positive\n",
      "it is odd\n"
     ]
    }
   ],
   "source": [
    "# Nested if (if inside if)\n",
    "a = 1\n",
    "if a>0:\n",
    "    print(\"number is positive\")\n",
    "          \n",
    "    if a % 2 == 0:\n",
    "          print (\"it is even\")\n",
    "    else: \n",
    "          print (\"it is odd\")\n",
    "else: \n",
    "    print(\"number is negative\")"
   ]
  },
  {
   "cell_type": "code",
   "execution_count": 610,
   "id": "0a736dfd-0f86-4d80-aa57-eb64a85357ae",
   "metadata": {},
   "outputs": [
    {
     "name": "stdout",
     "output_type": "stream",
     "text": [
      "You passed the exam\n",
      "Good marks\n"
     ]
    }
   ],
   "source": [
    "marks = 89\n",
    "\n",
    "if marks >= 50:\n",
    "    print(\"You passed the exam\")\n",
    "    if marks >= 90:\n",
    "        print(\"Excellent marks\")\n",
    "    elif marks >= 80:\n",
    "        print(\"Good marks\")\n",
    "    else:\n",
    "        print(\"You failed the exam\")"
   ]
  },
  {
   "cell_type": "code",
   "execution_count": null,
   "id": "1406da25-6236-43c1-bb73-b548a869f014",
   "metadata": {},
   "outputs": [],
   "source": [
    "# Lesson: Only one statement will be execute -> Either if statement or elif statement or else statement"
   ]
  },
  {
   "cell_type": "markdown",
   "id": "831011dd-e55f-4885-a2ad-1c76c9177c8a",
   "metadata": {},
   "source": [
    "# Thank you!"
   ]
  }
 ],
 "metadata": {
  "kernelspec": {
   "display_name": "Python [conda env:anaconda3] *",
   "language": "python",
   "name": "conda-env-anaconda3-py"
  },
  "language_info": {
   "codemirror_mode": {
    "name": "ipython",
    "version": 3
   },
   "file_extension": ".py",
   "mimetype": "text/x-python",
   "name": "python",
   "nbconvert_exporter": "python",
   "pygments_lexer": "ipython3",
   "version": "3.11.5"
  }
 },
 "nbformat": 4,
 "nbformat_minor": 5
}
