{
 "cells": [
  {
   "cell_type": "markdown",
   "id": "10258e17-f484-42dc-992b-baa87eb5b871",
   "metadata": {},
   "source": [
    "# Loops in python"
   ]
  },
  {
   "cell_type": "code",
   "execution_count": 20,
   "id": "cad8074f-b7a3-4497-8d3a-1e65b6565bc1",
   "metadata": {},
   "outputs": [
    {
     "name": "stdout",
     "output_type": "stream",
     "text": [
      "Hello Max!\n",
      "Hello Max!\n",
      "Hello Max!\n",
      "Hello Max!\n",
      "Hello Max!\n",
      "Hello Max!\n"
     ]
    }
   ],
   "source": [
    "# It is not possible to write the same code 1000 times. That's why the concenpt of loops came in!\n",
    "print(\"Hello Max!\")\n",
    "print(\"Hello Max!\")\n",
    "print(\"Hello Max!\")\n",
    "print(\"Hello Max!\")\n",
    "print(\"Hello Max!\")\n",
    "print(\"Hello Max!\")\n",
    "\n"
   ]
  },
  {
   "cell_type": "code",
   "execution_count": 22,
   "id": "b2e3c02b-9a88-4f14-8709-1ebc8b6e7452",
   "metadata": {},
   "outputs": [
    {
     "name": "stdout",
     "output_type": "stream",
     "text": [
      "Hello Max!\n"
     ]
    }
   ],
   "source": [
    "print(\"Hello Max!\")"
   ]
  },
  {
   "cell_type": "code",
   "execution_count": 24,
   "id": "9d7f2275-3621-46e1-b06b-341395f61abf",
   "metadata": {},
   "outputs": [],
   "source": [
    "# Loops are funtamental in programming as they allow us to execute a block of code multiple times.\n",
    "# Reducing redundancy and making program (code) more efficient\n",
    "# There are 2 type of loops in python\n",
    "# 1) For loop \n",
    "# 2) While loop"
   ]
  },
  {
   "cell_type": "code",
   "execution_count": 26,
   "id": "cdff5037-7d04-4162-8cc3-b4d3718d59ae",
   "metadata": {},
   "outputs": [],
   "source": [
    "# 1) For loop - we will use for loop when we know how many iterions we have to do\n",
    "# 2) While loop - we will use while loop when we do not know how many iterations to perform"
   ]
  },
  {
   "cell_type": "code",
   "execution_count": 28,
   "id": "8c516f9b-253f-42b6-a438-8945418845c9",
   "metadata": {},
   "outputs": [],
   "source": [
    "# If i say -  I want to execute a block of code 7 times ? (for loop)\n",
    "# if i say -  I Want to execute a block of code but i do not kow how many ties to execute it - (while)"
   ]
  },
  {
   "cell_type": "code",
   "execution_count": 30,
   "id": "24cf7839-af16-4b7f-965c-2d28a98d7a2e",
   "metadata": {},
   "outputs": [],
   "source": [
    "# Eg: Entering a password on a website - You either put in correct password or incorrect password\n",
    "# Coder - while loop \n",
    "# Coder -  for loop -  you entered incorrect passsword 3 times -  next time -  pls clink on forget password "
   ]
  },
  {
   "cell_type": "markdown",
   "id": "cac0387d-7440-4a23-90ad-996598ed9cfd",
   "metadata": {},
   "source": [
    "# Range()to print numbers (function in python)"
   ]
  },
  {
   "cell_type": "code",
   "execution_count": 33,
   "id": "2f5d6a4e-1e70-4f12-85c2-d727cb105df1",
   "metadata": {},
   "outputs": [],
   "source": [
    "# range (1,5,1)\n",
    "# start at 1\n",
    "# stop at 5-1 = 4\n",
    "# jump = 1"
   ]
  },
  {
   "cell_type": "code",
   "execution_count": 70,
   "id": "80c393ed-1c5d-4cc0-97e1-0e7849fd2256",
   "metadata": {},
   "outputs": [
    {
     "name": "stdout",
     "output_type": "stream",
     "text": [
      "2\n",
      "3\n",
      "4\n",
      "5\n",
      "6\n"
     ]
    }
   ],
   "source": [
    "for i in range(2,7,1):\n",
    "    print(i)\n",
    "    "
   ]
  },
  {
   "cell_type": "code",
   "execution_count": 72,
   "id": "7dd3a1d4-e712-45e5-b72e-f0e9023e6660",
   "metadata": {},
   "outputs": [],
   "source": [
    "# Start 2\n",
    "# stop = 7 - 1 = 6\n",
    "# jump = 1\n"
   ]
  },
  {
   "cell_type": "code",
   "execution_count": 74,
   "id": "b6014bef-97cc-4e26-848f-e7232ccd816a",
   "metadata": {},
   "outputs": [
    {
     "name": "stdout",
     "output_type": "stream",
     "text": [
      "2\n",
      "5\n",
      "8\n"
     ]
    }
   ],
   "source": [
    "for i in range(2,9,3):\n",
    "    print(i)"
   ]
  },
  {
   "cell_type": "code",
   "execution_count": 76,
   "id": "5195d047-0d14-4759-9e59-eef1e0df3539",
   "metadata": {},
   "outputs": [],
   "source": [
    "# start = 2\n",
    "# stop = 9-1 = 8\n",
    "# jump = 3\n",
    "\n",
    "#A = 2,5,8"
   ]
  },
  {
   "cell_type": "code",
   "execution_count": 84,
   "id": "7108cab0-799d-4b8e-9d52-82788552a3ea",
   "metadata": {},
   "outputs": [
    {
     "name": "stdout",
     "output_type": "stream",
     "text": [
      "2\n",
      "4\n",
      "6\n"
     ]
    }
   ],
   "source": [
    "# Syntax of for loop:\n",
    "for i in range(2,7,2):\n",
    "    print (i)\n",
    "    # This block of code will be executed"
   ]
  },
  {
   "cell_type": "code",
   "execution_count": 80,
   "id": "0a61ce75-6812-4780-924b-e8eafd5b38b8",
   "metadata": {},
   "outputs": [
    {
     "name": "stdout",
     "output_type": "stream",
     "text": [
      "Hello Max\n",
      "Hello Max\n",
      "Hello Max\n",
      "Hello Max\n"
     ]
    }
   ],
   "source": [
    "for i in range(2,6,1):\n",
    "    print(\"Hello Max\")\n"
   ]
  },
  {
   "cell_type": "code",
   "execution_count": 82,
   "id": "160fee7b-7912-4c6c-adcc-d29165892a76",
   "metadata": {},
   "outputs": [
    {
     "name": "stdout",
     "output_type": "stream",
     "text": [
      "Hello Max\n",
      "Hello Max\n",
      "Hello Max\n",
      "Hello Max\n"
     ]
    }
   ],
   "source": [
    "# start = 2\n",
    "# stop = 6-1 = 5\n",
    "# jump = 1\n",
    "\n",
    "#A = i will take these values 2,3,4,5\n",
    "\n",
    "for i in range(2,6,1):\n",
    "    print(\"Hello Max\")\n",
    "\n",
    "# 2, 3, 4, 5\n",
    "# i is taking valuees 4 times\n",
    "# We need to run the code 4 times"
   ]
  },
  {
   "cell_type": "code",
   "execution_count": 56,
   "id": "d135d0ea-961f-4de8-b549-f9fe7eb6990d",
   "metadata": {},
   "outputs": [
    {
     "name": "stdout",
     "output_type": "stream",
     "text": [
      "7\n",
      "8\n",
      "9\n",
      "10\n"
     ]
    }
   ],
   "source": [
    "# start = 7\n",
    "# stop = 11-1 = 10\n",
    "# jump = 1\n",
    "\n",
    "#A = i will take these values 7,8,9,10\n",
    "\n",
    "for i in range(7,11,1):\n",
    "    print(i)\n",
    "\n",
    "# 2, 3, 4, 5\n",
    "# i is taking valuees 4 times\n",
    "# We need to run the code 4 times"
   ]
  },
  {
   "cell_type": "code",
   "execution_count": 62,
   "id": "3a1e6caf-218d-4c66-8f99-cf0de8d782cb",
   "metadata": {},
   "outputs": [
    {
     "name": "stdout",
     "output_type": "stream",
     "text": [
      "7\n",
      "Hello Max\n",
      "Hello George\n",
      "8\n",
      "Hello Max\n",
      "Hello George\n",
      "9\n",
      "Hello Max\n",
      "Hello George\n",
      "10\n",
      "Hello Max\n",
      "Hello George\n"
     ]
    }
   ],
   "source": [
    "# start = 7\n",
    "# stop = 11-1 = 10\n",
    "# jump = 1\n",
    "\n",
    "# A = i will take these values 7,8,9,10\n",
    "# if i is taking 4 values, the python will execute for loop 4 times\n",
    "\n",
    "for i in range(7,11,1):\n",
    "    print (i)\n",
    "    print(\"Hello Max\")\n",
    "    print(\"Hello George\")\n",
    "    \n",
    "\n",
    "# 2, 3, 4, 5\n",
    "# i is taking valuees 4 times\n",
    "# We need to run the code 4 times"
   ]
  },
  {
   "cell_type": "code",
   "execution_count": 64,
   "id": "fc025e03-f5c5-4b53-9ed7-98b9fab307b3",
   "metadata": {},
   "outputs": [
    {
     "name": "stdout",
     "output_type": "stream",
     "text": [
      "Hello Max\n",
      "Hello Max\n",
      "Hello Max\n"
     ]
    }
   ],
   "source": [
    "# start = 1\n",
    "# stop = 4-1 = 5\n",
    "# jump = 1\n",
    "\n",
    "#A = i will take these values 1,2,3\n",
    "\n",
    "for i in range(1,4,1):\n",
    "    print(\"Hello Max\")\n",
    "\n",
    "# 2, 3, 4, 5\n",
    "# i is taking valuees 4 times\n",
    "# We need to run the code 4 times"
   ]
  },
  {
   "cell_type": "code",
   "execution_count": 68,
   "id": "29ed4a4a-c455-4ef1-bfbb-ba32e2a2de9a",
   "metadata": {},
   "outputs": [
    {
     "name": "stdout",
     "output_type": "stream",
     "text": [
      "Hello World\n",
      "1\n",
      "Hello World\n",
      "2\n",
      "Hello World\n",
      "3\n",
      "Hello World\n",
      "4\n",
      "Hello World\n",
      "5\n",
      "Hello World\n",
      "6\n",
      "Hello World\n",
      "7\n",
      "Hello World\n",
      "8\n",
      "Hello World\n",
      "9\n",
      "Hello World\n",
      "10\n",
      "Hello World\n",
      "11\n",
      "Hello World\n",
      "12\n",
      "Hello World\n",
      "13\n",
      "Hello World\n",
      "14\n",
      "Hello World\n",
      "15\n"
     ]
    }
   ],
   "source": [
    "for i in range(1,16,1):\n",
    "    print(\"Hello World\")\n",
    "    print(i)"
   ]
  },
  {
   "cell_type": "code",
   "execution_count": 86,
   "id": "bb767abe-f51f-42e0-8bef-88ebd1a99950",
   "metadata": {},
   "outputs": [],
   "source": [
    "# we are gicen a list and we are told that the no of element - \n",
    "# that we have in the list is the no. of times we need to iterate the for loop"
   ]
  },
  {
   "cell_type": "code",
   "execution_count": 92,
   "id": "1bffd765-4909-416a-bc63-de72426d2869",
   "metadata": {},
   "outputs": [
    {
     "data": {
      "text/plain": [
       "4"
      ]
     },
     "execution_count": 92,
     "metadata": {},
     "output_type": "execute_result"
    }
   ],
   "source": [
    "colour = [\"Red\",\"Green\",\"Blue\",\"Yellow\"]\n",
    "\n",
    "# len() helps you to understand the length of list\n",
    "len(colour)"
   ]
  },
  {
   "cell_type": "code",
   "execution_count": 94,
   "id": "bc032437-987e-415c-a5fa-f32e6f09d37e",
   "metadata": {},
   "outputs": [
    {
     "name": "stdout",
     "output_type": "stream",
     "text": [
      "Red\n",
      "Green\n",
      "Blue\n",
      "Yellow\n"
     ]
    }
   ],
   "source": [
    "for name in colour:\n",
    "    print(name)"
   ]
  },
  {
   "cell_type": "code",
   "execution_count": 98,
   "id": "d9f52a88-1c8b-4e60-bb7b-ab1eb28c148f",
   "metadata": {},
   "outputs": [
    {
     "data": {
      "text/plain": [
       "3"
      ]
     },
     "execution_count": 98,
     "metadata": {},
     "output_type": "execute_result"
    }
   ],
   "source": [
    "fruits = [\"orange\",\"apple\",\"grapes\"]\n",
    "len(fruits)"
   ]
  },
  {
   "cell_type": "code",
   "execution_count": 106,
   "id": "c75c1f4b-af62-4ebb-a429-da5d440dd9a0",
   "metadata": {},
   "outputs": [
    {
     "name": "stdout",
     "output_type": "stream",
     "text": [
      "orange\n",
      "apple\n",
      "grapes\n"
     ]
    }
   ],
   "source": [
    "for name in fruits:\n",
    "    print(name)\n",
    "\n",
    "# The latter part will always tell us how many times do we need to execute the code\n",
    "# If there are 3 elements in the list -> for loop will be executed 3 times\n",
    "# for loop goes to the 1st element -> name = \"orange\" -> print(\"orange\")\n",
    "# Once the block of code is executed -> the loop will go to the 2nd element\n",
    "# 2nd element is  \"apple\" - > print (\"apple\")\n",
    "# 3rd element is \"grapes\" -> print (\"grapes\")\n"
   ]
  },
  {
   "cell_type": "code",
   "execution_count": 112,
   "id": "183dae3c-3987-4930-8cac-95b4383a06e6",
   "metadata": {},
   "outputs": [
    {
     "name": "stdout",
     "output_type": "stream",
     "text": [
      "orange\n",
      "Hello world\n",
      "Hello Max\n",
      "apple\n",
      "Hello world\n",
      "Hello Max\n",
      "grapes\n",
      "Hello world\n",
      "Hello Max\n"
     ]
    }
   ],
   "source": [
    "fruits = [\"orange\",\"apple\",\"grapes\"]\n",
    "\n",
    "for name in fruits:\n",
    "    print(name)\n",
    "    print(\"Hello world\") # This block of code will be executed 3 times\n",
    "    print(\"Hello Max\") # This block of code will be executed 3 times\n",
    "\n",
    "# fruits will help us understand how many times for loop will run\n",
    "# frutits has 3 element -> for loop will run 3 times\n",
    "# 1st time the loop run -> name = \"orange\" -> run the block of code inside for loop \n",
    "# 2nd time the loop run -> name = \"apple\" ->  run the block of code inside for loop \n",
    "# 3nd time the loop run -> name = \"grapes\" -> run the block of code inside for loop "
   ]
  },
  {
   "cell_type": "code",
   "execution_count": 114,
   "id": "b3728274-351c-46fe-b441-8db8fc838db2",
   "metadata": {},
   "outputs": [
    {
     "name": "stdout",
     "output_type": "stream",
     "text": [
      "george\n",
      "edward\n",
      "michael\n",
      "raj\n"
     ]
    }
   ],
   "source": [
    "names = [\"george\", \"edward\" , \"michael\" , \"raj\"]\n",
    "\n",
    "for i in names:\n",
    "    print(i)"
   ]
  },
  {
   "cell_type": "code",
   "execution_count": 118,
   "id": "82b54d55-db1c-492b-ba4f-9d16ee8f6ec0",
   "metadata": {},
   "outputs": [
    {
     "name": "stdout",
     "output_type": "stream",
     "text": [
      "george\n",
      "Ankur\n",
      "edward\n",
      "Ankur\n",
      "michael\n",
      "Ankur\n",
      "raj\n",
      "Ankur\n"
     ]
    }
   ],
   "source": [
    "names = [\"george\", \"edward\" , \"michael\" , \"raj\"]\n",
    "\n",
    "for i in names:\n",
    "    print(i)\n",
    "    print(\"Ankur\")"
   ]
  },
  {
   "cell_type": "code",
   "execution_count": 134,
   "id": "0b8153cc-526f-49a2-947a-14330735cb15",
   "metadata": {},
   "outputs": [
    {
     "name": "stdout",
     "output_type": "stream",
     "text": [
      "0\n",
      "hello\n",
      "1\n",
      "hello\n",
      "2\n",
      "hello\n",
      "3\n",
      "hello\n",
      "4\n",
      "hello\n",
      "5\n",
      "hello\n",
      "6\n",
      "hello\n"
     ]
    }
   ],
   "source": [
    "for i in range(0,7,1):\n",
    "    print(i)\n",
    "    print(\"hello\")\n",
    "# start = 0\n",
    "# stop = 7-1 = 6 \n",
    "# jump = 1\n",
    "\n",
    "# 0,1,2,3,4,5,6    "
   ]
  },
  {
   "cell_type": "code",
   "execution_count": 136,
   "id": "af88588c-67ec-4388-9e8f-1af96692c60a",
   "metadata": {},
   "outputs": [
    {
     "data": {
      "text/plain": [
       "6"
      ]
     },
     "execution_count": 136,
     "metadata": {},
     "output_type": "execute_result"
    }
   ],
   "source": [
    "a = \"George\" #  string data type\n",
    "len (a)"
   ]
  },
  {
   "cell_type": "code",
   "execution_count": 148,
   "id": "05a82a47-1678-464b-b92f-11b6ce2212c9",
   "metadata": {},
   "outputs": [
    {
     "name": "stdout",
     "output_type": "stream",
     "text": [
      "G\n",
      "e\n",
      "o\n",
      "r\n",
      "g\n",
      "e\n"
     ]
    }
   ],
   "source": [
    "a = \"George\" \n",
    "\n",
    "for i in a: \n",
    "    print(i) # this code will run 6 times\n",
    "\n",
    "# 1st loop -> = \"g\"\n",
    "# 2st loop -> = \"e\"\n",
    "# 3st loop -> = \"o\"\n",
    "# 4st loop -> = \"r\"\n",
    "# 5st loop -> = \"g\"\n",
    "# 6st loop -> = \"e\"\n"
   ]
  },
  {
   "cell_type": "code",
   "execution_count": 150,
   "id": "78c6de27-71f8-41ad-ba1b-79cbeefa22b4",
   "metadata": {},
   "outputs": [
    {
     "name": "stdout",
     "output_type": "stream",
     "text": [
      "R\n",
      "a\n",
      "m\n"
     ]
    }
   ],
   "source": [
    "a = \"Ram\" \n",
    "\n",
    "for i in a: \n",
    "    print(i)\n",
    "\n",
    "    # this code will run 3 times\n",
    "\n",
    "# 1st loop -> = \"R\"\n",
    "# 2st loop -> = \"a\"\n",
    "# 3st loop -> = \"m\""
   ]
  },
  {
   "cell_type": "code",
   "execution_count": 152,
   "id": "40b183c9-275d-4ebf-b853-3d89e02978df",
   "metadata": {},
   "outputs": [
    {
     "data": {
      "text/plain": [
       "3"
      ]
     },
     "execution_count": 152,
     "metadata": {},
     "output_type": "execute_result"
    }
   ],
   "source": [
    "a = [\"Alex\",\"George\", \"Edward\"]\n",
    "len(a)"
   ]
  },
  {
   "cell_type": "code",
   "execution_count": 154,
   "id": "f2141b2e-adda-4a7a-9f02-37bf4df23517",
   "metadata": {},
   "outputs": [
    {
     "data": {
      "text/plain": [
       "6"
      ]
     },
     "execution_count": 154,
     "metadata": {},
     "output_type": "execute_result"
    }
   ],
   "source": [
    "a = \"George\"\n",
    "len(a)"
   ]
  },
  {
   "cell_type": "code",
   "execution_count": 156,
   "id": "9c4a5fde-8ffc-4707-afbf-40fc652a9206",
   "metadata": {},
   "outputs": [],
   "source": [
    "# lesson in list, it counts the total no. of elements\n",
    "# In String, it counts the total no. of letters"
   ]
  },
  {
   "cell_type": "code",
   "execution_count": 158,
   "id": "8a8fde94-ac63-49a4-ae3a-d1867613b77c",
   "metadata": {},
   "outputs": [
    {
     "name": "stdout",
     "output_type": "stream",
     "text": [
      "G\n",
      "hello world\n",
      "e\n",
      "hello world\n",
      "o\n",
      "hello world\n",
      "r\n",
      "hello world\n",
      "g\n",
      "hello world\n",
      "e\n",
      "hello world\n"
     ]
    }
   ],
   "source": [
    "a = \"George\"\n",
    "\n",
    "for i in a:\n",
    "    print(i)\n",
    "    print(\"hello world\")"
   ]
  },
  {
   "cell_type": "code",
   "execution_count": null,
   "id": "bed782b5-dc03-4422-be0e-ad3872b71050",
   "metadata": {},
   "outputs": [],
   "source": [
    "# for loop: range(1,4,1), a = [\"Max\",\"George\"], a = \"George\"\n",
    "# Lesson: all of the above can help you understand how many times, we need to run the loop"
   ]
  }
 ],
 "metadata": {
  "kernelspec": {
   "display_name": "Python [conda env:anaconda3] *",
   "language": "python",
   "name": "conda-env-anaconda3-py"
  },
  "language_info": {
   "codemirror_mode": {
    "name": "ipython",
    "version": 3
   },
   "file_extension": ".py",
   "mimetype": "text/x-python",
   "name": "python",
   "nbconvert_exporter": "python",
   "pygments_lexer": "ipython3",
   "version": "3.11.5"
  }
 },
 "nbformat": 4,
 "nbformat_minor": 5
}
