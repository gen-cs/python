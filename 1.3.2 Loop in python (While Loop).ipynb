{
 "cells": [
  {
   "cell_type": "markdown",
   "id": "66167b43-68c0-41ea-8e7d-77d997c74355",
   "metadata": {},
   "source": [
    "# While loop"
   ]
  },
  {
   "cell_type": "code",
   "execution_count": 3,
   "id": "fbeaae20-1494-4532-a2a1-3658bfa74225",
   "metadata": {},
   "outputs": [],
   "source": [
    "# When do we do know how many times we need to execute the code\n",
    "# Write a condition "
   ]
  },
  {
   "cell_type": "code",
   "execution_count": null,
   "id": "95b113fc-d2c0-4f49-9eb3-da4a20675fe1",
   "metadata": {},
   "outputs": [],
   "source": [
    "# Syantax of while loop is:\n",
    "while condition:\n",
    "    print(  )\n",
    "    "
   ]
  },
  {
   "cell_type": "code",
   "execution_count": 7,
   "id": "10e40455-6433-41f8-ae8f-03eb668c0eb6",
   "metadata": {},
   "outputs": [
    {
     "name": "stdout",
     "output_type": "stream",
     "text": [
      "1\n",
      "2\n",
      "3\n"
     ]
    }
   ],
   "source": [
    "# Print number untill its less than or equal to 5\n",
    "\n",
    "num = 1\n",
    "while num <= 3:\n",
    "    print(num)\n",
    "    num = num + 1"
   ]
  },
  {
   "cell_type": "code",
   "execution_count": 5,
   "id": "e926c1cc-527a-4309-b1d5-7eab3966370a",
   "metadata": {},
   "outputs": [],
   "source": [
    "# 1st loop = num = 1 -> num = 1+1 =2  # Updated value of number is 2\n",
    "# 2nd loop = num = 2 -> num = 2+1 =3  # updated value of number is 3\n",
    "# 3nd loop = num = 3 -> num = 3+1 =4  # updated value of number is 4\n",
    "# once the condition is false it will not execute the code"
   ]
  },
  {
   "cell_type": "code",
   "execution_count": null,
   "id": "2cab27bb-931e-475c-b18f-9bccd7373a41",
   "metadata": {},
   "outputs": [],
   "source": [
    "# Lesson: For Loop -> The increment happpens automatically -> it jumps from one element to another\n",
    "# While Loop -> You need to specify the increment or decrement"
   ]
  },
  {
   "cell_type": "code",
   "execution_count": 1,
   "id": "b0a21812-4962-4b03-9339-1754c5f64e8b",
   "metadata": {},
   "outputs": [
    {
     "name": "stdout",
     "output_type": "stream",
     "text": [
      "Hello World\n",
      "Hello World\n",
      "Hello World\n"
     ]
    }
   ],
   "source": [
    "num = 0\n",
    "while num < 3:\n",
    "    num = num + 1\n",
    "    print(\"Hello World\")\n",
    "\n",
    "# How many times this code will be executed - 3 times\n",
    "# 1st loop -> num = 0 + 1 = 1 -> print Hello World\n",
    "# 2nd loop -> num = 1 + 1 = 2 -> print Hello World\n",
    "# 3nd loop -> num = 2 + 1 = 3 -> print Hello World"
   ]
  },
  {
   "cell_type": "code",
   "execution_count": 3,
   "id": "6c669d25-4a9b-4343-901d-7a513cc8d8b1",
   "metadata": {},
   "outputs": [],
   "source": [
    "num = 0\n",
    "while num > 3:\n",
    "    num = num + 1\n",
    "    print(\"Hello World\")\n",
    "\n",
    "# How many times this code will be executed - if the condition is not met the code will not run."
   ]
  },
  {
   "cell_type": "code",
   "execution_count": 7,
   "id": "3b1e7f4d-0de4-483e-838a-decc8d62aec4",
   "metadata": {},
   "outputs": [
    {
     "name": "stdin",
     "output_type": "stream",
     "text": [
      "Enter the password:  Hey\n"
     ]
    },
    {
     "data": {
      "text/plain": [
       "'Hey'"
      ]
     },
     "execution_count": 7,
     "metadata": {},
     "output_type": "execute_result"
    }
   ],
   "source": [
    "# we use input so that we can take input from the user\n",
    "input(\"Enter the password: \")"
   ]
  },
  {
   "cell_type": "code",
   "execution_count": 5,
   "id": "212a9af1-f5d4-45e9-a501-15a52b736880",
   "metadata": {},
   "outputs": [
    {
     "name": "stdin",
     "output_type": "stream",
     "text": [
      "Enter the password:  Hey\n",
      "Enter the password:  Hello\n",
      "Enter the password:  Max\n",
      "Enter the password:  Python_123\n"
     ]
    },
    {
     "name": "stdout",
     "output_type": "stream",
     "text": [
      " 'Access Granted' \n"
     ]
    }
   ],
   "source": [
    "correct_password = \"Python_123\"\n",
    "password = \"\"\n",
    "while password != correct_password:\n",
    "    password = input(\"Enter the password: \") # The user will enter the password\n",
    "    \n",
    "print(\" 'Access Granted' \")\n",
    "\n",
    "# if the password in not macthing it will give again and again.\n",
    "    "
   ]
  },
  {
   "cell_type": "code",
   "execution_count": 3,
   "id": "2403a2f1-5f16-4e01-897e-42665e883f32",
   "metadata": {},
   "outputs": [],
   "source": [
    "# if the user enters incorrect password -> ask user to enter the password again \n",
    "# if user enters correct pasword -> Access Granted"
   ]
  },
  {
   "cell_type": "markdown",
   "id": "5df476eb-bdd4-4c7a-b023-1c29e0e37c12",
   "metadata": {},
   "source": [
    "# Continue and Break Statement in Python"
   ]
  },
  {
   "cell_type": "code",
   "execution_count": 9,
   "id": "258aa2f0-0944-403c-8971-646b9b5918dc",
   "metadata": {},
   "outputs": [],
   "source": [
    "# Break statement -> The break statement terminates the loop when certain confitions is met\n",
    "# It exist the loop immediately, even if there are iterations left\n",
    "# Typically used when you want to stop processing once a condition is satisfied"
   ]
  },
  {
   "cell_type": "code",
   "execution_count": 11,
   "id": "628418f3-0daa-48fe-be39-a1b0b3a0a3f5",
   "metadata": {},
   "outputs": [],
   "source": [
    "# Continious Statement -  The continious statement skips the corrent iteration and move to the next one\n",
    "# It does not terminate the loop, instead it avoids executing the remaining code for the current iterations"
   ]
  },
  {
   "cell_type": "code",
   "execution_count": null,
   "id": "2cd0fa21-c601-4e27-9440-80a83614e603",
   "metadata": {},
   "outputs": [],
   "source": [
    "# the break and continious statement are used inside thee loop (for loop or while loop)"
   ]
  },
  {
   "cell_type": "code",
   "execution_count": 13,
   "id": "9b65a988-4164-49d7-9062-ecd8c07e90d0",
   "metadata": {},
   "outputs": [
    {
     "name": "stdout",
     "output_type": "stream",
     "text": [
      "1\n",
      "2\n",
      "3\n",
      "4\n"
     ]
    }
   ],
   "source": [
    "for num in range(1,5,1):\n",
    "    print(num)"
   ]
  },
  {
   "cell_type": "code",
   "execution_count": 23,
   "id": "bfbf8cbb-2bdd-4d8e-a38d-cb9777920fff",
   "metadata": {},
   "outputs": [
    {
     "name": "stdout",
     "output_type": "stream",
     "text": [
      "1\n",
      "Break the loop\n"
     ]
    }
   ],
   "source": [
    "# Break statement\n",
    "\n",
    "for num in range(1,5,1):\n",
    "    if num == 2:\n",
    "        print(\"Break the loop\")\n",
    "        break\n",
    "    print(num)\n",
    "# 1st loop -> num = 1 -> print (1)\n",
    "# 2st loop -> num = 2 -> print (Break the loop) -> Execute break\n",
    "# Once python sees the break statment -> it will terminate the loop -> complete stop\n"
   ]
  },
  {
   "cell_type": "code",
   "execution_count": 25,
   "id": "3d3191c1-a126-4204-b2e9-7ebdc9ca3a6e",
   "metadata": {},
   "outputs": [
    {
     "name": "stdout",
     "output_type": "stream",
     "text": [
      "1\n",
      "2\n",
      "3\n",
      "Break the loop\n"
     ]
    }
   ],
   "source": [
    "# Break statement\n",
    "\n",
    "for num in range(1,5,1):\n",
    "    if num == 3:\n",
    "        print(num)\n",
    "        print(\"Break the loop\")\n",
    "        break\n",
    "    print(num)\n",
    "# 1st loop -> num = 1 -> print (1)\n",
    "# 2st loop -> num = 2 -> print (2)\n",
    "# 3st loop -> num = 3 -> print (Break the loop) -> Execute break -> it sees the break statement\n",
    "# Once python sees the break statment -> it will terminate the loop -> complete stop\n"
   ]
  },
  {
   "cell_type": "code",
   "execution_count": 29,
   "id": "35d42e18-986c-43a7-83db-be9b24cd4572",
   "metadata": {},
   "outputs": [
    {
     "name": "stdout",
     "output_type": "stream",
     "text": [
      "1\n",
      "2\n"
     ]
    }
   ],
   "source": [
    "for i in range(1,5,1):\n",
    "    print(i)\n",
    "    if i == 2:\n",
    "        break\n",
    "# Lesson: Even the loop had to run 4 times, but because of break statment , it ran only two times"
   ]
  },
  {
   "cell_type": "code",
   "execution_count": 31,
   "id": "0497414d-2bfc-400f-a8b2-6cd2c908b315",
   "metadata": {},
   "outputs": [
    {
     "name": "stdout",
     "output_type": "stream",
     "text": [
      "Hello\n",
      "Hello\n",
      "Hello\n",
      "Hello\n",
      "Hello\n",
      "Hello\n",
      "Hello\n",
      "Hello\n",
      "Hello\n",
      "Hello\n"
     ]
    }
   ],
   "source": [
    "for i in range(1,100,1):\n",
    "    print(\"Hello\")\n",
    "    if i == 10:\n",
    "        break"
   ]
  },
  {
   "cell_type": "code",
   "execution_count": null,
   "id": "6f5e4191-e3f9-43b5-b07d-372983ec6c7d",
   "metadata": {},
   "outputs": [],
   "source": [
    "# Lesson: When we using range(1,10) -> Python by default understands that - \n",
    "# jump is 1"
   ]
  },
  {
   "cell_type": "code",
   "execution_count": 39,
   "id": "1cd188ea-5387-461d-a2d6-d18dde7243b4",
   "metadata": {},
   "outputs": [
    {
     "name": "stdout",
     "output_type": "stream",
     "text": [
      "1\n",
      "2\n",
      "Skipping the number\n",
      "4\n"
     ]
    }
   ],
   "source": [
    "# Continious Statement -> It skips the current iteration and move to next one\n",
    "\n",
    "for num in range(1,5,1):\n",
    "    if num ==3:\n",
    "        print(\"Skipping the number\")\n",
    "        continue\n",
    "        print(num)\n",
    "    print(num)\n",
    "\n",
    "# 1st loop -> num = 1 -> print(1)\n",
    "# 2st loop -> num = 2 -> print(2)\n",
    "# 3st loop -> num = 3 -> print(3) -> print(\"Skipping the number\") -> Execute continious statement\n",
    "# 4th loop -> num = 4 -> print(4)\n",
    "# 5th loop -> num = 5 -> print(5)\n",
    "\n",
    "# Whatever block of code is below continious statement, it skip that"
   ]
  },
  {
   "cell_type": "code",
   "execution_count": 41,
   "id": "7d3e5cad-ede2-4733-91ec-7b6bd58903c8",
   "metadata": {},
   "outputs": [],
   "source": [
    "# Break statement \n",
    "# 1) Terminates or stop the loop\n",
    "# 2) When you need to stop the loop"
   ]
  },
  {
   "cell_type": "code",
   "execution_count": null,
   "id": "18cf58cb-ddf4-446e-bbdd-a4ce1b80da20",
   "metadata": {},
   "outputs": [],
   "source": [
    "# Continious statement\n",
    "# 1) Skip current iteration\n",
    "# 2) Moves to the next iteration "
   ]
  }
 ],
 "metadata": {
  "kernelspec": {
   "display_name": "Python [conda env:anaconda3] *",
   "language": "python",
   "name": "conda-env-anaconda3-py"
  },
  "language_info": {
   "codemirror_mode": {
    "name": "ipython",
    "version": 3
   },
   "file_extension": ".py",
   "mimetype": "text/x-python",
   "name": "python",
   "nbconvert_exporter": "python",
   "pygments_lexer": "ipython3",
   "version": "3.11.5"
  }
 },
 "nbformat": 4,
 "nbformat_minor": 5
}
