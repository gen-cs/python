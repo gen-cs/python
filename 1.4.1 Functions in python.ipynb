{
 "cells": [
  {
   "cell_type": "markdown",
   "id": "b528d507-2639-4b85-a076-1d5010ea6d22",
   "metadata": {},
   "source": [
    "# Functions in Python."
   ]
  },
  {
   "cell_type": "code",
   "execution_count": 1,
   "id": "d6d1bd14-fc6d-4aaa-b001-f22172a6f871",
   "metadata": {},
   "outputs": [],
   "source": [
    "# Functions in python"
   ]
  },
  {
   "cell_type": "code",
   "execution_count": 3,
   "id": "49b0af94-7b34-4955-8c92-611770b45fe5",
   "metadata": {},
   "outputs": [],
   "source": [
    "# Eg: Let's say we have a code of 20 lines\n",
    "# And lets say we need to copy paste teh 20 lines lets say ( 8 times or 15 times or 100 times or 1000 times)\n",
    "# That's why functions were created"
   ]
  },
  {
   "cell_type": "code",
   "execution_count": 5,
   "id": "56105052-ddee-4a4c-9628-d4a33b4f01db",
   "metadata": {},
   "outputs": [],
   "source": [
    "# Functions: A function is a block of resuauable code that performs a specific task.\n",
    "# it helps the programmer to make the code look clean, efficient and easier to use"
   ]
  },
  {
   "cell_type": "code",
   "execution_count": 7,
   "id": "3e523339-353b-4d08-8590-587ed74568d1",
   "metadata": {},
   "outputs": [],
   "source": [
    "# Syntax of creating a functon\n",
    "\n",
    "#def function_name(input parameters sed in the function):\n",
    "    # we added 20 lines of code here"
   ]
  },
  {
   "cell_type": "code",
   "execution_count": 9,
   "id": "5ae8fdf7-d131-460d-9734-1481fc5c9daa",
   "metadata": {},
   "outputs": [
    {
     "name": "stdout",
     "output_type": "stream",
     "text": [
      "9\n",
      "-1\n",
      "20\n",
      "0.8\n"
     ]
    }
   ],
   "source": [
    "a = 4\n",
    "b = 5\n",
    "c = a + b\n",
    "d = a - b\n",
    "e = a * b\n",
    "f = a/b\n",
    "\n",
    "print(c)\n",
    "print(d)\n",
    "print(e)\n",
    "print(f)"
   ]
  },
  {
   "cell_type": "code",
   "execution_count": 11,
   "id": "a8922538-fe46-4e7d-b35b-a408ca385f18",
   "metadata": {},
   "outputs": [
    {
     "name": "stdout",
     "output_type": "stream",
     "text": [
      "15\n",
      "5\n",
      "50\n",
      "2.0\n"
     ]
    }
   ],
   "source": [
    "# Calculator (Addtion, Subtraction, Multiplication, Division)\n",
    "# Lesson 1: Make sure to return the output variable in the function\n",
    "# Lesson 2: If in case we have 4 o/p variables to return, make sure to have 4 variables when you call the function\n",
    "\n",
    "def calculator(a,b):\n",
    "    c = a + b\n",
    "    d = a - b\n",
    "    e = a * b\n",
    "    f = a / b\n",
    "    print(c)\n",
    "    print(d)\n",
    "    print(e)\n",
    "    print(f)\n",
    "    return c,d,e,f\n",
    "    \n",
    "c,d,e,f = calculator(10,5)\n",
    "\n"
   ]
  },
  {
   "cell_type": "code",
   "execution_count": 13,
   "id": "f7516a2f-7d4a-42a6-aab3-dc1cf2903ff2",
   "metadata": {},
   "outputs": [
    {
     "name": "stdout",
     "output_type": "stream",
     "text": [
      "20\n",
      "10\n",
      "75\n",
      "3.0\n",
      "20\n",
      "10\n",
      "75\n",
      "3.0\n"
     ]
    }
   ],
   "source": [
    "b1,b2,b3,b4 = calculator(15,5)\n",
    "\n",
    "print(b1)\n",
    "print(b2)\n",
    "print(b3)\n",
    "print(b4)"
   ]
  },
  {
   "cell_type": "code",
   "execution_count": 15,
   "id": "f93715b6-1557-4667-9eac-1fe98b39ca8b",
   "metadata": {},
   "outputs": [
    {
     "name": "stdout",
     "output_type": "stream",
     "text": [
      "25\n",
      "15\n",
      "100\n",
      "4.0\n"
     ]
    }
   ],
   "source": [
    "c1,c2,c3,c4 = calculator(20,5)\n"
   ]
  },
  {
   "cell_type": "code",
   "execution_count": 17,
   "id": "a839dd35-175a-4bd8-a26f-b14400d18b04",
   "metadata": {},
   "outputs": [],
   "source": [
    "# If you want to check max and min of the given list\n",
    "# Name of the functions: Max_min\n",
    "# Input variable: list_numbers\n",
    "# Output variable = a,b\n",
    "def max_min(c):\n",
    "    a = max(c)\n",
    "    b = min(c)\n",
    "    print(a)\n",
    "    print(b)\n",
    "    return a,b\n",
    "\n",
    "# Here Max and Min are already inbuild function\n",
    "# But the function (max_min) is a user defined function"
   ]
  },
  {
   "cell_type": "code",
   "execution_count": 19,
   "id": "feba2e0c-542e-4c5f-bf73-eb08b9c8cc40",
   "metadata": {},
   "outputs": [
    {
     "name": "stdout",
     "output_type": "stream",
     "text": [
      "500\n",
      "1\n"
     ]
    }
   ],
   "source": [
    "# Lesson: Even though nums is different form C, python automatically understand\n",
    "# that nums is assigned to c\n",
    "# Lesson: Inside the bracket of the function -> Input\n",
    "\n",
    "nums = [1,2,100,200,500]\n",
    "\n",
    "# Calling the function\n",
    "a_max, b_min = max_min(nums)"
   ]
  },
  {
   "cell_type": "code",
   "execution_count": 21,
   "id": "3b7c59ab-da0b-4de2-9057-a5f4ecaf5352",
   "metadata": {},
   "outputs": [
    {
     "name": "stdout",
     "output_type": "stream",
     "text": [
      "500\n",
      "100\n"
     ]
    }
   ],
   "source": [
    "d = [100,200,300,400,500]\n",
    "b_max, b_min = max_min(d)"
   ]
  },
  {
   "cell_type": "code",
   "execution_count": 23,
   "id": "de746605-a81f-4ffb-b015-957ac5ecf098",
   "metadata": {},
   "outputs": [],
   "source": [
    "# To find even or odd number\n",
    "\n",
    "def Check_even_odd(n):\n",
    "    if n % 2 == 0:\n",
    "        print(\"The number is even\")\n",
    "    else:\n",
    "        print(\"The number is odd\")"
   ]
  },
  {
   "cell_type": "code",
   "execution_count": 25,
   "id": "0b17a736-86c0-42f4-a558-f867d212f846",
   "metadata": {},
   "outputs": [
    {
     "name": "stdout",
     "output_type": "stream",
     "text": [
      "The number is even\n"
     ]
    }
   ],
   "source": [
    "Check_even_odd(10)"
   ]
  },
  {
   "cell_type": "code",
   "execution_count": 27,
   "id": "aa0367c5-80b6-4017-8534-c0245069fc4c",
   "metadata": {},
   "outputs": [
    {
     "name": "stdout",
     "output_type": "stream",
     "text": [
      "The number is odd\n"
     ]
    }
   ],
   "source": [
    "Check_even_odd(17)"
   ]
  },
  {
   "cell_type": "code",
   "execution_count": 55,
   "id": "d446a7ea-96a0-48ca-b2ee-cc2c052d9f57",
   "metadata": {},
   "outputs": [],
   "source": [
    "# Calculate Simple intrest (SI = (P*R*T)/100)\n",
    "# Function name: calc_simple_interest\n",
    "# Input variable: principal, rate, time\n",
    "# Output variable: interest\n",
    "\n",
    "def calc_simple_interest(principal, rate, time): \n",
    "    interest = (principal * rate * time)/100\n",
    "    return interest"
   ]
  },
  {
   "cell_type": "code",
   "execution_count": 51,
   "id": "4c71dd81-dd8e-4a15-ad78-5396643e58e1",
   "metadata": {},
   "outputs": [],
   "source": [
    "a = calc_simple_interest(1000, 5, 2)"
   ]
  },
  {
   "cell_type": "code",
   "execution_count": 53,
   "id": "5d1d9a26-f144-4e0d-93a6-af851e0721a3",
   "metadata": {},
   "outputs": [
    {
     "name": "stdout",
     "output_type": "stream",
     "text": [
      "100.0\n"
     ]
    }
   ],
   "source": [
    "print(a)"
   ]
  },
  {
   "cell_type": "code",
   "execution_count": null,
   "id": "875ab0c1-a7e5-4467-bf62-50a0f5970794",
   "metadata": {},
   "outputs": [],
   "source": []
  },
  {
   "cell_type": "code",
   "execution_count": null,
   "id": "6b656a10-930d-46eb-bb6d-123992fb98da",
   "metadata": {},
   "outputs": [],
   "source": []
  },
  {
   "cell_type": "code",
   "execution_count": null,
   "id": "c5cd265a-a3db-4d0a-9664-981596767e2b",
   "metadata": {},
   "outputs": [],
   "source": []
  },
  {
   "cell_type": "code",
   "execution_count": null,
   "id": "be15a4ee-5be9-43d0-9216-c95dc9524c22",
   "metadata": {},
   "outputs": [],
   "source": []
  }
 ],
 "metadata": {
  "kernelspec": {
   "display_name": "Python [conda env:anaconda3] *",
   "language": "python",
   "name": "conda-env-anaconda3-py"
  },
  "language_info": {
   "codemirror_mode": {
    "name": "ipython",
    "version": 3
   },
   "file_extension": ".py",
   "mimetype": "text/x-python",
   "name": "python",
   "nbconvert_exporter": "python",
   "pygments_lexer": "ipython3",
   "version": "3.11.5"
  }
 },
 "nbformat": 4,
 "nbformat_minor": 5
}
