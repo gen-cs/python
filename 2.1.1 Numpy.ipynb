{
 "cells": [
  {
   "cell_type": "markdown",
   "id": "8b56e99a-aa6f-4db0-9e66-911dc6d9c7af",
   "metadata": {},
   "source": [
    "# Data Science Package"
   ]
  },
  {
   "cell_type": "code",
   "execution_count": 2,
   "id": "d78899fd-be44-4702-af03-2f8d3738676c",
   "metadata": {},
   "outputs": [],
   "source": [
    "# DS Packages are used for performing Data Analytics\n",
    "\n",
    "# There are various data science packages\n",
    "# 1) Numpy\n",
    "# 2) Pandas\n",
    "# 3) Matplotlib\n",
    "# 4) Seaborn\n",
    "# 5) Plotly"
   ]
  },
  {
   "cell_type": "markdown",
   "id": "133662ea-5645-442d-a4b1-f23c1ddb590a",
   "metadata": {},
   "source": [
    "# Numpy "
   ]
  },
  {
   "cell_type": "markdown",
   "id": "80a608d0-a3dd-406c-a201-90730efd3637",
   "metadata": {},
   "source": [
    "## Numpy -  Array operation & Math computing"
   ]
  },
  {
   "cell_type": "code",
   "execution_count": 5,
   "id": "c4b6c992-bf7a-4c1f-8f90-29c1cfd6ae53",
   "metadata": {},
   "outputs": [],
   "source": [
    "# List Data Type\n",
    "# 1) Numpy is faster and more effecient than List (Data Type)\n",
    "# 2) Provided build in mathematical functions (sum, min, max,mean, std, var)\n",
    "# 3) Essential for data science, machine learning and numerical computing"
   ]
  },
  {
   "cell_type": "markdown",
   "id": "d2f02907-4c8c-4a25-beaf-7143844f63d9",
   "metadata": {},
   "source": [
    "# Install Numpy"
   ]
  },
  {
   "cell_type": "code",
   "execution_count": 7,
   "id": "86e0d2bd-6d6a-4f1d-bb81-572d68ba4185",
   "metadata": {},
   "outputs": [],
   "source": [
    "# Install Numpy\n",
    "# when we install a DS package -> pip install name_of_the_package\n",
    "\n",
    "# pip install numpy\n",
    "# Conda install numpy"
   ]
  },
  {
   "cell_type": "code",
   "execution_count": 8,
   "id": "f47a7dd6-5e8d-4e45-8ce2-4f35062f43d5",
   "metadata": {},
   "outputs": [],
   "source": [
    "import numpy as np"
   ]
  },
  {
   "cell_type": "code",
   "execution_count": 9,
   "id": "1f624c8a-9721-4778-87f9-07311b946089",
   "metadata": {},
   "outputs": [
    {
     "data": {
      "text/plain": [
       "array([1, 2, 3, 4, 5])"
      ]
     },
     "execution_count": 9,
     "metadata": {},
     "output_type": "execute_result"
    }
   ],
   "source": [
    "# Create Arrays\n",
    "# 1D, 2D, 3D Arrays\n",
    "\n",
    "a1 = np.array([1,2,3,4,5])\n",
    "a1"
   ]
  },
  {
   "cell_type": "code",
   "execution_count": 10,
   "id": "e7950e0e-2db5-496b-a16f-47769984e3bc",
   "metadata": {},
   "outputs": [
    {
     "data": {
      "text/plain": [
       "array([2, 4, 6])"
      ]
     },
     "execution_count": 10,
     "metadata": {},
     "output_type": "execute_result"
    }
   ],
   "source": [
    "a2 = np.array([2,4,6])\n",
    "a2"
   ]
  },
  {
   "cell_type": "code",
   "execution_count": 11,
   "id": "6847a3aa-7367-4d1c-88e8-3752f40a3bd2",
   "metadata": {},
   "outputs": [
    {
     "data": {
      "text/plain": [
       "array([3, 5, 6])"
      ]
     },
     "execution_count": 11,
     "metadata": {},
     "output_type": "execute_result"
    }
   ],
   "source": [
    "a3 = np.array ([3,5,6])\n",
    "a3"
   ]
  },
  {
   "cell_type": "code",
   "execution_count": 12,
   "id": "33573458-1e64-4a41-ae60-672c61d313b9",
   "metadata": {},
   "outputs": [
    {
     "data": {
      "text/plain": [
       "array([[1, 2, 3],\n",
       "       [4, 5, 6]])"
      ]
     },
     "execution_count": 12,
     "metadata": {},
     "output_type": "execute_result"
    }
   ],
   "source": [
    "# 2D Array\n",
    "\n",
    "b1 = np.array([[1,2,3],[4,5,6]])\n",
    "b1"
   ]
  },
  {
   "cell_type": "code",
   "execution_count": 13,
   "id": "db32bec2-f5f9-474c-a3ae-977f0a65dbf3",
   "metadata": {},
   "outputs": [
    {
     "data": {
      "text/plain": [
       "array([[ 4,  5,  6, 10, 11],\n",
       "       [ 7,  8,  9, 10, 11]])"
      ]
     },
     "execution_count": 13,
     "metadata": {},
     "output_type": "execute_result"
    }
   ],
   "source": [
    "c1 = np.array([[4,5,6,10,11],[7,8,9,10,11]])\n",
    "c1"
   ]
  },
  {
   "cell_type": "code",
   "execution_count": 14,
   "id": "68977301-7acc-4670-b49a-0f691e208ed0",
   "metadata": {},
   "outputs": [
    {
     "name": "stdout",
     "output_type": "stream",
     "text": [
      "(2, 5)\n",
      "2\n",
      "10\n"
     ]
    }
   ],
   "source": [
    "# Array properties\n",
    "\n",
    "print(c1.shape) # Shape of my Array -> 2 Rows and 5 column\n",
    "print(c1.ndim) # Total no. of Dimensions\n",
    "print(c1.size) # Total no. of elements"
   ]
  },
  {
   "cell_type": "code",
   "execution_count": 15,
   "id": "e1425552-5717-4549-a9e4-4a99b012ea12",
   "metadata": {},
   "outputs": [
    {
     "name": "stdout",
     "output_type": "stream",
     "text": [
      "[[0. 0. 0.]\n",
      " [0. 0. 0.]\n",
      " [0. 0. 0.]]\n"
     ]
    }
   ],
   "source": [
    "# Create Special Arrays\n",
    "# Creating a 3x3 Matric of zeros\n",
    "print(np.zeros((3,3))) "
   ]
  },
  {
   "cell_type": "code",
   "execution_count": 16,
   "id": "8722b87e-0be8-49ac-a4dd-bb00ced9bbdf",
   "metadata": {},
   "outputs": [
    {
     "data": {
      "text/plain": [
       "array([[0., 0., 0.],\n",
       "       [0., 0., 0.],\n",
       "       [0., 0., 0.]])"
      ]
     },
     "execution_count": 16,
     "metadata": {},
     "output_type": "execute_result"
    }
   ],
   "source": [
    "(np.zeros((3,3)))"
   ]
  },
  {
   "cell_type": "code",
   "execution_count": 17,
   "id": "f52c7ccd-d523-40d8-9394-85ed07fce11a",
   "metadata": {},
   "outputs": [
    {
     "data": {
      "text/plain": [
       "array([[0., 0., 0.],\n",
       "       [0., 0., 0.],\n",
       "       [0., 0., 0.],\n",
       "       [0., 0., 0.]])"
      ]
     },
     "execution_count": 17,
     "metadata": {},
     "output_type": "execute_result"
    }
   ],
   "source": [
    "(np.zeros((4,3)))"
   ]
  },
  {
   "cell_type": "code",
   "execution_count": 18,
   "id": "0c97dea4-09d7-4e80-ad1d-dbbaf0ecafa9",
   "metadata": {},
   "outputs": [
    {
     "data": {
      "text/plain": [
       "array([[1., 1., 1., 1.],\n",
       "       [1., 1., 1., 1.],\n",
       "       [1., 1., 1., 1.],\n",
       "       [1., 1., 1., 1.]])"
      ]
     },
     "execution_count": 18,
     "metadata": {},
     "output_type": "execute_result"
    }
   ],
   "source": [
    "np.ones((4,4))"
   ]
  },
  {
   "cell_type": "code",
   "execution_count": 19,
   "id": "f614d14c-dfa2-402a-aecf-27e7448b0793",
   "metadata": {},
   "outputs": [
    {
     "data": {
      "text/plain": [
       "array([[1., 0., 0., 0.],\n",
       "       [0., 1., 0., 0.],\n",
       "       [0., 0., 1., 0.],\n",
       "       [0., 0., 0., 1.]])"
      ]
     },
     "execution_count": 19,
     "metadata": {},
     "output_type": "execute_result"
    }
   ],
   "source": [
    "# Identity Matrix - > Diagonal element is 1\n",
    "np.eye(4)"
   ]
  },
  {
   "cell_type": "code",
   "execution_count": 20,
   "id": "53a520f8-01a2-4534-a67e-693c62660fac",
   "metadata": {},
   "outputs": [
    {
     "data": {
      "text/plain": [
       "array([[7, 7, 7, 7, 7],\n",
       "       [7, 7, 7, 7, 7],\n",
       "       [7, 7, 7, 7, 7]])"
      ]
     },
     "execution_count": 20,
     "metadata": {},
     "output_type": "execute_result"
    }
   ],
   "source": [
    "np.full(((3,5)),7)"
   ]
  },
  {
   "cell_type": "code",
   "execution_count": 21,
   "id": "76b1f08b-4596-4f69-8f0f-a164a2b4d82d",
   "metadata": {},
   "outputs": [
    {
     "data": {
      "text/plain": [
       "5"
      ]
     },
     "execution_count": 21,
     "metadata": {},
     "output_type": "execute_result"
    }
   ],
   "source": [
    "# Array Properties\n",
    "\n",
    "a1.shape  # Shape of your array (Row,Column)\n",
    "a1.ndim  # Dimension of the Array -> 1D or 2D\n",
    "a1.size # Total no. of elements"
   ]
  },
  {
   "cell_type": "code",
   "execution_count": 22,
   "id": "46048e39-09cc-4927-925e-7534dfafa75b",
   "metadata": {},
   "outputs": [
    {
     "data": {
      "text/plain": [
       "array([[7, 7, 7],\n",
       "       [7, 7, 7],\n",
       "       [7, 7, 7]])"
      ]
     },
     "execution_count": 22,
     "metadata": {},
     "output_type": "execute_result"
    }
   ],
   "source": [
    "# Conclusion\n",
    "# Special arrays (Matrix)\n",
    "np.zeros((3,3)) # Create a matrix of all zeros\n",
    "np.ones((3,3))  # Create a matrix of all zeros\n",
    "np.eye(3)       # Create an identity matrix\n",
    "np.full((3,3),7)# Fill 3X3 Matrix by 7"
   ]
  },
  {
   "cell_type": "code",
   "execution_count": 23,
   "id": "68e8536e-e42a-426d-9ae1-ff22031af33d",
   "metadata": {},
   "outputs": [
    {
     "data": {
      "text/plain": [
       "array([[1, 2, 3],\n",
       "       [4, 5, 6]])"
      ]
     },
     "execution_count": 23,
     "metadata": {},
     "output_type": "execute_result"
    }
   ],
   "source": [
    "# 2D Array\n",
    "a1 = np.array ([[1,2,3],[4,5,6]])\n",
    "a1"
   ]
  },
  {
   "cell_type": "code",
   "execution_count": 24,
   "id": "0b49e49e-c2e8-4480-8030-2ca5873f2f43",
   "metadata": {},
   "outputs": [
    {
     "name": "stdout",
     "output_type": "stream",
     "text": [
      "21\n",
      "3.5\n",
      "1\n",
      "6\n",
      "1.707825127659933\n",
      "2.9166666666666665\n",
      "[5 7 9]\n",
      "[ 6 15]\n"
     ]
    }
   ],
   "source": [
    "# Mathematical Calculations in python\n",
    "\n",
    "print(a1.sum()) # Sum all the elements\n",
    "print(a1.mean()) # Mean or Avg\n",
    "print(a1.min()) # Minimum value\n",
    "print(a1.max()) # Maximm value\n",
    "print(a1.std()) #Standard deviation\n",
    "print(a1.var()) #Variance = square of standard deviation (1.707825127659933 ** 2 = 2.9166666666666665)\n",
    "print(a1.sum(axis = 0)) # Summed column wise\n",
    "print(a1.sum(axis = 1)) # Summed row wise\n"
   ]
  },
  {
   "cell_type": "code",
   "execution_count": 25,
   "id": "4ea9ebf4-ab31-4bd7-b87b-5f6f3cf11a07",
   "metadata": {},
   "outputs": [
    {
     "name": "stdout",
     "output_type": "stream",
     "text": [
      "[5 7 9]\n",
      "[-3 -3 -3]\n",
      "[ 4 10 18]\n",
      "[0.25 0.4  0.5 ]\n"
     ]
    }
   ],
   "source": [
    "# Basic array Operation\n",
    "\n",
    "a = np.array([1,2,3])\n",
    "b = np.array([4,5,6])\n",
    "\n",
    "print(a+b) # Addtion on Array\n",
    "print(a-b) # Subtraction on Array\n",
    "print(a*b) # Multiplication on Array\n",
    "print(a/b) # Division on Array"
   ]
  },
  {
   "cell_type": "code",
   "execution_count": 26,
   "id": "91a5d60f-751f-49bb-873d-ad7b51af2357",
   "metadata": {},
   "outputs": [
    {
     "data": {
      "text/plain": [
       "array([[0.46759522, 0.00481482, 0.7127386 ],\n",
       "       [0.9190046 , 0.06607732, 0.63146574],\n",
       "       [0.81713256, 0.87662658, 0.95179223]])"
      ]
     },
     "execution_count": 26,
     "metadata": {},
     "output_type": "execute_result"
    }
   ],
   "source": [
    "# Generate Random Numbers\n",
    "# This comes very handy when we work with Monte carlo simulation\n",
    "\n",
    "np.random.rand(3,3) # Generate random number between 0 and 1"
   ]
  },
  {
   "cell_type": "code",
   "execution_count": 27,
   "id": "27eb4aa6-5eea-4111-935c-7ba8c228fa19",
   "metadata": {},
   "outputs": [
    {
     "data": {
      "text/plain": [
       "array([[ 0.79844998,  0.28329335, -1.26050048],\n",
       "       [ 1.18558176,  1.52259584, -0.64409098],\n",
       "       [-1.09875475, -0.14124456, -1.72225554]])"
      ]
     },
     "execution_count": 27,
     "metadata": {},
     "output_type": "execute_result"
    }
   ],
   "source": [
    "np.random.randn(3,3) # Normally Distributed"
   ]
  },
  {
   "cell_type": "code",
   "execution_count": 28,
   "id": "f797a81e-e109-433b-883f-79cc6bc0cfd1",
   "metadata": {},
   "outputs": [
    {
     "data": {
      "text/plain": [
       "array([[55, 12, 15],\n",
       "       [38, 90, 87],\n",
       "       [44, 16, 86]])"
      ]
     },
     "execution_count": 28,
     "metadata": {},
     "output_type": "execute_result"
    }
   ],
   "source": [
    "np.random.randint(1,100,(3,3)) # Generated Random integer number b/w 1 and 100"
   ]
  },
  {
   "cell_type": "code",
   "execution_count": 29,
   "id": "3a55ed83-ff51-4db3-a456-91252ab8d3aa",
   "metadata": {},
   "outputs": [
    {
     "data": {
      "text/plain": [
       "array([[1, 2, 3],\n",
       "       [4, 5, 6]])"
      ]
     },
     "execution_count": 29,
     "metadata": {},
     "output_type": "execute_result"
    }
   ],
   "source": [
    "# Reshaping and Flattening Array\n",
    "\n",
    "a1 = np.array([[1,2,3],[4,5,6]])\n",
    "a1"
   ]
  },
  {
   "cell_type": "code",
   "execution_count": 30,
   "id": "ed0f435c-be5e-4a2b-a423-53af19f49b64",
   "metadata": {},
   "outputs": [
    {
     "data": {
      "text/plain": [
       "(2, 3)"
      ]
     },
     "execution_count": 30,
     "metadata": {},
     "output_type": "execute_result"
    }
   ],
   "source": [
    "a1.shape"
   ]
  },
  {
   "cell_type": "code",
   "execution_count": 31,
   "id": "6a90e22b-37cf-419d-827f-bf13074dcbe2",
   "metadata": {},
   "outputs": [
    {
     "data": {
      "text/plain": [
       "array([[1, 2],\n",
       "       [3, 4],\n",
       "       [5, 6]])"
      ]
     },
     "execution_count": 31,
     "metadata": {},
     "output_type": "execute_result"
    }
   ],
   "source": [
    "# Reshape the arrey\n",
    "a1.reshape(3,2)"
   ]
  },
  {
   "cell_type": "code",
   "execution_count": 32,
   "id": "7747833f-4855-44fc-a785-5915ec601cf1",
   "metadata": {},
   "outputs": [
    {
     "data": {
      "text/plain": [
       "array([1, 2, 3, 4, 5, 6])"
      ]
     },
     "execution_count": 32,
     "metadata": {},
     "output_type": "execute_result"
    }
   ],
   "source": [
    "# Flattent the Array\n",
    "a1.flatten()"
   ]
  },
  {
   "cell_type": "code",
   "execution_count": 33,
   "id": "c3517111-98cf-4cd9-b74b-2db795d2115b",
   "metadata": {},
   "outputs": [
    {
     "data": {
      "text/plain": [
       "array([1, 2, 3, 4, 5, 6, 7, 8, 9])"
      ]
     },
     "execution_count": 33,
     "metadata": {},
     "output_type": "execute_result"
    }
   ],
   "source": [
    "# Generate Sequence of Numbers\n",
    "\n",
    "# start = 1\n",
    "# stop = 10-1 =1\n",
    "# jump/step = 1\n",
    "\n",
    "np.arange(1,10,1)"
   ]
  },
  {
   "cell_type": "code",
   "execution_count": 34,
   "id": "ab14a859-597c-477a-8a20-05a3b33e6b2b",
   "metadata": {},
   "outputs": [
    {
     "data": {
      "text/plain": [
       "array([1, 3, 5, 7, 9])"
      ]
     },
     "execution_count": 34,
     "metadata": {},
     "output_type": "execute_result"
    }
   ],
   "source": [
    "np.arange(1,10,2)"
   ]
  },
  {
   "cell_type": "code",
   "execution_count": 35,
   "id": "eba72714-3c0a-4365-b4a6-351bd3356c84",
   "metadata": {},
   "outputs": [
    {
     "data": {
      "text/plain": [
       "array([1, 4, 7])"
      ]
     },
     "execution_count": 35,
     "metadata": {},
     "output_type": "execute_result"
    }
   ],
   "source": [
    "np.arange(1,10,3)"
   ]
  },
  {
   "cell_type": "code",
   "execution_count": 36,
   "id": "ed5aaa6b-7576-4a2e-a844-5fb2a2d5934d",
   "metadata": {},
   "outputs": [
    {
     "data": {
      "text/plain": [
       "array([0.  , 0.25, 0.5 , 0.75, 1.  ])"
      ]
     },
     "execution_count": 36,
     "metadata": {},
     "output_type": "execute_result"
    }
   ],
   "source": [
    "# Generate number of equal space\n",
    "np.linspace(0,1,5)"
   ]
  },
  {
   "cell_type": "code",
   "execution_count": 37,
   "id": "3e39435a-ee61-48db-a1d6-1f98358fe6e2",
   "metadata": {},
   "outputs": [
    {
     "data": {
      "text/plain": [
       "array([1., 1., 1., 1., 1.])"
      ]
     },
     "execution_count": 37,
     "metadata": {},
     "output_type": "execute_result"
    }
   ],
   "source": [
    "np.linspace(1,1,5)"
   ]
  },
  {
   "cell_type": "code",
   "execution_count": 38,
   "id": "30a4cc69-cbcc-47d7-819d-d4f7bbfc10b2",
   "metadata": {},
   "outputs": [
    {
     "data": {
      "text/plain": [
       "array([1., 2., 3., 4., 5.])"
      ]
     },
     "execution_count": 38,
     "metadata": {},
     "output_type": "execute_result"
    }
   ],
   "source": [
    "np.linspace(1,5,5)"
   ]
  },
  {
   "cell_type": "code",
   "execution_count": 39,
   "id": "e8aa6848-ab8e-4ff7-8ee4-e1f80598a454",
   "metadata": {},
   "outputs": [
    {
     "data": {
      "text/plain": [
       "array([ 1.  ,  3.25,  5.5 ,  7.75, 10.  ])"
      ]
     },
     "execution_count": 39,
     "metadata": {},
     "output_type": "execute_result"
    }
   ],
   "source": [
    "np.linspace(1,10,5)"
   ]
  },
  {
   "cell_type": "code",
   "execution_count": 83,
   "id": "ba401ed6-9396-4a25-ae00-33a69fd6916b",
   "metadata": {},
   "outputs": [
    {
     "data": {
      "text/plain": [
       "array([ 1.,  2.,  3.,  4.,  5.,  6.,  7.,  8.,  9., 10.])"
      ]
     },
     "execution_count": 83,
     "metadata": {},
     "output_type": "execute_result"
    }
   ],
   "source": [
    "np.linspace(1,10,10)"
   ]
  },
  {
   "cell_type": "code",
   "execution_count": 41,
   "id": "582413ad-a3f0-4e6d-9525-15d1f5436cb4",
   "metadata": {},
   "outputs": [
    {
     "data": {
      "text/plain": [
       "array([0.  , 1.25, 2.5 , 3.75, 5.  ])"
      ]
     },
     "execution_count": 41,
     "metadata": {},
     "output_type": "execute_result"
    }
   ],
   "source": [
    "np.linspace(0,5,5)"
   ]
  },
  {
   "cell_type": "code",
   "execution_count": 42,
   "id": "42959e2f-075a-4970-9499-7035863f430e",
   "metadata": {},
   "outputs": [
    {
     "data": {
      "text/plain": [
       "array([1, 3, 5, 7, 9])"
      ]
     },
     "execution_count": 42,
     "metadata": {},
     "output_type": "execute_result"
    }
   ],
   "source": [
    "np.arange(1,10,2)"
   ]
  },
  {
   "cell_type": "markdown",
   "id": "3bb5da66-c8af-4229-889c-620ba152ed14",
   "metadata": {},
   "source": [
    "# Thank you!"
   ]
  },
  {
   "cell_type": "code",
   "execution_count": null,
   "id": "c6896fae-7890-4c93-a17c-3caec570fbd9",
   "metadata": {},
   "outputs": [],
   "source": []
  }
 ],
 "metadata": {
  "kernelspec": {
   "display_name": "Python [conda env:anaconda3] *",
   "language": "python",
   "name": "conda-env-anaconda3-py"
  },
  "language_info": {
   "codemirror_mode": {
    "name": "ipython",
    "version": 3
   },
   "file_extension": ".py",
   "mimetype": "text/x-python",
   "name": "python",
   "nbconvert_exporter": "python",
   "pygments_lexer": "ipython3",
   "version": "3.11.5"
  }
 },
 "nbformat": 4,
 "nbformat_minor": 5
}
