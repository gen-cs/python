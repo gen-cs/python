{
 "cells": [
  {
   "cell_type": "markdown",
   "id": "ab6485b4-d2f8-4216-9b46-a8a71dcbd135",
   "metadata": {},
   "source": [
    "# Pandas"
   ]
  },
  {
   "cell_type": "code",
   "execution_count": 3,
   "id": "b74a48bf-8b32-48b0-974d-80627427ab6e",
   "metadata": {},
   "outputs": [],
   "source": [
    "# Pandas is a data science package which is used for performing data analysis and data manipulation"
   ]
  },
  {
   "cell_type": "code",
   "execution_count": 7,
   "id": "58333153-6eca-4d38-91eb-296dbfbb6b9d",
   "metadata": {},
   "outputs": [],
   "source": [
    "# Pandas has two main structures:\n",
    "# 1) Series (1D Labeled array)\n",
    "# 2) Data Frame(2D Labeled Array)"
   ]
  },
  {
   "cell_type": "code",
   "execution_count": 9,
   "id": "a39526c9-32f1-4357-98aa-4d5d8887983c",
   "metadata": {},
   "outputs": [
    {
     "data": {
      "text/plain": [
       "array([100, 200, 300, 400, 500])"
      ]
     },
     "execution_count": 9,
     "metadata": {},
     "output_type": "execute_result"
    }
   ],
   "source": [
    "import numpy as np\n",
    "a1 = np.array([100,200,300,400,500])\n",
    "a1"
   ]
  },
  {
   "cell_type": "code",
   "execution_count": 11,
   "id": "44ead19e-172c-44ef-a90e-89333a1ff4da",
   "metadata": {},
   "outputs": [],
   "source": [
    "# Install pandas\n",
    "import pandas as pd"
   ]
  },
  {
   "cell_type": "code",
   "execution_count": 13,
   "id": "33a61fb5-2cb7-4d14-a0b8-93edff0622c2",
   "metadata": {},
   "outputs": [
    {
     "data": {
      "text/plain": [
       "0    10\n",
       "1    20\n",
       "2    30\n",
       "dtype: int64"
      ]
     },
     "execution_count": 13,
     "metadata": {},
     "output_type": "execute_result"
    }
   ],
   "source": [
    "# Create a Series\n",
    "\n",
    "data = [10,20,30]\n",
    "df = pd.Series(data)\n",
    "df"
   ]
  },
  {
   "cell_type": "code",
   "execution_count": 15,
   "id": "68ffa60b-7635-4759-9401-418e7e97b78d",
   "metadata": {},
   "outputs": [
    {
     "data": {
      "text/plain": [
       "0       raz\n",
       "1    michel\n",
       "2    george\n",
       "dtype: object"
      ]
     },
     "execution_count": 15,
     "metadata": {},
     "output_type": "execute_result"
    }
   ],
   "source": [
    "data = ['raz','michel','george']\n",
    "df = pd.Series(data)\n",
    "df"
   ]
  },
  {
   "cell_type": "code",
   "execution_count": 17,
   "id": "af2b8aca-4aae-48fd-a5f9-ac0bf0e3f643",
   "metadata": {},
   "outputs": [
    {
     "data": {
      "text/plain": [
       "a    1\n",
       "b    2\n",
       "c    3\n",
       "dtype: int64"
      ]
     },
     "execution_count": 17,
     "metadata": {},
     "output_type": "execute_result"
    }
   ],
   "source": [
    "# Create a Series: Dictionary\n",
    "\n",
    "data = {'a':1, 'b':2, 'c':3}\n",
    "df = pd.Series(data)\n",
    "df"
   ]
  },
  {
   "cell_type": "code",
   "execution_count": 19,
   "id": "0b7c924e-499e-408b-b24d-626a2e3db596",
   "metadata": {},
   "outputs": [
    {
     "data": {
      "text/plain": [
       "George       100\n",
       "max           82\n",
       "stephanie     95\n",
       "dtype: int64"
      ]
     },
     "execution_count": 19,
     "metadata": {},
     "output_type": "execute_result"
    }
   ],
   "source": [
    "# Create a Series: Dictionary\n",
    "\n",
    "data = {'George':100, 'max':82, 'stephanie':95}\n",
    "df = pd.Series(data)\n",
    "df"
   ]
  },
  {
   "cell_type": "code",
   "execution_count": 27,
   "id": "f9bb17c8-5b81-4891-ac88-0a1f87c43fa2",
   "metadata": {},
   "outputs": [],
   "source": [
    "# Lesson: If i want to have default lables, i can use list \n",
    "# Lesson: if i want to create manual lables, i will have to use dictionary or i can provide index to my Series"
   ]
  },
  {
   "cell_type": "code",
   "execution_count": 29,
   "id": "1a32ab8d-c866-48bc-ba95-726e186494ae",
   "metadata": {},
   "outputs": [
    {
     "data": {
      "text/plain": [
       "0    a\n",
       "1    b\n",
       "2    c\n",
       "3    d\n",
       "dtype: object"
      ]
     },
     "execution_count": 29,
     "metadata": {},
     "output_type": "execute_result"
    }
   ],
   "source": [
    "data = np.array(['a','b','c','d']) # unlables array\n",
    "df = pd.Series(data) #labeled array\n",
    "df"
   ]
  },
  {
   "cell_type": "code",
   "execution_count": 34,
   "id": "dd747e3e-cebe-451b-9f22-c13439759a27",
   "metadata": {},
   "outputs": [
    {
     "data": {
      "text/plain": [
       "1    a\n",
       "2    b\n",
       "3    c\n",
       "4    d\n",
       "dtype: object"
      ]
     },
     "execution_count": 34,
     "metadata": {},
     "output_type": "execute_result"
    }
   ],
   "source": [
    "data = np.array(['a','b','c','d']) # unlables array\n",
    "df = pd.Series(data, index = ([1,2,3,4])) #labeled array\n",
    "df"
   ]
  },
  {
   "cell_type": "code",
   "execution_count": 47,
   "id": "a7aefcfc-2835-4d31-884b-7ee2f3515b6d",
   "metadata": {},
   "outputs": [
    {
     "data": {
      "text/plain": [
       "1    a\n",
       "2    b\n",
       "3    c\n",
       "4    d\n",
       "dtype: object"
      ]
     },
     "execution_count": 47,
     "metadata": {},
     "output_type": "execute_result"
    }
   ],
   "source": [
    "# Indexing in Series\n",
    "data = np.array(['a','b','c','d']) # unlables array\n",
    "df = pd.Series(data, index = ([1,2,3,4])) #labeled array\n",
    "df"
   ]
  },
  {
   "cell_type": "code",
   "execution_count": 57,
   "id": "cac1625d-4392-49d2-8bbe-bf187dbd737a",
   "metadata": {},
   "outputs": [
    {
     "data": {
      "text/plain": [
       "'a'"
      ]
     },
     "execution_count": 57,
     "metadata": {},
     "output_type": "execute_result"
    }
   ],
   "source": [
    "# Access the 1st element\n",
    "df[1]"
   ]
  },
  {
   "cell_type": "code",
   "execution_count": 59,
   "id": "5dc48195-6fd9-4141-8ac8-ae64a8b07f14",
   "metadata": {},
   "outputs": [
    {
     "data": {
      "text/plain": [
       "'b'"
      ]
     },
     "execution_count": 59,
     "metadata": {},
     "output_type": "execute_result"
    }
   ],
   "source": [
    "# Access the 1st element\n",
    "df[2]"
   ]
  },
  {
   "cell_type": "code",
   "execution_count": 61,
   "id": "22463e84-613f-4c19-87ca-c64e43390c7f",
   "metadata": {},
   "outputs": [
    {
     "data": {
      "text/plain": [
       "'c'"
      ]
     },
     "execution_count": 61,
     "metadata": {},
     "output_type": "execute_result"
    }
   ],
   "source": [
    "# Access the 1st element\n",
    "df[3]"
   ]
  },
  {
   "cell_type": "code",
   "execution_count": 120,
   "id": "09c0f5e1-a459-40ea-9c0f-c5a85eb7e745",
   "metadata": {},
   "outputs": [
    {
     "data": {
      "text/plain": [
       "1    a\n",
       "2    b\n",
       "3    c\n",
       "4    d\n",
       "dtype: object"
      ]
     },
     "execution_count": 120,
     "metadata": {},
     "output_type": "execute_result"
    }
   ],
   "source": [
    "# Slicing in Series\n",
    "data = np.array(['a','b','c','d']) # unlables array\n",
    "df = pd.Series(data, index = ([1,2,3,4])) #labeled array\n",
    "df"
   ]
  },
  {
   "cell_type": "code",
   "execution_count": 122,
   "id": "f3546fc1-5efa-48b6-8b7c-a881a756944f",
   "metadata": {},
   "outputs": [
    {
     "data": {
      "text/plain": [
       "1    a\n",
       "2    b\n",
       "dtype: object"
      ]
     },
     "execution_count": 122,
     "metadata": {},
     "output_type": "execute_result"
    }
   ],
   "source": [
    "# start = 0\n",
    "# stop = 2-1 = 1\n",
    "df[0:2]"
   ]
  },
  {
   "cell_type": "code",
   "execution_count": 124,
   "id": "7c97cad4-f9c8-4738-bc26-f821a3ae6902",
   "metadata": {},
   "outputs": [
    {
     "data": {
      "text/plain": [
       "3    c\n",
       "4    d\n",
       "dtype: object"
      ]
     },
     "execution_count": 124,
     "metadata": {},
     "output_type": "execute_result"
    }
   ],
   "source": [
    "# Grab c and d\n",
    "#start = 2\n",
    "#stop = 4-1 =3 \n",
    "df[2:4]"
   ]
  },
  {
   "cell_type": "code",
   "execution_count": 126,
   "id": "c5ed20ee-0374-4f37-b7e6-7e0c096ba9e2",
   "metadata": {},
   "outputs": [
    {
     "data": {
      "text/plain": [
       "0    1.0\n",
       "1    2.0\n",
       "2    NaN\n",
       "3    4.0\n",
       "4    5.0\n",
       "dtype: float64"
      ]
     },
     "execution_count": 126,
     "metadata": {},
     "output_type": "execute_result"
    }
   ],
   "source": [
    "# Basic Operations on Series\n",
    "# np.nan = There is no value in here = this in not 0 = Blank\n",
    "\n",
    "df = pd.Series([1,2,np.nan,4,5])\n",
    "df"
   ]
  },
  {
   "cell_type": "code",
   "execution_count": 128,
   "id": "281a1ab2-66a1-495c-be64-341a72afc0e4",
   "metadata": {},
   "outputs": [
    {
     "data": {
      "text/plain": [
       "12.0"
      ]
     },
     "execution_count": 128,
     "metadata": {},
     "output_type": "execute_result"
    }
   ],
   "source": [
    "# Sum (1 + 2 + 4 + 5)\n",
    "df.sum()"
   ]
  },
  {
   "cell_type": "code",
   "execution_count": 130,
   "id": "24635027-45cb-443c-bc26-c6483ff02d80",
   "metadata": {},
   "outputs": [
    {
     "data": {
      "text/plain": [
       "3.0"
      ]
     },
     "execution_count": 130,
     "metadata": {},
     "output_type": "execute_result"
    }
   ],
   "source": [
    "# Mean or Average (1 + 2 + 4 + 5)/4\n",
    "df.mean()"
   ]
  },
  {
   "cell_type": "code",
   "execution_count": 107,
   "id": "d9cd4f9b-94bd-4c1e-a93b-364fdaf44415",
   "metadata": {},
   "outputs": [
    {
     "data": {
      "text/plain": [
       "200.0"
      ]
     },
     "execution_count": 107,
     "metadata": {},
     "output_type": "execute_result"
    }
   ],
   "source": [
    "# Median -> It arrange the value in ascending order\n",
    "# 1,2,4,5 -> Avg of middle 2 (Avg of 4+2)\n",
    "# it will see the mid part\n",
    "df.median()"
   ]
  },
  {
   "cell_type": "code",
   "execution_count": 112,
   "id": "6527437e-7999-4e4c-a012-76b915980f7c",
   "metadata": {},
   "outputs": [
    {
     "data": {
      "text/plain": [
       "200.0"
      ]
     },
     "execution_count": 112,
     "metadata": {},
     "output_type": "execute_result"
    }
   ],
   "source": [
    "df = pd.Series([200,100,300,50,500])\n",
    "# Ascending order -> 50,100,200,300,500\n",
    "df.median()"
   ]
  },
  {
   "cell_type": "code",
   "execution_count": 132,
   "id": "96229bf8-08ab-4523-b24a-f4091e7fe93c",
   "metadata": {},
   "outputs": [
    {
     "data": {
      "text/plain": [
       "1.8257418583505538"
      ]
     },
     "execution_count": 132,
     "metadata": {},
     "output_type": "execute_result"
    }
   ],
   "source": [
    "# Standrad Deviation\n",
    "df.std()"
   ]
  },
  {
   "cell_type": "code",
   "execution_count": 140,
   "id": "63c0bba5-65e5-405d-ab28-c64c603a1192",
   "metadata": {},
   "outputs": [
    {
     "data": {
      "text/plain": [
       "0    False\n",
       "1    False\n",
       "2     True\n",
       "3    False\n",
       "4    False\n",
       "dtype: bool"
      ]
     },
     "execution_count": 140,
     "metadata": {},
     "output_type": "execute_result"
    }
   ],
   "source": [
    "# Missing Values \n",
    "# Value of true = 1\n",
    "# Value of False = 0\n",
    "df.isnull()"
   ]
  },
  {
   "cell_type": "code",
   "execution_count": 142,
   "id": "82639639-ee52-4f1a-a647-3ad4a9d4575e",
   "metadata": {},
   "outputs": [
    {
     "data": {
      "text/plain": [
       "1"
      ]
     },
     "execution_count": 142,
     "metadata": {},
     "output_type": "execute_result"
    }
   ],
   "source": [
    "# Missing Values \n",
    "# 1 Million records\n",
    "df.isnull().sum()"
   ]
  },
  {
   "cell_type": "code",
   "execution_count": 144,
   "id": "819c7012-2627-4bd7-9205-fd09f50d5199",
   "metadata": {},
   "outputs": [
    {
     "data": {
      "text/plain": [
       "0     True\n",
       "1     True\n",
       "2    False\n",
       "3     True\n",
       "4     True\n",
       "dtype: bool"
      ]
     },
     "execution_count": 144,
     "metadata": {},
     "output_type": "execute_result"
    }
   ],
   "source": [
    "# \n",
    "df.notnull()"
   ]
  },
  {
   "cell_type": "code",
   "execution_count": 146,
   "id": "0bb17dd7-cdf6-47bb-8e48-81901cc8f0be",
   "metadata": {},
   "outputs": [
    {
     "data": {
      "text/plain": [
       "4"
      ]
     },
     "execution_count": 146,
     "metadata": {},
     "output_type": "execute_result"
    }
   ],
   "source": [
    "df.notnull().sum()"
   ]
  },
  {
   "cell_type": "code",
   "execution_count": 152,
   "id": "f35939d4-0dc4-46bd-819a-9f003fb83b0d",
   "metadata": {},
   "outputs": [
    {
     "data": {
      "text/plain": [
       "a    1\n",
       "b    2\n",
       "c    3\n",
       "dtype: int64"
      ]
     },
     "execution_count": 152,
     "metadata": {},
     "output_type": "execute_result"
    }
   ],
   "source": [
    "# Conclusion\n",
    "\n",
    "df = pd.Series([1,2,3], index = ['a','b','c'])\n",
    "df"
   ]
  },
  {
   "cell_type": "code",
   "execution_count": null,
   "id": "deb5107c-36ee-4e24-849a-58d559b17f2a",
   "metadata": {},
   "outputs": [],
   "source": [
    "# Indexing & Slicing\n",
    "df[0] # 1st element\n",
    "df[1] # 2nd element\n",
    "df[0:4] # start = 0, stop = 4-1 =3 -> print from index 0 till 3"
   ]
  },
  {
   "cell_type": "code",
   "execution_count": null,
   "id": "bcb2433b-87dc-4972-9d04-3a76fe0a5d9c",
   "metadata": {},
   "outputs": [],
   "source": [
    "## Basic operation\n",
    "\n",
    "# df.sum()\n",
    "# df.mean()\n",
    "# df.median()\n",
    "# df.std()\n",
    "# df.isnull()\n",
    "# df.notnull()"
   ]
  },
  {
   "cell_type": "code",
   "execution_count": null,
   "id": "5c1a0715-8b1f-45ea-9a83-49cd5acb4279",
   "metadata": {},
   "outputs": [],
   "source": [
    "# Series us 1d Numpy\n",
    "# 1D Numpy has no indexing associated with it\n",
    "# Series has indexing associated with it"
   ]
  },
  {
   "cell_type": "code",
   "execution_count": null,
   "id": "10384767-f88a-41ed-82c7-f17263adb25b",
   "metadata": {},
   "outputs": [],
   "source": []
  }
 ],
 "metadata": {
  "kernelspec": {
   "display_name": "Python [conda env:anaconda3] *",
   "language": "python",
   "name": "conda-env-anaconda3-py"
  },
  "language_info": {
   "codemirror_mode": {
    "name": "ipython",
    "version": 3
   },
   "file_extension": ".py",
   "mimetype": "text/x-python",
   "name": "python",
   "nbconvert_exporter": "python",
   "pygments_lexer": "ipython3",
   "version": "3.11.5"
  }
 },
 "nbformat": 4,
 "nbformat_minor": 5
}
